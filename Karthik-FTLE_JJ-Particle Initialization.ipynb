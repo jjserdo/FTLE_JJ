{
 "cells": [
  {
   "cell_type": "markdown",
   "id": "767113d7",
   "metadata": {},
   "source": [
    "# Finite Time Lyapunov Exponent (FTLE) analysis\n",
    "### Author: Justine John (JJ) A. Serdoncillo \n",
    "### Date Created: August 1, 2023\n",
    "---\n",
    "#### Updates due to previous concerns\n",
    "- [x] fixing initialization of particles\n",
    "    - no more overlapping with airfoil\n",
    "- fixing particle boundary crossing\n",
    "    - [ ] 0 velocity\n",
    "    - [ ] delete\n",
    "    - [ ] pertube to outside\n",
    "        - teleport\n",
    "        - mirror bounce\n",
    "- fixing particle trajectory outside of bounds\n",
    "    - convect same as freestream\n",
    "    - velocity on edge of rectangle\n",
    "---\n",
    "\n",
    "# <font color='289C4E'>Table of contents<font><a class='anchor' id='top'></a>\n",
    "1. [Karthik Functions](#1)\n",
    "2. [Read Data](#2)\n",
    "3. [Particle Tracking](#3)\n",
    "4. [FTLE Calculation](#4)\n",
    "5. [Visualization](#5)\n",
    "6. [Save Data](#6)"
   ]
  },
  {
   "cell_type": "markdown",
   "id": "526d6705",
   "metadata": {},
   "source": [
    "## Simulation data for two-dimensional flow around a pitching NACA0015 airfoil at $Re = 1000$\n",
    "\n",
    "### Airfoil kinematics: $\\theta = \\theta_0 + \\Delta \\theta sin(2\\pi f^*t)$, where $f^* = 0.15$, $\\Delta \\theta = 25^{\\circ}$, $\\theta_0 = 15^{\\circ}$.\n",
    "***\n",
    "***"
   ]
  },
  {
   "cell_type": "markdown",
   "id": "cb433757",
   "metadata": {},
   "source": [
    "## <font color='289C4E'>Karthik Functions<font><a id='1'></a>\n"
   ]
  },
  {
   "cell_type": "code",
   "execution_count": 1,
   "id": "fc0d98ea",
   "metadata": {},
   "outputs": [],
   "source": [
    "using FileIO, ImageMagick, Colors, FixedPointNumbers, DelimitedFiles, PyPlot, LinearAlgebra, HDF5"
   ]
  },
  {
   "cell_type": "markdown",
   "id": "49c1c66f",
   "metadata": {},
   "source": [
    "<div class=\"alert alert-block alert-warning\">  \n",
    "<b> If error:</b> Run the code below \n",
    "</div>"
   ]
  },
  {
   "cell_type": "raw",
   "id": "b8f53e23",
   "metadata": {},
   "source": [
    "import Pkg\n",
    "Pkg.add(\"FileIO\")\n",
    "Pkg.add(\"ImageMagick\")\n",
    "Pkg.add(\"Colors\")\n",
    "Pkg.add(\"FixedPointNumbers\")\n",
    "Pkg.add(\"DelimitedFiles\")\n",
    "Pkg.add(\"PyPlot\")\n",
    "Pkg.add(\"LinearAlgebra\")\n",
    "Pkg.add(\"HDF5\")"
   ]
  },
  {
   "cell_type": "markdown",
   "id": "9562736f",
   "metadata": {},
   "source": [
    "### Function: Read the coordinates of the Cartesian grid from the simulation data\n",
    "The grid used for the simulation is stored in `xgrid.dat` and `ygrid.dat` files for X and Y directions"
   ]
  },
  {
   "cell_type": "code",
   "execution_count": 2,
   "id": "8a7ba87f",
   "metadata": {},
   "outputs": [],
   "source": [
    "function set_grid()\n",
    "    global overall_path\n",
    "    # Read grid files\n",
    "    gridfile = overall_path * \"xgrid.dat\"\n",
    "    x_grid = readdlm(gridfile)[:,2]\n",
    "    gridfile = overall_path * \"ygrid.dat\"\n",
    "    y_grid = readdlm(gridfile)[:,2]\n",
    "    # Create arrays for cell-centered grid points\n",
    "    nxc = size(x_grid, 1) - 1\n",
    "    nyc = size(y_grid, 1) - 1\n",
    "    xc = zeros(nxc)\n",
    "    yc = zeros(nyc)\n",
    "    # Convert face-centered to cell-centered coordinates\n",
    "    for i in 1:nxc\n",
    "        xc[i] = 0.5 * (x_grid[i] + x_grid[i+1])\n",
    "    end\n",
    "    for j in 1:nyc\n",
    "        yc[j] = 0.5 * (y_grid[j] + y_grid[j+1])\n",
    "    end\n",
    "    return nxc, nyc, xc, yc\n",
    "end;"
   ]
  },
  {
   "cell_type": "markdown",
   "id": "4d1796ca",
   "metadata": {},
   "source": [
    "### Function: Read data within a rectangular subdomain inside the cartesian grid.\n",
    "\n",
    ">#### Function arguments:\n",
    "`data_path`: Location of simulation data files (`qout*.dat` data files)<br>\n",
    "`tstep`: Timestep to read<br>\n",
    "`varlist`: Indices of variables to read (depends on the format of the data file being read)<br>\n",
    "`nxc`, `nyc`: Number of grid points in the X and Y directions (cell-centered)<br>\n",
    "`xstart`, `xend`, `ystart`, `yend`: Start and end indices of the \"box\" to be read within the grid in the X and Y direction"
   ]
  },
  {
   "cell_type": "code",
   "execution_count": 3,
   "id": "4e045a93",
   "metadata": {},
   "outputs": [],
   "source": [
    "function read_subdomain_data(data_path,tstep,varlist,nxc,nyc,xstart,xend,ystart,yend)\n",
    "    filename = data_path * \"qout.\" * lpad(Int(tstep),7,'0') * \".dat\"\n",
    "    f = open(filename,\"r\")\n",
    "    # Vector to store all the variables read in a flattened representation\n",
    "    result = []\n",
    "    # Iterate through list of variables to read\n",
    "    for varnum in varlist\n",
    "        # Move to the start of each variable in the binary file\n",
    "        seek(f,8*nxc*nyc*(varnum-1))\n",
    "        # Read nxc*nyc entries corresponding to the current variable on the grid\n",
    "        fullfield = reinterpret(Float64, read(f, 8*nxc*nyc))\n",
    "        # Reshape the flattened array read above to a 2D matrix\n",
    "        fullfield_2d = reshape(fullfield,(nxc,nyc))\n",
    "        # Store the part of the grid contained within the box [xstart,xend],[ystart,yend]\n",
    "        field_subdomain = fullfield_2d[xstart:xend-1,ystart:yend-1]\n",
    "        # Flatten and store the variable within the \"box\"/subdomain of the grid\n",
    "        result = vcat(result,vec(field_subdomain))\n",
    "    end\n",
    "    close(f)\n",
    "    return result\n",
    "end;"
   ]
  },
  {
   "cell_type": "markdown",
   "id": "b52effbd",
   "metadata": {},
   "source": [
    "## <font color='289C4E'>Read Data<font><a id='2'></a>\n",
    "### Reading all the data at once "
   ]
  },
  {
   "cell_type": "markdown",
   "id": "432e0e51",
   "metadata": {},
   "source": [
    "#### Set up the Cartesian grid"
   ]
  },
  {
   "cell_type": "code",
   "execution_count": 4,
   "id": "69f28adc",
   "metadata": {},
   "outputs": [],
   "source": [
    "# Select computer \n",
    "hp = \"/Users/jjser/Desktop/Julia_FTLE_Karthik_Data/airfoil2D_f0.15_amp25deg_KM/\"\n",
    "vr = \"/Users/GreenFluids_VR/Desktop/airfoil2D_f0.15_amp25deg_KM/\"\n",
    "overall_path = vr\n",
    "\n",
    "nxc,nyc,xc,yc = set_grid();"
   ]
  },
  {
   "cell_type": "markdown",
   "id": "46530e27",
   "metadata": {},
   "source": [
    "#### Specify the timesteps that need to be read, and the size of the subdomain to read"
   ]
  },
  {
   "cell_type": "code",
   "execution_count": 5,
   "id": "10176ce2",
   "metadata": {},
   "outputs": [],
   "source": [
    "# Timesteps to read from qout.*.dat files\n",
    "tstep_start =  200\n",
    "tstep_end = 150000\n",
    "og_tstep_delta = 200\n",
    "\n",
    "og_num_tsteps = Int64((tstep_end-tstep_start)/og_tstep_delta + 1)\n",
    "\n",
    "og_tstep_range = collect(range(tstep_start, tstep_end, length=og_num_tsteps))\n",
    "\n",
    "# Spatial extent of a rectangular \"box\"/subdomain within the Cartesian grid to read\n",
    "x_start_loc = 1.0\n",
    "x_end_loc = 16.0\n",
    "y_start_loc = 1.0\n",
    "y_end_loc = 18.0\n",
    "\n",
    "# Find indices in the grid corresponding to above X and Y coordinates\n",
    "x_start = argmin(abs.(xc.-x_start_loc))\n",
    "x_end = argmin(abs.(xc.-x_end_loc))+1\n",
    "y_start = argmin(abs.(yc.-y_start_loc))\n",
    "y_end = argmin(abs.(yc.-y_end_loc))+1\n",
    "\n",
    "# Number of grid points in the \"box\"/subdomain within the Cartesian grid to read\n",
    "nx_subdomain = x_end-x_start\n",
    "ny_subdomain = y_end-y_start\n",
    "subdomain_size = nx_subdomain*ny_subdomain;"
   ]
  },
  {
   "cell_type": "markdown",
   "id": "95001eb0",
   "metadata": {},
   "source": [
    "#### Read the variables needed"
   ]
  },
  {
   "cell_type": "code",
   "execution_count": 6,
   "id": "793b364f",
   "metadata": {},
   "outputs": [],
   "source": [
    "x_range = xc[x_start:x_end]\n",
    "y_range = yc[y_start:y_end]\n",
    "\n",
    "var_list = [1,2,4,5];\n",
    "var_names = [\"u\",\"v\",\"iblank\",\"vorticity\"];\n",
    "# Number of variables\n",
    "numvar = length(var_list)\n",
    "\n",
    "# Dictionary associating the order of variable names with indices\n",
    "var_idxs = Dict(zip(var_names,1:numvar))\n",
    "\n",
    "# Data object to store all variables at all timesteps\n",
    "# For each timestep, all variables are stored sequentially as flattened arrays\n",
    "data = zeros(nx_subdomain*ny_subdomain*numvar,og_num_tsteps)\n",
    "\n",
    "for (i,tstep) in enumerate(og_tstep_range)\n",
    "    data_subdomain = read_subdomain_data(overall_path,tstep,var_list,nxc,nyc,x_start,x_end,y_start,y_end)\n",
    "    data[:,i] = data_subdomain[:]\n",
    "end\n",
    "println(\"DONE\")"
   ]
  },
  {
   "cell_type": "code",
   "execution_count": 7,
   "id": "24920148",
   "metadata": {},
   "outputs": [
    {
     "name": "stdout",
     "output_type": "stream",
     "text": [
      "(367,)\n",
      "(320,)\n"
     ]
    }
   ],
   "source": [
    "println(size(x_range))\n",
    "println(size(y_range))"
   ]
  },
  {
   "cell_type": "markdown",
   "id": "23f7162a",
   "metadata": {},
   "source": [
    "#### Choose number of intermediate snapshots and then store into arrays"
   ]
  },
  {
   "cell_type": "code",
   "execution_count": 8,
   "id": "48e7fdba",
   "metadata": {},
   "outputs": [],
   "source": [
    "inter = 4\n",
    "num_tsteps = (og_num_tsteps-1)*inter+1\n",
    "tstep_delta = og_tstep_delta/inter\n",
    "Vel_contour = zeros(Float64, 2, num_tsteps, ny_subdomain, nx_subdomain)\n",
    "Bvo_contour = zeros(Float64, 2, num_tsteps, ny_subdomain, nx_subdomain)\n",
    "\n",
    "for i in 1:og_num_tsteps-1\n",
    "    u1 = data[1:subdomain_size,i]\n",
    "    u2 = data[1:subdomain_size,i+1]\n",
    "    v1 = data[subdomain_size+1:2*subdomain_size,i]\n",
    "    v2 = data[subdomain_size+1:2*subdomain_size,i+1]\n",
    "    b1 = data[2*subdomain_size+1:3*subdomain_size,i]\n",
    "    b2 = data[2*subdomain_size+1:3*subdomain_size,i+1]\n",
    "    o1 = data[3*subdomain_size+1:4*subdomain_size,i]\n",
    "    o2 = data[3*subdomain_size+1:4*subdomain_size,i+1]\n",
    "    \n",
    "    for p in 0:inter-1\n",
    "        uu = u1*(inter-p)/inter + u2*(p)/inter\n",
    "        vv = v1*(inter-p)/inter + v2*(p)/inter\n",
    "        bb = b1*(inter-p)/inter + b2*(p)/inter\n",
    "        oo = o1*(inter-p)/inter + o2*(p)/inter\n",
    "        Vel_contour[1, inter*(i-1)+p+1, :, :] =  transpose(reshape(uu,(length(x_range)-1,length(y_range)-1)))\n",
    "        Vel_contour[2, inter*(i-1)+p+1, :, :] =  transpose(reshape(vv,(length(x_range)-1,length(y_range)-1)))\n",
    "        Bvo_contour[1, inter*(i-1)+p+1, :, :] = (transpose(reshape(bb,(length(x_range)-1,length(y_range)-1))) .> 0.5) .|> Int\n",
    "        Bvo_contour[2, inter*(i-1)+p+1, :, :] =  transpose(reshape(oo,(length(x_range)-1,length(y_range)-1)))\n",
    "    end\n",
    "    \n",
    "    if i == og_num_tsteps-1\n",
    "        Vel_contour[1, num_tsteps, :, :] =  transpose(reshape(u2,(length(x_range)-1,length(y_range)-1)))\n",
    "        Vel_contour[2, num_tsteps, :, :] =  transpose(reshape(v2,(length(x_range)-1,length(y_range)-1)))\n",
    "        Bvo_contour[1, num_tsteps, :, :] = (transpose(reshape(b2,(length(x_range)-1,length(y_range)-1))) .> 0.5) .|> Int\n",
    "        Bvo_contour[2, num_tsteps, :, :] =  transpose(reshape(o2,(length(x_range)-1,length(y_range)-1)))\n",
    "    end\n",
    "end\n",
    "println(\"DONE\")"
   ]
  },
  {
   "cell_type": "markdown",
   "id": "205f2e55",
   "metadata": {},
   "source": [
    "## <font color='289C4E'>Particle Tracking and FTLE calculation<font><a id='3'></a>"
   ]
  },
  {
   "cell_type": "markdown",
   "id": "30842abc",
   "metadata": {},
   "source": [
    "### Function: Find index of position\n",
    "\n",
    ">#### Function arguments:\n",
    "`x`: X-position <br>\n",
    "`y`: Y-position"
   ]
  },
  {
   "cell_type": "code",
   "execution_count": 9,
   "id": "7c584e0c",
   "metadata": {},
   "outputs": [
    {
     "data": {
      "text/plain": [
       "find_me (generic function with 1 method)"
      ]
     },
     "execution_count": 9,
     "metadata": {},
     "output_type": "execute_result"
    }
   ],
   "source": [
    "function find_me(xval, yval)\n",
    "    x1 = argmin(abs.(x_range .- xval))\n",
    "    y1 = argmin(abs.(y_range .- yval))\n",
    "\n",
    "    if x1 >= size(x_range)[1]-1\n",
    "        x1 -= 3\n",
    "    end\n",
    "    \n",
    "    if y1 >= size(y_range)[1]-1\n",
    "        y1 -= 3\n",
    "    end\n",
    "\n",
    "    x2 = x1 + 1\n",
    "    y2 = y1 + 1\n",
    "    \n",
    "    return x1, x2, y1, y2\n",
    "end"
   ]
  },
  {
   "cell_type": "markdown",
   "id": "7fa3127f",
   "metadata": {},
   "source": [
    "### Function: Check if cross boundary\n",
    "\n",
    ">#### Function arguments:\n"
   ]
  },
  {
   "cell_type": "code",
   "execution_count": 71,
   "id": "ce702afd",
   "metadata": {},
   "outputs": [
    {
     "data": {
      "text/plain": [
       "isCross (generic function with 1 method)"
      ]
     },
     "execution_count": 71,
     "metadata": {},
     "output_type": "execute_result"
    }
   ],
   "source": [
    "function isCross(xx, yy, t)\n",
    "    xind = argmin(abs.(y_range.-yy))\n",
    "    yind = argmin(abs.(x_range.-xx))\n",
    "    return Bvo_contour[1, t, xind, yind] == 1\n",
    "end"
   ]
  },
  {
   "cell_type": "markdown",
   "id": "2337b26b",
   "metadata": {},
   "source": [
    "### Function: Magic push or pertubed\n",
    "\n",
    ">#### Function arguments:\n"
   ]
  },
  {
   "cell_type": "code",
   "execution_count": null,
   "id": "1f7fbb48",
   "metadata": {},
   "outputs": [],
   "source": [
    "function magic(p, v, option)\n",
    "    if option==\"noVel\"\n",
    "        p = p\n",
    "    elseif option==\"gone\"\n",
    "        p .= NaN\n",
    "    elseif opttion==\"bounce\n",
    "        p = p .+ 0.1\n",
    "    return p\n",
    "end\n",
    "    "
   ]
  },
  {
   "cell_type": "markdown",
   "id": "cf321e7a",
   "metadata": {},
   "source": [
    "### Function: Calculate particle trajectories and FTLE field\n",
    "\n",
    ">#### Function arguments:\n",
    "`nx`, `ny`: Number of particles in the X and Y directions  \n",
    "`x0`, `x1`, `y0`, `y1`: X and Y domain of the instantiated particles\n",
    "`t_0`, `t_1`: Start and end time of the flow"
   ]
  },
  {
   "cell_type": "code",
   "execution_count": null,
   "id": "9d7d11d0",
   "metadata": {},
   "outputs": [],
   "source": [
    "for ii in 1:nx, jj in 1:ny\n",
    "    particles[1,:,ii, :] .= x[ii]\n",
    "    particles[2,:, :,jj] .= y[jj]\n",
    "end\n",
    "\n",
    "for ii in 1:nx, jj in 1:ny\n",
    "    xind = argmin(abs.(y_range.-particles[2,1,ii,jj]))\n",
    "    yind = argmin(abs.(x_range.-particles[1,1,ii,jj]))\n",
    "    if Bvo_contour[1,1,xind,yind] == 1\n",
    "        particles[:,1,ii,jj] .= NaN\n",
    "    end\n",
    "end\n",
    "\n",
    "for ii in 1:nx, jj in 1:ny\n",
    "    xind = argmin(abs.(y_range.-y[jj])\n",
    "    yind = argmin(abs.(x_range.-x[ii])\n",
    "    if Bvo_contour[1,1,xind,yind] == 1\n",
    "        particles[:,1,ii,jj] .= NaN\n",
    "    else\n",
    "        particles[:,1,ii,jj] .= [x[ii], y[jj]] \n",
    "    end\n",
    "end\n",
    "\n"
   ]
  },
  {
   "cell_type": "code",
   "execution_count": 73,
   "id": "29bbce56",
   "metadata": {},
   "outputs": [
    {
     "data": {
      "image/png": "[encoded data removed]",
      "text/plain": [
       "Figure(PyObject <Figure size 640x480 with 1 Axes>)"
      ]
     },
     "metadata": {},
     "output_type": "display_data"
    },
    {
     "data": {
      "text/plain": [
       "(9.0, 11.0)"
      ]
     },
     "execution_count": 73,
     "metadata": {},
     "output_type": "execute_result"
    }
   ],
   "source": [
    "nx,ny,x0,x1,y0,y1,t_0,t_1 = 100,100,9.5,12.0,9.0,11.0,68800,69800\n",
    "move = sign(t_1-t_0)\n",
    "tstep_range = collect(range(tstep_start, tstep_end, length=num_tsteps))\n",
    "t_0_ind = argmin(abs.(tstep_range .- t_0))\n",
    "t_1_ind = argmin(abs.(tstep_range .- t_1))\n",
    "tsteps = Int64(abs(t_1 - t_0)/tstep_delta + 1)\n",
    "x = collect(range(x0, x1, length=nx))\n",
    "y = collect(range(y0, y1, length=ny))\n",
    "particles = zeros(3, tsteps+1, nx, ny)\n",
    "\n",
    "for ii in 1:nx, jj in 1:ny\n",
    "    particles[1,1,ii, :] .= x[ii]\n",
    "    particles[2,1, :,jj] .= y[jj]\n",
    "end\n",
    "\n",
    "for ii in 1:nx, jj in 1:ny\n",
    "    if isCross(x[ii],y[jj],1) == 1\n",
    "        particles[:,1,ii,jj] .= NaN\n",
    "    end\n",
    "end\n",
    "\n",
    "fig, ax = subplots()\n",
    "ax.scatter(particles[1,1,:,:],particles[2,1,:,:],marker=\"s\",color=\"pink\",zorder=3)\n",
    "ax.contourf(x_range[1:end-1],y_range[1:end-1],Bvo_contour[1,1,:,:], levels=levels,cmap=ColorMap(\"PuOr\"), zorder=1)\n",
    "ax.set_xlim([9.5,12])\n",
    "ax.set_ylim([  9,11])\n"
   ]
  },
  {
   "cell_type": "code",
   "execution_count": 15,
   "id": "d8b4ba0c",
   "metadata": {},
   "outputs": [
    {
     "data": {
      "image/png": "[encoded data removed]",
      "text/plain": [
       "Figure(PyObject <Figure size 640x480 with 1 Axes>)"
      ]
     },
     "metadata": {},
     "output_type": "display_data"
    },
    {
     "data": {
      "text/plain": [
       "(9.0, 11.0)"
      ]
     },
     "execution_count": 15,
     "metadata": {},
     "output_type": "execute_result"
    }
   ],
   "source": [
    "fig, ax = subplots()\n",
    "levels = range(0, 1,length=3) .+ 0.5\n",
    "ax.contourf(x_range[1:end-1],y_range[1:end-1],Bvo_contour[1,1,:,:], levels=levels,cmap=ColorMap(\"PuOr\"), zorder=1)\n",
    "ax.set_xlim([9.5,12])\n",
    "ax.set_ylim([  9,11])"
   ]
  },
  {
   "cell_type": "code",
   "execution_count": 48,
   "id": "b5e07bbc",
   "metadata": {},
   "outputs": [
    {
     "data": {
      "text/plain": [
       "FTLE (generic function with 1 method)"
      ]
     },
     "execution_count": 48,
     "metadata": {},
     "output_type": "execute_result"
    }
   ],
   "source": [
    "function FTLE(nx,ny,x0,x1,y0,y1,t_0,t_1)\n",
    "    move = sign(t_1-t_0)\n",
    "    tstep_range = collect(range(tstep_start, tstep_end, length=num_tsteps))\n",
    "    t_0_ind = argmin(abs.(tstep_range .- t_0))\n",
    "    t_1_ind = argmin(abs.(tstep_range .- t_1))\n",
    "    tsteps = Int64(abs(t_1 - t_0)/tstep_delta + 1)\n",
    "    x = collect(range(x0, x1, length=nx))\n",
    "    y = collect(range(y0, y1, length=ny))\n",
    "    particles = zeros(3, tsteps+1, nx, ny)\n",
    "\n",
    "    for ii in 1:nx, jj in 1:ny\n",
    "        particles[1,1,ii, :] .= x[ii]\n",
    "        particles[2,1, :,jj] .= y[jj]\n",
    "    end\n",
    "\n",
    "    for ii in 1:nx, jj in 1:ny\n",
    "        xind = argmin(abs.(y_range.-particles[2,1,ii,jj]))\n",
    "        yind = argmin(abs.(x_range.-particles[1,1,ii,jj]))\n",
    "        if Bvo_contour[1,1,xind,yind] == 1\n",
    "            particles[:,1,ii,jj] .= NaN\n",
    "        end\n",
    "    end\n",
    "    \n",
    "    x = copy(x_range)\n",
    "    y = copy(y_range)\n",
    "    # Iterate through all timesteps \n",
    "    count = 1\n",
    "    for tt in t_0_ind:move:t_1_ind\n",
    "        for ii in 1:nx, jj in 1:ny\n",
    "            if any(isnan,particles[1:2,count,ii,jj]) == false \n",
    "                # Let's use Runge Kutta 4th order\n",
    "                kxy = zeros(4,2)\n",
    "                a = particles[1,move*(tt-t_0_ind)+1,ii,jj]\n",
    "                b = particles[2,move*(tt-t_0_ind)+1,ii,jj]\n",
    "                #=Runge Kutta 4th Order K1 =#\n",
    "                c = copy(a)\n",
    "                d = copy(b)\n",
    "                x1, x2, y1, y2 = find_me(c, d)\n",
    "                for UV in 1:2\n",
    "                    kxy[1,UV] = 1/((y[y2]-y[y1])*(x[x2]-x[x1])) * ( \n",
    "                                   (x[x2]-c)*(y[y2]-d)*Vel_contour[UV,tt,y1,x1] + \n",
    "                                   (c-x[x1])*(y[y2]-d)*Vel_contour[UV,tt,y2,x1] +\n",
    "                                   (x[x2]-c)*(d-y[y1])*Vel_contour[UV,tt,y1,x2] +\n",
    "                                   (c-x[x1])*(d-y[y1])*Vel_contour[UV,tt,y2,x2] )\n",
    "                end\n",
    "                #=Runge Kutta 4th Order K2 =#\n",
    "                c = a + 0.5*kxy[1,1]*tstep_delta/1000\n",
    "                d = b + 0.5*kxy[1,2]*tstep_delta/1000\n",
    "                x1, x2, y1, y2 = find_me(c, d)\n",
    "                for UV in 1:2\n",
    "                    kxy[2,UV] = 1/((y[y2]-y[y1])*(x[x2]-x[x1])) * ( \n",
    "                                   (x[x2]-c)*(y[y2]-d)*0.5*(Vel_contour[UV,tt,y1,x1]+Vel_contour[UV,tt+move,y1,x1]) + \n",
    "                                   (c-x[x1])*(y[y2]-d)*0.5*(Vel_contour[UV,tt,y2,x1]+Vel_contour[UV,tt+move,y2,x1]) +\n",
    "                                   (x[x2]-c)*(d-y[y1])*0.5*(Vel_contour[UV,tt,y1,x2]+Vel_contour[UV,tt+move,y1,x2]) +\n",
    "                                   (c-x[x1])*(d-y[y1])*0.5*(Vel_contour[UV,tt,y2,x2]+Vel_contour[UV,tt+move,y2,x2]) )\n",
    "                end\n",
    "                #=Runge Kutta 4th Order K3 =#\n",
    "                c = a + 0.5*kxy[2,1]*tstep_delta/1000\n",
    "                d = b + 0.5*kxy[2,2]*tstep_delta/1000\n",
    "                x1, x2, y1, y2 = find_me(c, d)\n",
    "                for UV in 1:2\n",
    "                    kxy[3,UV] = 1/((y[y2]-y[y1])*(x[x2]-x[x1])) * ( \n",
    "                                   (x[x2]-c)*(y[y2]-d)*0.5*(Vel_contour[UV,tt,y1,x1]+Vel_contour[UV,tt+move,y1,x1]) + \n",
    "                                   (c-x[x1])*(y[y2]-d)*0.5*(Vel_contour[UV,tt,y2,x1]+Vel_contour[UV,tt+move,y2,x1]) +\n",
    "                                   (x[x2]-c)*(d-y[y1])*0.5*(Vel_contour[UV,tt,y1,x2]+Vel_contour[UV,tt+move,y1,x2]) +\n",
    "                                   (c-x[x1])*(d-y[y1])*0.5*(Vel_contour[UV,tt,y2,x2]+Vel_contour[UV,tt+move,y2,x2]) )\n",
    "                end\n",
    "                #=Runge Kutta 4th Order K4 =#\n",
    "                c = a + kxy[3,1]*tstep_delta/1000\n",
    "                d = b + kxy[3,2]*tstep_delta/1000\n",
    "                x1, x2, y1, y2 = find_me(c, d)\n",
    "                for UV in 1:2\n",
    "                    kxy[4,UV] = 1/((y[y2]-y[y1])*(x[x2]-x[x1])) * ( \n",
    "                                   (x[x2]-c)*(y[y2]-d)*Vel_contour[UV,tt+move,y1,x1] + \n",
    "                                   (c-x[x1])*(y[y2]-d)*Vel_contour[UV,tt+move,y2,x1] +\n",
    "                                   (x[x2]-c)*(d-y[y1])*Vel_contour[UV,tt+move,y1,x2] +\n",
    "                                   (c-x[x1])*(d-y[y1])*Vel_contour[UV,tt+move,y2,x2] )\n",
    "                end\n",
    "                for UV in 1:2\n",
    "                    particles[UV,move*(tt-t_0_ind)+2,ii,jj] = particles[UV,move*(tt-t_0_ind)+1,ii,jj] + sign(move)*(kxy[1,UV]+2*kxy[2,UV]+2*kxy[3,UV]+kxy[4,UV])*tstep_delta/6000\n",
    "                end\n",
    "            end\n",
    "        end\n",
    "        count += 1\n",
    "    end\n",
    "    \n",
    "#=\n",
    "    for tt in 1:tsteps\n",
    "        for ii in 2:nx-1\n",
    "            for jj in 2:ny-1\n",
    "                ul = (particles[1,tt,ii+1,jj]-particles[1,tt,ii-1,jj])/(particles[1,1,ii+1,jj]-particles[1,1,ii-1,jj])\n",
    "                ur = (particles[2,tt,ii+1,jj]-particles[2,tt,ii-1,jj])/(particles[2,1,ii,jj+1]-particles[2,1,ii,jj-1])\n",
    "                ll = (particles[1,tt,ii,jj+1]-particles[1,tt,ii,jj-1])/(particles[1,1,ii+1,jj]-particles[1,1,ii-1,jj])\n",
    "                lr = (particles[2,tt,ii,jj+1]-particles[2,tt,ii,jj-1])/(particles[2,1,ii,jj+1]-particles[2,1,ii,jj-1])\n",
    "                B = [ul ur; ll lr]\n",
    "                A = transpose(B) * B\n",
    "                G = eigvals(A)\n",
    "                H = ones(length(G))\n",
    "                for i in 1:length(H)\n",
    "                    H[i] = abs(G[i])\n",
    "                end\n",
    "                sigma = maximum(H)\n",
    "                particles[3,tt+1,ii,jj] = 0.5/tstep_delta*log(sigma)\n",
    "            end\n",
    "        end\n",
    "    end\n",
    "=#\n",
    "    \n",
    "    flow = particles[:,:,2:nx-1,2:ny-1]\n",
    "    println(\"done\")\n",
    "\n",
    "    return flow\n",
    "end"
   ]
  },
  {
   "cell_type": "markdown",
   "id": "93d10939",
   "metadata": {},
   "source": [
    "<div class=\"alert alert-block alert-success\">  \n",
    "<b> Example:</b> FTLE for forward and then backward along one cycle\n",
    "</div>"
   ]
  },
  {
   "cell_type": "code",
   "execution_count": 54,
   "id": "b5dbf1ff",
   "metadata": {},
   "outputs": [
    {
     "name": "stdout",
     "output_type": "stream",
     "text": [
      "done\n",
      "DONE"
     ]
    }
   ],
   "source": [
    "p50 = FTLE(50,50,9.5,12.0,9.0,11.0,66800,69800)\n",
    "#n50 = FTLE(5,5,9.5,12.0,9.0,11.0,72800,69800)\n",
    "print(\"DONE\")"
   ]
  },
  {
   "cell_type": "code",
   "execution_count": 60,
   "id": "758b4b4b",
   "metadata": {},
   "outputs": [
    {
     "data": {
      "image/png": "[encoded data removed]",
      "text/plain": [
       "Figure(PyObject <Figure size 640x480 with 1 Axes>)"
      ]
     },
     "metadata": {},
     "output_type": "display_data"
    },
    {
     "data": {
      "text/plain": [
       "(9.0, 11.0)"
      ]
     },
     "execution_count": 60,
     "metadata": {},
     "output_type": "execute_result"
    }
   ],
   "source": [
    "fig, ax = subplots()\n",
    "ts = 61\n",
    "ax.scatter(p50[1,ts,:,:],p50[2,ts,:,:],marker=\"s\",color=\"pink\",zorder=3)\n",
    "ax.set_xlim([9.5,12])\n",
    "ax.set_ylim([  9,11])"
   ]
  },
  {
   "cell_type": "code",
   "execution_count": 67,
   "id": "701446c0",
   "metadata": {},
   "outputs": [
    {
     "data": {
      "image/png": "[encoded data removed]",
      "text/plain": [
       "Figure(PyObject <Figure size 925x525 with 2 Axes>)"
      ]
     },
     "metadata": {},
     "output_type": "display_data"
    },
    {
     "data": {
      "text/plain": [
       "PyObject <matplotlib.colorbar.Colorbar object at 0x000001FB9E596A40>"
      ]
     },
     "execution_count": 67,
     "metadata": {},
     "output_type": "execute_result"
    }
   ],
   "source": [
    "tstep = 1\n",
    "x = p50[1,1,:,:]\n",
    "y = p50[2,1,:,:]\n",
    "z = p50[1,tstep,:,:]\n",
    "fig, ax = subplots(figsize=(9.25,5.25))\n",
    "cm = ax.contourf(x,y,z,cmap=ColorMap(\"rainbow\"))\n",
    "ax.set_xlim([9.5,12])\n",
    "ax.set_ylim([  9,11])\n",
    "fig.colorbar(cm)"
   ]
  },
  {
   "cell_type": "markdown",
   "id": "7a4c69d6",
   "metadata": {},
   "source": [
    "## <font color='289C4E'>FTLE Calculation<font><a id='4'></a>"
   ]
  },
  {
   "cell_type": "markdown",
   "id": "b0c0664b",
   "metadata": {},
   "source": [
    "### Function: Filter values over certain% of the maximum FTLE \n",
    "\n",
    ">#### Function arguments:\n",
    "`field`: particle flow field and FTLE values  \n",
    "`limFTLE`: Filter value for visualizing ridges"
   ]
  },
  {
   "cell_type": "code",
   "execution_count": 61,
   "id": "3fd1476a",
   "metadata": {},
   "outputs": [
    {
     "data": {
      "text/plain": [
       "filterFTLE (generic function with 1 method)"
      ]
     },
     "execution_count": 61,
     "metadata": {},
     "output_type": "execute_result"
    }
   ],
   "source": [
    "function filterFTLE(field, limFTLE)\n",
    "    manifolds = (field[3,:,:,:] .> limFTLE * maximum(field[3,:,:,:])) .|> Int\n",
    "    return manifolds\n",
    "end"
   ]
  },
  {
   "cell_type": "markdown",
   "id": "147cc910",
   "metadata": {},
   "source": [
    "<div class=\"alert alert-block alert-success\">  \n",
    "<b> Example:</b> Calculate FTLE\n",
    "</div>"
   ]
  },
  {
   "cell_type": "code",
   "execution_count": 64,
   "id": "c3b8eed3",
   "metadata": {},
   "outputs": [
    {
     "ename": "LoadError",
     "evalue": "UndefVarError: `n50` not defined",
     "output_type": "error",
     "traceback": [
      "UndefVarError: `n50` not defined",
      "",
      "Stacktrace:",
      " [1] top-level scope",
      "   @ In[64]:3"
     ]
    }
   ],
   "source": [
    "limFTLE = 0.67\n",
    "pFTLE = filterFTLE(p50, 0.67)\n",
    "nFTLE = filterFTLE(n50, 0.67)\n",
    "print(\"DONE\")"
   ]
  },
  {
   "cell_type": "markdown",
   "id": "e1ff3ed3",
   "metadata": {},
   "source": [
    "## <font color='289C4E'>Visualization<font><a id='5'></a>"
   ]
  },
  {
   "cell_type": "markdown",
   "id": "3cf933f6",
   "metadata": {},
   "source": [
    "### Function: Plot flow map based on the original x position\n",
    "\n",
    ">#### Function arguments:\n",
    "`field`: particle flow field and FTLE values    \n",
    "`tstep`: time step wanted  \n",
    "`levels`: levels for the colorbar"
   ]
  },
  {
   "cell_type": "code",
   "execution_count": 62,
   "id": "518c4795",
   "metadata": {},
   "outputs": [
    {
     "data": {
      "text/plain": [
       "xflowMap (generic function with 1 method)"
      ]
     },
     "execution_count": 62,
     "metadata": {},
     "output_type": "execute_result"
    }
   ],
   "source": [
    "function xflowMap(field, tstep, levels)\n",
    "    x = field[1,1,:,:]\n",
    "    y = field[2,1,:,:]\n",
    "    z = field[1,tstep,:,:]\n",
    "    fig, ax = subplots(figsize=(9.25,5.25))\n",
    "    cm = ax.contourf(x,y,z,cmap=ColorMap(\"rainbow\"),levels=levels)\n",
    "    fig.colorbar(cm)\n",
    "    title(\"Flow Map at \"*string((tstep-1)*tstep_delta+tstep_start) *\"ms\")\n",
    "end"
   ]
  },
  {
   "cell_type": "markdown",
   "id": "335ee901",
   "metadata": {},
   "source": [
    "### Function: Plot unstable and stable manifolds based on FTLE\n",
    "\n",
    ">#### Function arguments:\n",
    "`pos`: positive FTLE field  \n",
    "`neg`: negative FTLE field  \n",
    "`tstep`: time step wanted  "
   ]
  },
  {
   "cell_type": "code",
   "execution_count": null,
   "id": "a96aa67d",
   "metadata": {},
   "outputs": [],
   "source": [
    "function ftle(pos, neg, tstep)\n",
    "    x = pos[1,1,:,:]\n",
    "    y = pos[2,1,:,:]\n",
    "    p = filterFTLE(pos, 0.67)\n",
    "    n = filterFTLE(neg, 0.67)\n",
    "    fig, ax = subplots(figsize=(9.25,5.25))\n",
    "    levels = range(0, 1,length=3) .+ 0.5\n",
    "    ax.contourf(x[:,:],y[:,:],p[tstep,:,:],cmap=ColorMap(\"Blues\"),levels=levels, alpha=0.5, zorder=1)\n",
    "    ax.contourf(x[:,:],y[:,:],n[tstep,:,:],cmap=ColorMap(\"Reds\") ,levels=levels, alpha=0.5, zorder=2)\n",
    "end"
   ]
  },
  {
   "cell_type": "markdown",
   "id": "120e273f",
   "metadata": {},
   "source": [
    "<div class=\"alert alert-block alert-success\">  \n",
    "<b> Example:</b> Flow map and FTLE fields\n",
    "</div>"
   ]
  },
  {
   "cell_type": "code",
   "execution_count": 63,
   "id": "a0ab2179",
   "metadata": {},
   "outputs": [
    {
     "data": {
      "image/png": "[encoded data removed]",
      "text/plain": [
       "Figure(PyObject <Figure size 925x525 with 2 Axes>)"
      ]
     },
     "metadata": {},
     "output_type": "display_data"
    },
    {
     "data": {
      "text/plain": [
       "PyObject Text(0.5, 1.0, 'Flow Map at 200.0ms')"
      ]
     },
     "execution_count": 63,
     "metadata": {},
     "output_type": "execute_result"
    }
   ],
   "source": [
    "xflowMap(p50,1,range(9,13,length=50))\n",
    "#xflowMap(n50,61,range(7,11,length=50))"
   ]
  },
  {
   "cell_type": "code",
   "execution_count": null,
   "id": "473ff62c",
   "metadata": {},
   "outputs": [],
   "source": [
    "ftle(p50, n50, 62)"
   ]
  },
  {
   "cell_type": "markdown",
   "id": "e0ec74e8",
   "metadata": {},
   "source": [
    "## <font color='289C4E'>Save Data<font><a id='6'></a>"
   ]
  },
  {
   "cell_type": "markdown",
   "id": "ed7d153a",
   "metadata": {},
   "source": [
    "#### Save Velocity, airfoil position and vorticity to an .h5 file"
   ]
  },
  {
   "cell_type": "raw",
   "id": "ca069ff3",
   "metadata": {},
   "source": [
    "data =  \"C:/Users/jjser/Desktop/Julia_FTLE_Karthik_Data/airfoil2D_f0.15_amp25deg_KM/data_JJ\"\n",
    "name = \"xR.h\"\n",
    "h5open(joinpath(data,name), \"w\") do file\n",
    "    write(file, \"A\", x_range)\n",
    "end\n",
    "name = \"yR.h\"\n",
    "h5open(joinpath(data,name), \"w\") do file\n",
    "    write(file, \"A\", y_range)\n",
    "end\n",
    "name = \"VelData.h\"\n",
    "h5open(joinpath(data,name), \"w\") do file\n",
    "    write(file, \"A\", Vel_contour)\n",
    "end\n",
    "name = \"BvoData.h\"\n",
    "h5open(joinpath(data,name), \"w\") do file\n",
    "    write(file, \"A\", Bvo_contour)\n",
    "end\n",
    "print(\"DONE\")"
   ]
  },
  {
   "cell_type": "markdown",
   "id": "b0421196",
   "metadata": {},
   "source": [
    "#### Save Particle Data to an .h5 file"
   ]
  },
  {
   "cell_type": "raw",
   "id": "f4d0f16c",
   "metadata": {},
   "source": [
    "name = \"n1000.h\"\n",
    "h5open(joinpath(data,name), \"w\") do file\n",
    "    write(file, \"A\", n1000o)\n",
    "end\n",
    "print(\"DONE\")"
   ]
  },
  {
   "cell_type": "markdown",
   "id": "580e46d0",
   "metadata": {},
   "source": [
    "#### Batch Running"
   ]
  },
  {
   "cell_type": "code",
   "execution_count": null,
   "id": "297e08b4",
   "metadata": {},
   "outputs": [],
   "source": [
    "data =  \"C:/Users/jjser/Desktop/Julia_FTLE_Karthik_Data/airfoil2D_f0.15_amp25deg_KM/data_JJ\"\n",
    "t = 69800\n",
    "d = 200\n",
    "r = 6000\n",
    "n = Int(0.5*r/d)\n",
    "for ii in -n:n \n",
    "    tar = t + ii * d\n",
    "    name = \"p\" * string(t) * \"_\" * string(tar) * \"finer.h\"\n",
    "    p = FTLE(500,400,9.5,12.0,9.0,11.0,tar-r,tar)\n",
    "    h5open(joinpath(data,name), \"w\") do file\n",
    "        write(file, \"A\", p)\n",
    "    end\n",
    "    name = \"n\" * string(t) * \"_\" * string(tar) * \"finer.h\"\n",
    "    n = FTLE(500,400,9.5,12.0,9.0,11.0,tar+r,tar)\n",
    "    h5open(joinpath(data,name), \"w\") do file\n",
    "        write(file, \"A\", n)\n",
    "    end\n",
    "end\n",
    "print(\"DONE\")"
   ]
  },
  {
   "cell_type": "code",
   "execution_count": null,
   "id": "bc6b094d",
   "metadata": {},
   "outputs": [],
   "source": []
  }
 ],
 "metadata": {
  "kernelspec": {
   "display_name": "Julia 1.9.2",
   "language": "julia",
   "name": "julia-1.9"
  },
  "language_info": {
   "file_extension": ".jl",
   "mimetype": "application/julia",
   "name": "julia",
   "version": "1.9.2"
  }
 },
 "nbformat": 4,
 "nbformat_minor": 5
}
