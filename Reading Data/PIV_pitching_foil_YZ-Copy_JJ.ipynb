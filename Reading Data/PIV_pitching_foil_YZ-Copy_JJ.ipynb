{
 "cells": [
  {
   "cell_type": "code",
   "execution_count": 1,
   "id": "8e55d976",
   "metadata": {},
   "outputs": [],
   "source": [
    "# Read the PIV velocity data of a 2D pitching foil\n",
    "# Calculate the vorticity and Q value\n",
    "# Plot the vorticity, Q, influence potential, and vorticity-induced force/moment density\n",
    "# Yuanhang Zhu\n",
    "# Aug 1, 2023\n",
    "\n",
    "using DelimitedFiles\n",
    "using Plots\n",
    "\n",
    "function calculate_vorticity_Q(x::Matrix{T}, y::Matrix{T}, u::Matrix{T}, v::Matrix{T}) where T\n",
    "    nx, ny = size(u,2), size(u,1)\n",
    "    vorticity = similar(u, T)\n",
    "    q_value = similar(u, T)\n",
    "    \n",
    "    for j in 2:(ny-1)\n",
    "        for i in 2:(nx-1)\n",
    "            dv_dx = (v[j, i+1] - v[j, i-1]) / (x[j, i+1] - x[j, i-1])\n",
    "            du_dy = (u[j+1, i] - u[j-1, i]) / (y[j+1, i] - y[j-1, i])\n",
    "            \n",
    "            # Calculate rate of strain tensor components\n",
    "            ds_dx = 0.5 * (du_dy + dv_dx)\n",
    "            du_dx = (u[j, i+1] - u[j, i-1]) / (x[j, i+1] - x[j, i-1])\n",
    "            dv_dy = (v[j+1, i] - v[j-1, i]) / (y[j+1, i] - y[j-1, i])\n",
    "            ds_dy = 0.5 * (du_dx + dv_dy)\n",
    "            \n",
    "            # Calculate vorticity\n",
    "            vorticity[j, i] = dv_dx - du_dy\n",
    "\n",
    "            # Calculate Q values\n",
    "            # q_value[j, i] = 0.5 * (vorticity[j, i]^2 + ds_dx^2 + ds_dy^2)\n",
    "            q_value[j, i] = -du_dy * dv_dx + du_dx * dv_dy\n",
    "        end\n",
    "    end\n",
    "    \n",
    "    return vorticity, q_value\n",
    "end\n",
    "\n",
    "num = 1; # phase number"
   ]
  },
  {
   "cell_type": "markdown",
   "id": "84826f2f",
   "metadata": {},
   "source": [
    "### Load Airfoil Coordinates - changed directory"
   ]
  },
  {
   "cell_type": "code",
   "execution_count": 2,
   "id": "a2179093",
   "metadata": {},
   "outputs": [],
   "source": [
    "cd(\"C:/Users/justi/OneDrive - Syracuse University/Documents/2D_PIV_pitching_foil_YZ/foil shape\") # load foil coordinates\n",
    "\n",
    "shape = readdlm(\"foil_coordinate_$num.txt\", ',', '\\n')\n",
    "xfoil = shape[:,1];\n",
    "yfoil = shape[:,2];"
   ]
  },
  {
   "cell_type": "markdown",
   "id": "5a3ed3ca",
   "metadata": {},
   "source": [
    "### Load Velocity Field Data - changed directory"
   ]
  },
  {
   "cell_type": "code",
   "execution_count": 3,
   "id": "f37ebeec",
   "metadata": {},
   "outputs": [],
   "source": [
    "cd(\"C:/Users/justi/OneDrive - Syracuse University/Documents/2D_PIV_pitching_foil_YZ/PIV data\") # load velocity field data\n",
    "velocity_data = readdlm(\"velocity_field_$num.txt\", ',', '\\n')\n",
    "\n",
    "xn = 119; # number of values in x-direction\n",
    "yn = 81; # number of values in y-direction\n",
    "\n",
    "x = velocity_data[:,1];\n",
    "y = velocity_data[:,2];\n",
    "u = velocity_data[:,3];\n",
    "v = velocity_data[:,4];\n",
    "\n",
    "xdata = reshape(x, (xn, yn));\n",
    "ydata = reshape(y, (xn, yn));\n",
    "udata = reshape(u, (xn, yn));\n",
    "vdata = reshape(v, (xn, yn));\n",
    "\n",
    "vorticity, q_value = calculate_vorticity_Q(ydata, xdata, -vdata, -udata);"
   ]
  },
  {
   "cell_type": "markdown",
   "id": "ea779cdf",
   "metadata": {},
   "source": [
    "### Plot Vorticity Field"
   ]
  },
  {
   "cell_type": "markdown",
   "id": "ff12ca0d",
   "metadata": {},
   "source": [
    "<div class=\"alert alert-block alert-danger\">  \n",
    "could not load library \"libGR.dll\" <br>\n",
    "The specified module could not be found. \n",
    "</div>\n",
    "tried to resolve by  <br>\n",
    "\n",
    "import Pkg <br>\n",
    "ENV[\"GRDIR\"]=\"\" <br>\n",
    "Pkg.build(\"GR\")<br>\n",
    "\n",
    "but did not end up working still, and received error    \n",
    "\n",
    "<div class=\"alert alert-block alert-warning\">  \n",
    "Error building `GR`: <br>\n",
    "[ Info: Downloading pre-compiled GR latest Windows binary <br>\n",
    "ERROR: LoadError: IOError: could not spawn `'C:\\Users\\GreenFluids_VR\\Desktop\\julia-1.9.2\\bin\\..\\libexec/7z' x downloads/gr- <br>latest-Windows-x86_64.tar.gz -y`: no such file or directory (ENOENT)\n",
    "</div>\n",
    "\n",
    "<div class=\"alert alert-block alert-success\">  \n",
    "Following issue above is resolved when run with hp\n",
    "</div>\n",
    "<div class=\"alert alert-block alert-danger\">  \n",
    "Issue still persists with vr \n",
    "</div>\n",
    "<div class=\"alert alert-block alert-danger\">  \n",
    "Issue is now back with a Reborn computer\n",
    "</div>"
   ]
  },
  {
   "cell_type": "code",
   "execution_count": 6,
   "id": "3055f7fc-18d8-4e20-b28c-66db7a269ad7",
   "metadata": {},
   "outputs": [
    {
     "name": "stderr",
     "output_type": "stream",
     "text": [
      "WARNING: using GR.plot in module Main conflicts with an existing identifier.\n"
     ]
    }
   ],
   "source": [
    "using GR"
   ]
  },
  {
   "cell_type": "code",
   "execution_count": 8,
   "id": "1b29dd65",
   "metadata": {},
   "outputs": [
    {
     "name": "stderr",
     "output_type": "stream",
     "text": [
      "\u001b[32m\u001b[1m    Building\u001b[22m\u001b[39m GR → `C:\\Users\\justi\\.julia\\scratchspaces\\44cfe95a-1eb2-52ea-b672-e2afdf69b78f\\1185d50c5c90ec7c0784af7f8d0d1a600750dc4d\\build.log`\n"
     ]
    },
    {
     "ename": "LoadError",
     "evalue": "Error building `GR`: \n[ Info: Downloading pre-compiled GR latest Windows binary\nERROR: LoadError: IOError: could not spawn `'C:\\Users\\justi\\AppData\\Local\\Programs\\Julia-1.9.2\\bin\\..\\libexec/7z' x downloads/gr-latest-Windows-x86_64.tar.gz -y`: no such file or directory (ENOENT)\nStacktrace:\n [1] _spawn_primitive(file::String, cmd::Cmd, stdio::Vector{Union{RawFD, Base.Libc.WindowsRawSocket, IO}})\n   @ Base .\\process.jl:128\n [2] #760\n   @ .\\process.jl:139 [inlined]\n [3] setup_stdios(f::Base.var\"#760#761\"{Cmd}, stdios::Vector{Union{RawFD, Base.Libc.WindowsRawSocket, IO}})\n   @ Base .\\process.jl:223\n [4] _spawn\n   @ .\\process.jl:138 [inlined]\n [5] _spawn\n   @ .\\process.jl:133 [inlined]\n [6] success(cmd::Cmd)\n   @ Base .\\process.jl:536\n [7] top-level scope\n   @ C:\\Users\\justi\\.julia\\packages\\GR\\cRdXQ\\deps\\build.jl:128\n [8] include(fname::String)\n   @ Base.MainInclude .\\client.jl:478\n [9] top-level scope\n   @ none:5\nin expression starting at C:\\Users\\justi\\.julia\\packages\\GR\\cRdXQ\\deps\\build.jl:74",
     "output_type": "error",
     "traceback": [
      "Error building `GR`: \n[ Info: Downloading pre-compiled GR latest Windows binary\nERROR: LoadError: IOError: could not spawn `'C:\\Users\\justi\\AppData\\Local\\Programs\\Julia-1.9.2\\bin\\..\\libexec/7z' x downloads/gr-latest-Windows-x86_64.tar.gz -y`: no such file or directory (ENOENT)\nStacktrace:\n [1] _spawn_primitive(file::String, cmd::Cmd, stdio::Vector{Union{RawFD, Base.Libc.WindowsRawSocket, IO}})\n   @ Base .\\process.jl:128\n [2] #760\n   @ .\\process.jl:139 [inlined]\n [3] setup_stdios(f::Base.var\"#760#761\"{Cmd}, stdios::Vector{Union{RawFD, Base.Libc.WindowsRawSocket, IO}})\n   @ Base .\\process.jl:223\n [4] _spawn\n   @ .\\process.jl:138 [inlined]\n [5] _spawn\n   @ .\\process.jl:133 [inlined]\n [6] success(cmd::Cmd)\n   @ Base .\\process.jl:536\n [7] top-level scope\n   @ C:\\Users\\justi\\.julia\\packages\\GR\\cRdXQ\\deps\\build.jl:128\n [8] include(fname::String)\n   @ Base.MainInclude .\\client.jl:478\n [9] top-level scope\n   @ none:5\nin expression starting at C:\\Users\\justi\\.julia\\packages\\GR\\cRdXQ\\deps\\build.jl:74",
      "",
      "Stacktrace:",
      "  [1] pkgerror(msg::String)",
      "    @ Pkg.Types C:\\Users\\justi\\AppData\\Local\\Programs\\Julia-1.9.2\\share\\julia\\stdlib\\v1.9\\Pkg\\src\\Types.jl:69",
      "  [2] (::Pkg.Operations.var\"#67#74\"{Bool, Pkg.Types.Context, String, Pkg.Types.PackageSpec, String})()",
      "    @ Pkg.Operations C:\\Users\\justi\\AppData\\Local\\Programs\\Julia-1.9.2\\share\\julia\\stdlib\\v1.9\\Pkg\\src\\Operations.jl:1153",
      "  [3] withenv(::Pkg.Operations.var\"#67#74\"{Bool, Pkg.Types.Context, String, Pkg.Types.PackageSpec, String}, ::Pair{String, String}, ::Vararg{Pair{String}})",
      "    @ Base .\\env.jl:197",
      "  [4] (::Pkg.Operations.var\"#117#122\"{String, Bool, Bool, Bool, Pkg.Operations.var\"#67#74\"{Bool, Pkg.Types.Context, String, Pkg.Types.PackageSpec, String}, Pkg.Types.PackageSpec})()",
      "    @ Pkg.Operations C:\\Users\\justi\\AppData\\Local\\Programs\\Julia-1.9.2\\share\\julia\\stdlib\\v1.9\\Pkg\\src\\Operations.jl:1827",
      "  [5] with_temp_env(fn::Pkg.Operations.var\"#117#122\"{String, Bool, Bool, Bool, Pkg.Operations.var\"#67#74\"{Bool, Pkg.Types.Context, String, Pkg.Types.PackageSpec, String}, Pkg.Types.PackageSpec}, temp_env::String)",
      "    @ Pkg.Operations C:\\Users\\justi\\AppData\\Local\\Programs\\Julia-1.9.2\\share\\julia\\stdlib\\v1.9\\Pkg\\src\\Operations.jl:1701",
      "  [6] (::Pkg.Operations.var\"#115#120\"{Dict{String, Any}, Bool, Bool, Bool, Pkg.Operations.var\"#67#74\"{Bool, Pkg.Types.Context, String, Pkg.Types.PackageSpec, String}, Pkg.Types.Context, Pkg.Types.PackageSpec, String, Pkg.Types.Project, String})(tmp::String)",
      "    @ Pkg.Operations C:\\Users\\justi\\AppData\\Local\\Programs\\Julia-1.9.2\\share\\julia\\stdlib\\v1.9\\Pkg\\src\\Operations.jl:1790",
      "  [7] mktempdir(fn::Pkg.Operations.var\"#115#120\"{Dict{String, Any}, Bool, Bool, Bool, Pkg.Operations.var\"#67#74\"{Bool, Pkg.Types.Context, String, Pkg.Types.PackageSpec, String}, Pkg.Types.Context, Pkg.Types.PackageSpec, String, Pkg.Types.Project, String}, parent::String; prefix::String)",
      "    @ Base.Filesystem .\\file.jl:760",
      "  [8] mktempdir(fn::Function, parent::String)",
      "    @ Base.Filesystem .\\file.jl:756",
      "  [9] mktempdir",
      "    @ .\\file.jl:756 [inlined]",
      " [10] sandbox(fn::Function, ctx::Pkg.Types.Context, target::Pkg.Types.PackageSpec, target_path::String, sandbox_path::String, sandbox_project_override::Pkg.Types.Project; preferences::Dict{String, Any}, force_latest_compatible_version::Bool, allow_earlier_backwards_compatible_versions::Bool, allow_reresolve::Bool)",
      "    @ Pkg.Operations C:\\Users\\justi\\AppData\\Local\\Programs\\Julia-1.9.2\\share\\julia\\stdlib\\v1.9\\Pkg\\src\\Operations.jl:1748",
      " [11] build_versions(ctx::Pkg.Types.Context, uuids::Set{Base.UUID}; verbose::Bool)",
      "    @ Pkg.Operations C:\\Users\\justi\\AppData\\Local\\Programs\\Julia-1.9.2\\share\\julia\\stdlib\\v1.9\\Pkg\\src\\Operations.jl:1134",
      " [12] build_versions",
      "    @ C:\\Users\\justi\\AppData\\Local\\Programs\\Julia-1.9.2\\share\\julia\\stdlib\\v1.9\\Pkg\\src\\Operations.jl:1049 [inlined]",
      " [13] build(ctx::Pkg.Types.Context, uuids::Set{Base.UUID}, verbose::Bool)",
      "    @ Pkg.Operations C:\\Users\\justi\\AppData\\Local\\Programs\\Julia-1.9.2\\share\\julia\\stdlib\\v1.9\\Pkg\\src\\Operations.jl:991",
      " [14] build(ctx::Pkg.Types.Context, pkgs::Vector{Pkg.Types.PackageSpec}; verbose::Bool, kwargs::Base.Pairs{Symbol, IJulia.IJuliaStdio{Base.PipeEndpoint}, Tuple{Symbol}, NamedTuple{(:io,), Tuple{IJulia.IJuliaStdio{Base.PipeEndpoint}}}})",
      "    @ Pkg.API C:\\Users\\justi\\AppData\\Local\\Programs\\Julia-1.9.2\\share\\julia\\stdlib\\v1.9\\Pkg\\src\\API.jl:1053",
      " [15] build(pkgs::Vector{Pkg.Types.PackageSpec}; io::IJulia.IJuliaStdio{Base.PipeEndpoint}, kwargs::Base.Pairs{Symbol, Union{}, Tuple{}, NamedTuple{(), Tuple{}}})",
      "    @ Pkg.API C:\\Users\\justi\\AppData\\Local\\Programs\\Julia-1.9.2\\share\\julia\\stdlib\\v1.9\\Pkg\\src\\API.jl:156",
      " [16] build(pkgs::Vector{Pkg.Types.PackageSpec})",
      "    @ Pkg.API C:\\Users\\justi\\AppData\\Local\\Programs\\Julia-1.9.2\\share\\julia\\stdlib\\v1.9\\Pkg\\src\\API.jl:145",
      " [17] #build#85",
      "    @ C:\\Users\\justi\\AppData\\Local\\Programs\\Julia-1.9.2\\share\\julia\\stdlib\\v1.9\\Pkg\\src\\API.jl:144 [inlined]",
      " [18] build",
      "    @ C:\\Users\\justi\\AppData\\Local\\Programs\\Julia-1.9.2\\share\\julia\\stdlib\\v1.9\\Pkg\\src\\API.jl:144 [inlined]",
      " [19] #build#84",
      "    @ C:\\Users\\justi\\AppData\\Local\\Programs\\Julia-1.9.2\\share\\julia\\stdlib\\v1.9\\Pkg\\src\\API.jl:143 [inlined]",
      " [20] build(pkg::String)",
      "    @ Pkg.API C:\\Users\\justi\\AppData\\Local\\Programs\\Julia-1.9.2\\share\\julia\\stdlib\\v1.9\\Pkg\\src\\API.jl:143",
      " [21] top-level scope",
      "    @ In[8]:2"
     ]
    }
   ],
   "source": [
    "ENV[\"GRDIR\"]=\"\"\n",
    "Pkg.build(\"GR\")"
   ]
  },
  {
   "cell_type": "code",
   "execution_count": 7,
   "id": "3f5fa018-de88-4b05-82fe-520962ea7bdb",
   "metadata": {},
   "outputs": [
    {
     "ename": "ErrorException",
     "evalue": "could not load library \"libGR.dll\"\nThe specified module could not be found. ",
     "output_type": "error",
     "traceback": [
      "could not load library \"libGR.dll\"\nThe specified module could not be found. ",
      "",
      "Stacktrace:",
      "  [1] setcharheight(height::Float64)",
      "    @ GR C:\\Users\\justi\\.julia\\packages\\GR\\cRdXQ\\src\\GR.jl:1395",
      "  [2] gr_set_font(f::Plots.Font, s::Plots.Subplot{Plots.GRBackend}; halign::Symbol, valign::Symbol, color::RGB{FixedPointNumbers.N0f8}, rotation::Int64)",
      "    @ Plots C:\\Users\\justi\\.julia\\packages\\Plots\\iYDwd\\src\\backends\\gr.jl:390",
      "  [3] gr_set_tickfont(sp::Plots.Subplot{Plots.GRBackend}, letter::Symbol)",
      "    @ Plots C:\\Users\\justi\\.julia\\packages\\Plots\\iYDwd\\src\\backends\\gr.jl:661",
      "  [4] _update_min_padding!(sp::Plots.Subplot{Plots.GRBackend})",
      "    @ Plots C:\\Users\\justi\\.julia\\packages\\Plots\\iYDwd\\src\\backends\\gr.jl:849",
      "  [5] iterate",
      "    @ .\\generator.jl:47 [inlined]",
      "  [6] _collect(c::Matrix{AbstractLayout}, itr::Base.Generator{Matrix{AbstractLayout}, typeof(Plots._update_min_padding!)}, #unused#::Base.EltypeUnknown, isz::Base.HasShape{2})",
      "    @ Base .\\array.jl:802",
      "  [7] collect_similar",
      "    @ .\\array.jl:711 [inlined]",
      "  [8] map",
      "    @ .\\abstractarray.jl:3261 [inlined]",
      "  [9] _update_min_padding!(layout::Plots.GridLayout)",
      "    @ Plots C:\\Users\\justi\\.julia\\packages\\Plots\\iYDwd\\src\\layouts.jl:282",
      " [10] prepare_output(plt::Plots.Plot{Plots.GRBackend})",
      "    @ Plots C:\\Users\\justi\\.julia\\packages\\Plots\\iYDwd\\src\\plot.jl:189",
      " [11] show(io::IOBuffer, m::MIME{Symbol(\"image/svg+xml\")}, plt::Plots.Plot{Plots.GRBackend})",
      "    @ Plots C:\\Users\\justi\\.julia\\packages\\Plots\\iYDwd\\src\\output.jl:214",
      " [12] sprint(::Function, ::MIME{Symbol(\"image/svg+xml\")}, ::Vararg{Any}; context::Nothing, sizehint::Int64)",
      "    @ Base .\\strings\\io.jl:114",
      " [13] sprint",
      "    @ .\\strings\\io.jl:107 [inlined]",
      " [14] _ijulia_display_dict(plt::Plots.Plot{Plots.GRBackend})",
      "    @ Plots C:\\Users\\justi\\.julia\\packages\\Plots\\iYDwd\\src\\ijulia.jl:53",
      " [15] display_dict(plt::Plots.Plot{Plots.GRBackend})",
      "    @ Plots C:\\Users\\justi\\.julia\\packages\\Plots\\iYDwd\\src\\init.jl:77",
      " [16] #invokelatest#2",
      "    @ .\\essentials.jl:816 [inlined]",
      " [17] invokelatest",
      "    @ .\\essentials.jl:813 [inlined]",
      " [18] execute_request(socket::ZMQ.Socket, msg::IJulia.Msg)",
      "    @ IJulia C:\\Users\\justi\\.julia\\packages\\IJulia\\Vo51o\\src\\execute_request.jl:112",
      " [19] #invokelatest#2",
      "    @ .\\essentials.jl:816 [inlined]",
      " [20] invokelatest",
      "    @ .\\essentials.jl:813 [inlined]",
      " [21] eventloop(socket::ZMQ.Socket)",
      "    @ IJulia C:\\Users\\justi\\.julia\\packages\\IJulia\\Vo51o\\src\\eventloop.jl:8",
      " [22] (::IJulia.var\"#15#18\")()",
      "    @ IJulia .\\task.jl:514"
     ]
    }
   ],
   "source": [
    "plot(range(1,5),range(1,5))"
   ]
  },
  {
   "cell_type": "code",
   "execution_count": 6,
   "id": "3c70fb37",
   "metadata": {},
   "outputs": [
    {
     "ename": "ErrorException",
     "evalue": "could not load library \"libGR.dll\"\nThe specified module could not be found. ",
     "output_type": "error",
     "traceback": [
      "could not load library \"libGR.dll\"\nThe specified module could not be found. ",
      "",
      "Stacktrace:",
      "  [1] setcharheight(height::Float64)",
      "    @ GR C:\\Users\\GreenFluids_VR\\.julia\\packages\\GR\\BwGt2\\src\\GR.jl:1417",
      "  [2] gr_set_font(f::Plots.Font, s::Plots.Subplot{Plots.GRBackend}; halign::Symbol, valign::Symbol, color::RGB{FixedPointNumbers.N0f8}, rotation::Float64)",
      "    @ Plots C:\\Users\\GreenFluids_VR\\.julia\\packages\\Plots\\iYDwd\\src\\backends\\gr.jl:390",
      "  [3] gr_set_font(f::Plots.Font, s::Plots.Subplot{Plots.GRBackend})",
      "    @ Plots C:\\Users\\GreenFluids_VR\\.julia\\packages\\Plots\\iYDwd\\src\\backends\\gr.jl:387",
      "  [4] _update_min_padding!(sp::Plots.Subplot{Plots.GRBackend})",
      "    @ Plots C:\\Users\\GreenFluids_VR\\.julia\\packages\\Plots\\iYDwd\\src\\backends\\gr.jl:755",
      "  [5] iterate",
      "    @ .\\generator.jl:47 [inlined]",
      "  [6] _collect(c::Matrix{AbstractLayout}, itr::Base.Generator{Matrix{AbstractLayout}, typeof(Plots._update_min_padding!)}, #unused#::Base.EltypeUnknown, isz::Base.HasShape{2})",
      "    @ Base .\\array.jl:802",
      "  [7] collect_similar",
      "    @ .\\array.jl:711 [inlined]",
      "  [8] map",
      "    @ .\\abstractarray.jl:3261 [inlined]",
      "  [9] _update_min_padding!(layout::Plots.GridLayout)",
      "    @ Plots C:\\Users\\GreenFluids_VR\\.julia\\packages\\Plots\\iYDwd\\src\\layouts.jl:282",
      " [10] prepare_output(plt::Plots.Plot{Plots.GRBackend})",
      "    @ Plots C:\\Users\\GreenFluids_VR\\.julia\\packages\\Plots\\iYDwd\\src\\plot.jl:189",
      " [11] show(io::IOBuffer, m::MIME{Symbol(\"image/svg+xml\")}, plt::Plots.Plot{Plots.GRBackend})",
      "    @ Plots C:\\Users\\GreenFluids_VR\\.julia\\packages\\Plots\\iYDwd\\src\\output.jl:214",
      " [12] sprint(::Function, ::MIME{Symbol(\"image/svg+xml\")}, ::Vararg{Any}; context::Nothing, sizehint::Int64)",
      "    @ Base .\\strings\\io.jl:114",
      " [13] sprint",
      "    @ .\\strings\\io.jl:107 [inlined]",
      " [14] _ijulia_display_dict(plt::Plots.Plot{Plots.GRBackend})",
      "    @ Plots C:\\Users\\GreenFluids_VR\\.julia\\packages\\Plots\\iYDwd\\src\\ijulia.jl:53",
      " [15] display_dict(plt::Plots.Plot{Plots.GRBackend})",
      "    @ Plots C:\\Users\\GreenFluids_VR\\.julia\\packages\\Plots\\iYDwd\\src\\init.jl:77",
      " [16] #invokelatest#2",
      "    @ .\\essentials.jl:816 [inlined]",
      " [17] invokelatest",
      "    @ .\\essentials.jl:813 [inlined]",
      " [18] execute_request(socket::ZMQ.Socket, msg::IJulia.Msg)",
      "    @ IJulia C:\\Users\\GreenFluids_VR\\.julia\\packages\\IJulia\\Vo51o\\src\\execute_request.jl:112",
      " [19] #invokelatest#2",
      "    @ .\\essentials.jl:816 [inlined]",
      " [20] invokelatest",
      "    @ .\\essentials.jl:813 [inlined]",
      " [21] eventloop(socket::ZMQ.Socket)",
      "    @ IJulia C:\\Users\\GreenFluids_VR\\.julia\\packages\\IJulia\\Vo51o\\src\\eventloop.jl:8",
      " [22] (::IJulia.var\"#15#18\")()",
      "    @ IJulia .\\task.jl:514"
     ]
    }
   ],
   "source": [
    "#p1 = \n",
    "#contourf(xdata[2:end-1,1], ydata[1,2:end-1], max.(min.(vorticity[2:end-1,2:end-1]', 30), -30), levels=100, lw=0, xlabel=\"x (m)\", ylabel=\"y (m)\", title=\"Vorticity\", color=:vik, aspect_ratio=:equal, clim=(-30,30), xlims=(-0.1, 0.2), ylims=(-0.1,0.1));\n",
    "#plot(xfoil,yfoil,fill=true,aspect_ratio=:equal,c=:black,legend = false)"
   ]
  },
  {
   "cell_type": "code",
   "execution_count": null,
   "id": "00b6e6ac",
   "metadata": {},
   "outputs": [],
   "source": [
    "p2 = contourf(xdata[2:end-1,1], ydata[1,2:end-1], max.(min.(q_value[2:end-1,2:end-1]', 100), -100), levels=100, lw=0, xlabel=\"x (m)\", ylabel=\"y (m)\", title=\"Q\", color=:vik, aspect_ratio=:equal, clim=(-100,100), xlims=(-0.1, 0.2), ylims=(-0.1,0.1));\n",
    "plot!(xfoil,yfoil,fill=true,aspect_ratio=:equal,c=:black,legend = false)"
   ]
  },
  {
   "cell_type": "markdown",
   "id": "1d29bd72",
   "metadata": {},
   "source": [
    "### Load Phi Field data - changed directory"
   ]
  },
  {
   "cell_type": "code",
   "execution_count": null,
   "id": "32e9531b",
   "metadata": {},
   "outputs": [],
   "source": [
    "#cd(\"/Users/yuanhangzhu/Dropbox/Research/UVA/FMPM/2D PIV case/Potential/drag_potential\")\n",
    "cd(\"E:/Research/2D_PIV_pitching_foil_YZ/Potential/drag_potential\")\n",
    "phi_drag = readdlm(\"phi_drag_$num.txt\", ',', '\\n')[:,3]; # load phi field data\n",
    "phi_drag_data = reshape(phi_drag, (yn, xn))\n",
    "\n",
    "p3 = contourf(xdata[2:end-1,1], ydata[1,2:end-1], phi_drag_data[2:end-1,2:end-1], levels=50, lw=0, xlabel=\"x (m)\", ylabel=\"y (m)\", title=\"Phi\", color=:vik, aspect_ratio=:equal, clim=(-0.01,0.01), xlims=(-0.1, 0.2), ylims=(-0.1,0.1));\n",
    "plot!(xfoil,yfoil,fill=true,aspect_ratio=:equal,c=:black,legend = false)"
   ]
  },
  {
   "cell_type": "code",
   "execution_count": null,
   "id": "0369d6ed",
   "metadata": {},
   "outputs": [],
   "source": [
    "drag_density = -2*.*(q_value',phi_drag_data) # calculate vorticity-induced force density\n",
    "p3 = contourf(xdata[2:end-1,1], ydata[1,2:end-1], max.(min.(drag_density[2:end-1,2:end-1], 0.2), -0.2), levels=50, lw=0, xlabel=\"x (m)\", ylabel=\"y (m)\", title=\"Drag density\", color=:vik, aspect_ratio=:equal, clim=(-0.2,0.2), xlims=(-0.1, 0.2), ylims=(-0.1,0.1));\n",
    "plot!(xfoil,yfoil,fill=true,aspect_ratio=:equal,c=:black,legend = false)"
   ]
  }
 ],
 "metadata": {
  "kernelspec": {
   "display_name": "Julia 1.9.2",
   "language": "julia",
   "name": "julia-1.9"
  },
  "language_info": {
   "file_extension": ".jl",
   "mimetype": "application/julia",
   "name": "julia",
   "version": "1.9.2"
  }
 },
 "nbformat": 4,
 "nbformat_minor": 5
}
