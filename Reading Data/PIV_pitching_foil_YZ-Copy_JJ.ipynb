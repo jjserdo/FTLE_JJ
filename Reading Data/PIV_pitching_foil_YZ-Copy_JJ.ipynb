{
 "cells": [
  {
   "cell_type": "code",
   "execution_count": 1,
   "id": "8e55d976",
   "metadata": {},
   "outputs": [
    {
     "name": "stderr",
     "output_type": "stream",
     "text": [
      "\u001b[36m\u001b[1m[ \u001b[22m\u001b[39m\u001b[36m\u001b[1mInfo: \u001b[22m\u001b[39mPrecompiling Plots [91a5bcdd-55d7-5caf-9e0b-520d859cae80]\n"
     ]
    }
   ],
   "source": [
    "# Read the PIV velocity data of a 2D pitching foil\n",
    "# Calculate the vorticity and Q value\n",
    "# Plot the vorticity, Q, influence potential, and vorticity-induced force/moment density\n",
    "# Yuanhang Zhu\n",
    "# Aug 1, 2023\n",
    "\n",
    "using DelimitedFiles\n",
    "using Plots\n",
    "\n",
    "function calculate_vorticity_Q(x::Matrix{T}, y::Matrix{T}, u::Matrix{T}, v::Matrix{T}) where T\n",
    "    nx, ny = size(u,2), size(u,1)\n",
    "    vorticity = similar(u, T)\n",
    "    q_value = similar(u, T)\n",
    "    \n",
    "    for j in 2:(ny-1)\n",
    "        for i in 2:(nx-1)\n",
    "            dv_dx = (v[j, i+1] - v[j, i-1]) / (x[j, i+1] - x[j, i-1])\n",
    "            du_dy = (u[j+1, i] - u[j-1, i]) / (y[j+1, i] - y[j-1, i])\n",
    "            \n",
    "            # Calculate rate of strain tensor components\n",
    "            ds_dx = 0.5 * (du_dy + dv_dx)\n",
    "            du_dx = (u[j, i+1] - u[j, i-1]) / (x[j, i+1] - x[j, i-1])\n",
    "            dv_dy = (v[j+1, i] - v[j-1, i]) / (y[j+1, i] - y[j-1, i])\n",
    "            ds_dy = 0.5 * (du_dx + dv_dy)\n",
    "            \n",
    "            # Calculate vorticity\n",
    "            vorticity[j, i] = dv_dx - du_dy\n",
    "\n",
    "            # Calculate Q values\n",
    "            # q_value[j, i] = 0.5 * (vorticity[j, i]^2 + ds_dx^2 + ds_dy^2)\n",
    "            q_value[j, i] = -du_dy * dv_dx + du_dx * dv_dy\n",
    "        end\n",
    "    end\n",
    "    \n",
    "    return vorticity, q_value\n",
    "end\n",
    "\n",
    "num = 1; # phase number"
   ]
  },
  {
   "cell_type": "markdown",
   "id": "84826f2f",
   "metadata": {},
   "source": [
    "### Load Airfoil Coordinates - changed directory"
   ]
  },
  {
   "cell_type": "code",
   "execution_count": 2,
   "id": "a2179093",
   "metadata": {},
   "outputs": [],
   "source": [
    "#cd(\"/Users/yuanhangzhu/Dropbox/Research/UVA/FMPM/2D PIV case/foil shape\") # load foil coordinates\n",
    "cd(\"D:/Research/2D_PIV_pitching_foil_YZ/foil shape\") # load foil coordinates\n",
    "shape = readdlm(\"foil_coordinate_$num.txt\", ',', '\\n')\n",
    "xfoil = shape[:,1];\n",
    "yfoil = shape[:,2];"
   ]
  },
  {
   "cell_type": "markdown",
   "id": "5a3ed3ca",
   "metadata": {},
   "source": [
    "### Load Velocity Field Data - changed directory"
   ]
  },
  {
   "cell_type": "code",
   "execution_count": 3,
   "id": "f37ebeec",
   "metadata": {},
   "outputs": [],
   "source": [
    "#cd(\"/Users/yuanhangzhu/Dropbox/Research/UVA/FMPM/2D PIV case/PIV data\") # load velocity field data\n",
    "cd(\"D:/Research/2D_PIV_pitching_foil_YZ/PIV data\") # load velocity field data\n",
    "velocity_data = readdlm(\"velocity_field_$num.txt\", ',', '\\n')\n",
    "\n",
    "xn = 119; # number of values in x-direction\n",
    "yn = 81; # number of values in y-direction\n",
    "\n",
    "x = velocity_data[:,1];\n",
    "y = velocity_data[:,2];\n",
    "u = velocity_data[:,3];\n",
    "v = velocity_data[:,4];\n",
    "\n",
    "xdata = reshape(x, (xn, yn));\n",
    "ydata = reshape(y, (xn, yn));\n",
    "udata = reshape(u, (xn, yn));\n",
    "vdata = reshape(v, (xn, yn));\n",
    "\n",
    "\n",
    "vorticity, q_value = calculate_vorticity_Q(ydata, xdata, -vdata, -udata);"
   ]
  },
  {
   "cell_type": "markdown",
   "id": "ea779cdf",
   "metadata": {},
   "source": [
    "### Plot Vorticity Field"
   ]
  },
  {
   "cell_type": "markdown",
   "id": "ff12ca0d",
   "metadata": {},
   "source": [
    "<div class=\"alert alert-block alert-danger\">  \n",
    "could not load library \"libGR.dll\" <br>\n",
    "The specified module could not be found. \n",
    "</div>\n",
    "tried to resolve by  <br>\n",
    "\n",
    "import Pkg <br>\n",
    "ENV[\"GRDIR\"]=\"\" <br>\n",
    "Pkg.build(\"GR\")<br>\n",
    "\n",
    "but did not end up working still, and received error    \n",
    "\n",
    "<div class=\"alert alert-block alert-warning\">  \n",
    "Error building `GR`: <br>\n",
    "[ Info: Downloading pre-compiled GR latest Windows binary <br>\n",
    "ERROR: LoadError: IOError: could not spawn `'C:\\Users\\GreenFluids_VR\\Desktop\\julia-1.9.2\\bin\\..\\libexec/7z' x downloads/gr- <br>latest-Windows-x86_64.tar.gz -y`: no such file or directory (ENOENT)\n",
    "</div>"
   ]
  },
  {
   "cell_type": "code",
   "execution_count": 4,
   "id": "3c70fb37",
   "metadata": {},
   "outputs": [
    {
     "ename": "ErrorException",
     "evalue": "could not load library \"libGR.dll\"\nThe specified module could not be found. ",
     "output_type": "error",
     "traceback": [
      "could not load library \"libGR.dll\"\nThe specified module could not be found. ",
      "",
      "Stacktrace:",
      "  [1] setcharheight(height::Float64)",
      "    @ GR C:\\Users\\GreenFluids_VR\\.julia\\packages\\GR\\BwGt2\\src\\GR.jl:1417",
      "  [2] gr_set_font(f::Plots.Font, s::Plots.Subplot{Plots.GRBackend}; halign::Symbol, valign::Symbol, color::RGBA{Float64}, rotation::Float64)",
      "    @ Plots C:\\Users\\GreenFluids_VR\\.julia\\packages\\Plots\\iYDwd\\src\\backends\\gr.jl:390",
      "  [3] gr_set_font(f::Plots.Font, s::Plots.Subplot{Plots.GRBackend})",
      "    @ Plots C:\\Users\\GreenFluids_VR\\.julia\\packages\\Plots\\iYDwd\\src\\backends\\gr.jl:387",
      "  [4] _update_min_padding!(sp::Plots.Subplot{Plots.GRBackend})",
      "    @ Plots C:\\Users\\GreenFluids_VR\\.julia\\packages\\Plots\\iYDwd\\src\\backends\\gr.jl:755",
      "  [5] iterate",
      "    @ .\\generator.jl:47 [inlined]",
      "  [6] _collect(c::Matrix{AbstractLayout}, itr::Base.Generator{Matrix{AbstractLayout}, typeof(Plots._update_min_padding!)}, #unused#::Base.EltypeUnknown, isz::Base.HasShape{2})",
      "    @ Base .\\array.jl:802",
      "  [7] collect_similar",
      "    @ .\\array.jl:711 [inlined]",
      "  [8] map",
      "    @ .\\abstractarray.jl:3261 [inlined]",
      "  [9] _update_min_padding!(layout::Plots.GridLayout)",
      "    @ Plots C:\\Users\\GreenFluids_VR\\.julia\\packages\\Plots\\iYDwd\\src\\layouts.jl:282",
      " [10] prepare_output(plt::Plots.Plot{Plots.GRBackend})",
      "    @ Plots C:\\Users\\GreenFluids_VR\\.julia\\packages\\Plots\\iYDwd\\src\\plot.jl:189",
      " [11] show(io::IOBuffer, m::MIME{Symbol(\"image/svg+xml\")}, plt::Plots.Plot{Plots.GRBackend})",
      "    @ Plots C:\\Users\\GreenFluids_VR\\.julia\\packages\\Plots\\iYDwd\\src\\output.jl:214",
      " [12] sprint(::Function, ::MIME{Symbol(\"image/svg+xml\")}, ::Vararg{Any}; context::Nothing, sizehint::Int64)",
      "    @ Base .\\strings\\io.jl:114",
      " [13] sprint",
      "    @ .\\strings\\io.jl:107 [inlined]",
      " [14] _ijulia_display_dict(plt::Plots.Plot{Plots.GRBackend})",
      "    @ Plots C:\\Users\\GreenFluids_VR\\.julia\\packages\\Plots\\iYDwd\\src\\ijulia.jl:53",
      " [15] display_dict(plt::Plots.Plot{Plots.GRBackend})",
      "    @ Plots C:\\Users\\GreenFluids_VR\\.julia\\packages\\Plots\\iYDwd\\src\\init.jl:77",
      " [16] #invokelatest#2",
      "    @ .\\essentials.jl:816 [inlined]",
      " [17] invokelatest",
      "    @ .\\essentials.jl:813 [inlined]",
      " [18] execute_request(socket::ZMQ.Socket, msg::IJulia.Msg)",
      "    @ IJulia C:\\Users\\GreenFluids_VR\\.julia\\packages\\IJulia\\Vo51o\\src\\execute_request.jl:112",
      " [19] #invokelatest#2",
      "    @ .\\essentials.jl:816 [inlined]",
      " [20] invokelatest",
      "    @ .\\essentials.jl:813 [inlined]",
      " [21] eventloop(socket::ZMQ.Socket)",
      "    @ IJulia C:\\Users\\GreenFluids_VR\\.julia\\packages\\IJulia\\Vo51o\\src\\eventloop.jl:8",
      " [22] (::IJulia.var\"#15#18\")()",
      "    @ IJulia .\\task.jl:514"
     ]
    }
   ],
   "source": [
    "p1 = contourf(xdata[2:end-1,1], ydata[1,2:end-1], max.(min.(vorticity[2:end-1,2:end-1]', 30), -30), levels=100, lw=0, xlabel=\"x (m)\", ylabel=\"y (m)\", title=\"Vorticity\", color=:vik, aspect_ratio=:equal, clim=(-30,30), xlims=(-0.1, 0.2), ylims=(-0.1,0.1));\n",
    "plot!(xfoil,yfoil,fill=true,aspect_ratio=:equal,c=:black,legend = false)"
   ]
  },
  {
   "cell_type": "code",
   "execution_count": null,
   "id": "00b6e6ac",
   "metadata": {},
   "outputs": [],
   "source": [
    "p2 = contourf(xdata[2:end-1,1], ydata[1,2:end-1], max.(min.(q_value[2:end-1,2:end-1]', 100), -100), levels=100, lw=0, xlabel=\"x (m)\", ylabel=\"y (m)\", title=\"Q\", color=:vik, aspect_ratio=:equal, clim=(-100,100), xlims=(-0.1, 0.2), ylims=(-0.1,0.1));\n",
    "plot!(xfoil,yfoil,fill=true,aspect_ratio=:equal,c=:black,legend = false)"
   ]
  },
  {
   "cell_type": "markdown",
   "id": "1d29bd72",
   "metadata": {},
   "source": [
    "### Load Phi Field data - changed directory"
   ]
  },
  {
   "cell_type": "code",
   "execution_count": null,
   "id": "32e9531b",
   "metadata": {},
   "outputs": [],
   "source": [
    "#cd(\"/Users/yuanhangzhu/Dropbox/Research/UVA/FMPM/2D PIV case/Potential/drag_potential\")\n",
    "cd(\"D:/Research/2D_PIV_pitching_foil_YZ/Potential/drag_potential\")\n",
    "phi_drag = readdlm(\"phi_drag_$num.txt\", ',', '\\n')[:,3]; # load phi field data\n",
    "phi_drag_data = reshape(phi_drag, (yn, xn))\n",
    "\n",
    "p3 = contourf(xdata[2:end-1,1], ydata[1,2:end-1], phi_drag_data[2:end-1,2:end-1], levels=50, lw=0, xlabel=\"x (m)\", ylabel=\"y (m)\", title=\"Phi\", color=:vik, aspect_ratio=:equal, clim=(-0.01,0.01), xlims=(-0.1, 0.2), ylims=(-0.1,0.1));\n",
    "plot!(xfoil,yfoil,fill=true,aspect_ratio=:equal,c=:black,legend = false)"
   ]
  },
  {
   "cell_type": "code",
   "execution_count": null,
   "id": "0369d6ed",
   "metadata": {},
   "outputs": [],
   "source": [
    "drag_density = -2*.*(q_value',phi_drag_data) # calculate vorticity-induced force density\n",
    "p3 = contourf(xdata[2:end-1,1], ydata[1,2:end-1], max.(min.(drag_density[2:end-1,2:end-1], 0.2), -0.2), levels=50, lw=0, xlabel=\"x (m)\", ylabel=\"y (m)\", title=\"Drag density\", color=:vik, aspect_ratio=:equal, clim=(-0.2,0.2), xlims=(-0.1, 0.2), ylims=(-0.1,0.1));\n",
    "plot!(xfoil,yfoil,fill=true,aspect_ratio=:equal,c=:black,legend = false)"
   ]
  }
 ],
 "metadata": {
  "kernelspec": {
   "display_name": "Julia 1.9.2",
   "language": "julia",
   "name": "julia-1.9"
  },
  "language_info": {
   "file_extension": ".jl",
   "mimetype": "application/julia",
   "name": "julia",
   "version": "1.9.2"
  }
 },
 "nbformat": 4,
 "nbformat_minor": 5
}
