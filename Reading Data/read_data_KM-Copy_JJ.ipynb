{
 "cells": [
  {
   "cell_type": "markdown",
   "metadata": {},
   "source": [
    "## Read and visualize simulation data for two-dimensional flow around a pitching NACA0015 airfoil at $Re = 1000$.\n",
    "\n",
    "### Airfoil kinematics: $\\theta = \\theta_0 + \\Delta \\theta sin(2\\pi f^*t)$, where $f^* = 0.15$, $\\Delta \\theta = 25^{\\circ}$, $\\theta_0 = 15^{\\circ}$.\n",
    "***\n",
    "***"
   ]
  },
  {
   "cell_type": "markdown",
   "metadata": {},
   "source": [
    "### Function: Read the coordinates of the Cartesian grid from the simulation data\n",
    "The grid used for the simulation is stored in `xgrid.dat` and `ygrid.dat` files for X and Y directions"
   ]
  },
  {
   "cell_type": "code",
   "execution_count": 6,
   "metadata": {},
   "outputs": [],
   "source": [
    "using DelimitedFiles\n",
    "function set_grid()\n",
    "    global overall_path\n",
    "    # Read grid files\n",
    "    gridfile = overall_path * \"xgrid.dat\"\n",
    "    x_grid = readdlm(gridfile)[:,2]\n",
    "    gridfile = overall_path * \"ygrid.dat\"\n",
    "    y_grid = readdlm(gridfile)[:,2]\n",
    "    # Create arrays for cell-centered grid points\n",
    "    nxc = size(x_grid, 1) - 1\n",
    "    nyc = size(y_grid, 1) - 1\n",
    "    xc = zeros(nxc)\n",
    "    yc = zeros(nyc)\n",
    "    # Convert face-centered to cell-centered coordinates\n",
    "    for i in 1:nxc\n",
    "        xc[i] = 0.5 * (x_grid[i] + x_grid[i+1])\n",
    "    end\n",
    "    for j in 1:nyc\n",
    "        yc[j] = 0.5 * (y_grid[j] + y_grid[j+1])\n",
    "    end\n",
    "    return nxc, nyc, xc, yc\n",
    "end;"
   ]
  },
  {
   "cell_type": "markdown",
   "metadata": {},
   "source": [
    "### Function: Read data within a rectangular subdomain inside the cartesian grid.\n",
    "\n",
    ">#### Function arguments:\n",
    "`data_path`: Location of simulation data files (`qout*.dat` data files)<br>\n",
    "`tstep`: Timestep to read<br>\n",
    "`varlist`: Indices of variables to read (depends on the format of the data file being read)<br>\n",
    "`nxc`, `nyc`: Number of grid points in the X and Y directions (cell-centered)<br>\n",
    "`xstart`, `xend`, `ystart`, `yend`: Start and end indices of the \"box\" to be read within the grid in the X and Y direction"
   ]
  },
  {
   "cell_type": "code",
   "execution_count": 7,
   "metadata": {},
   "outputs": [],
   "source": [
    "function read_subdomain_data(data_path,tstep,varlist,nxc,nyc,xstart,xend,ystart,yend)\n",
    "    filename = data_path * \"qout.\" * lpad(Int(tstep),7,'0') * \".dat\"\n",
    "    f = open(filename,\"r\")\n",
    "    # Vector to store all the variables read in a flattened representation\n",
    "    result = []\n",
    "    # Iterate through list of variables to read\n",
    "    for varnum in varlist\n",
    "        # Move to the start of each variable in the binary file\n",
    "        seek(f,8*nxc*nyc*(varnum-1))\n",
    "        # Read nxc*nyc entries corresponding to the current variable on the grid\n",
    "        fullfield = reinterpret(Float64, read(f, 8*nxc*nyc))\n",
    "        # Reshape the flattened array read above to a 2D matrix\n",
    "        fullfield_2d = reshape(fullfield,(nxc,nyc))\n",
    "        # Store the part of the grid contained within the box [xstart,xend],[ystart,yend]\n",
    "        field_subdomain = fullfield_2d[xstart:xend-1,ystart:yend-1]\n",
    "        # Flatten and store the variable within the \"box\"/subdomain of the grid\n",
    "        result = vcat(result,vec(field_subdomain))\n",
    "    end\n",
    "    close(f)\n",
    "    return result\n",
    "end;"
   ]
  },
  {
   "cell_type": "markdown",
   "metadata": {},
   "source": [
    "### Function: Plot 2D contours of specified variables\n",
    "\n",
    ">#### Function arguments:\n",
    "`save_path`: Directory to save figure into<br>\n",
    "`var`: Data to be plotted, represented as a flattened array<br>\n",
    "`x_contour`, `y_contour`: X and Y coordinates corresponding to the \"box\"/subdomain of the grid being plotted<br>\n",
    "`levels`: Contour levels<br>\n",
    "`xl`, `yl`: X and Y contour limits"
   ]
  },
  {
   "cell_type": "code",
   "execution_count": 26,
   "metadata": {},
   "outputs": [],
   "source": [
    "using PyPlot\n",
    "\n",
    "function plot_contour(save_path,var,varname,x_contour,y_contour,levels,xl,yl)\n",
    "    my_dpi = 100\n",
    "    # Convert flattened array to 2D matrix\n",
    "    var_contour = transpose(reshape(var,(length(x_contour)-1,length(y_contour)-1)))\n",
    "    # Plot contour\n",
    "    CS = contourf(x_contour[1:end-1],y_contour[1:end-1],var_contour,levels=levels,cmap=ColorMap(\"RdBu_r\"),extend=\"both\")\n",
    "    gca().set_aspect(\"equal\")\n",
    "    xlim(xl)\n",
    "    ylim(yl)\n",
    "    title(varname)\n",
    "    colorbar()\n",
    "    savefig(joinpath(overall_path, save_path, \"New\", \"vort\", save_path * \"_\" * varname * \".png\"), dpi=my_dpi)\n",
    "    close()\n",
    "end;"
   ]
  },
  {
   "cell_type": "markdown",
   "metadata": {},
   "source": [
    "-----------\n",
    "***"
   ]
  },
  {
   "cell_type": "markdown",
   "metadata": {},
   "source": [
    "#### Set up the Cartesian grid\n"
   ]
  },
  {
   "cell_type": "code",
   "execution_count": 9,
   "metadata": {},
   "outputs": [],
   "source": [
    "overall_path = \"/Users/jjser/Desktop/Julia_FTLE_Karthik_Data/airfoil2D_f0.15_amp25deg_KM/\"\n",
    "#\"/Users/karthik-macbook/GDrive-local/AIAA_review_paper/airfoil2D_f0.15_amp25deg_KM/\"\n",
    "\n",
    "nxc,nyc,xc,yc = set_grid();"
   ]
  },
  {
   "cell_type": "markdown",
   "metadata": {},
   "source": [
    "#### Specify the timesteps that need to be read, and the size of the subdomain to read"
   ]
  },
  {
   "cell_type": "code",
   "execution_count": 10,
   "metadata": {},
   "outputs": [],
   "source": [
    "# Timesteps to read from qout.*.dat files\n",
    "tstep_start = 200 \n",
    "tstep_end = 150000\n",
    "tstep_delta = 200\n",
    "\n",
    "num_tsteps = Int64((tstep_end-tstep_start)/tstep_delta + 1)\n",
    "\n",
    "tstep_range = collect(range(tstep_start, tstep_end, length=num_tsteps))\n",
    "\n",
    "# Spatial extent of a rectangular \"box\"/subdomain within the Cartesian grid to read\n",
    "x_start_loc = 9.5\n",
    "x_end_loc = 12.0\n",
    "y_start_loc = 9.0\n",
    "y_end_loc = 11.0\n",
    "\n",
    "# Find indices in the grid corresponding to above X and Y coordinates\n",
    "x_start = argmin(abs.(xc.-x_start_loc))\n",
    "x_end = argmin(abs.(xc.-x_end_loc))+1\n",
    "y_start = argmin(abs.(yc.-y_start_loc))\n",
    "y_end = argmin(abs.(yc.-y_end_loc))+1\n",
    "\n",
    "# Number of grid points in the \"box\"/subdomain within the Cartesian grid to read\n",
    "nx_subdomain = x_end-x_start\n",
    "ny_subdomain = y_end-y_start\n",
    "subdomain_size = nx_subdomain*ny_subdomain;"
   ]
  },
  {
   "cell_type": "markdown",
   "metadata": {},
   "source": [
    "#### Specify the indices of the variables that need to be read and their names"
   ]
  },
  {
   "cell_type": "code",
   "execution_count": 11,
   "metadata": {},
   "outputs": [],
   "source": [
    "var_list = [1,2,3,4,5,10,13];\n",
    "var_names = [\"u\",\"v\",\"p\",\"iblank\",\"vorticity\",\"fpm_scalar\",\"vif\"];"
   ]
  },
  {
   "cell_type": "markdown",
   "metadata": {},
   "source": [
    "#### Read the data corresponding to the timesteps and variables specified above"
   ]
  },
  {
   "cell_type": "code",
   "execution_count": 12,
   "metadata": {},
   "outputs": [],
   "source": [
    "# Number of variables\n",
    "numvar = length(var_list)\n",
    "\n",
    "# Dictionary associating the order of variable names with indices\n",
    "var_idxs = Dict(zip(var_names,1:numvar))\n",
    "\n",
    "# Data object to store all variables at all timesteps\n",
    "# For each timestep, all variables are stored sequentially as flattened arrays\n",
    "data = zeros(nx_subdomain*ny_subdomain*numvar,num_tsteps)\n",
    "\n",
    "for (i,tstep) in enumerate(tstep_range)\n",
    "    data_subdomain = read_subdomain_data(overall_path,tstep,var_list,nxc,nyc,x_start,x_end,y_start,y_end)\n",
    "    data[:,i] = data_subdomain[:]\n",
    "end"
   ]
  },
  {
   "cell_type": "markdown",
   "metadata": {},
   "source": [
    "#### Create and save contour plots for specified variables"
   ]
  },
  {
   "cell_type": "code",
   "execution_count": 21,
   "metadata": {},
   "outputs": [],
   "source": [
    "subfolder = \"plots_JJ\"\n",
    "for (i,tstep) in enumerate(tstep_range)    \n",
    "    # Specify the variable to plot (should be a member of `var_names`)\n",
    "    var_name = \"v\"\n",
    "    var_id = var_idxs[var_name]\n",
    "    plot_contour(subfolder,data[(var_id-1)*subdomain_size+1:var_id*subdomain_size,i],var_name*\"_\"*lpad(Int(tstep),7,'0'),xc[x_start:x_end],yc[y_start:y_end],range(-1.0,1.0,length=30),[x_start_loc,x_end_loc],[y_start_loc,y_end_loc])\n",
    "end"
   ]
  },
  {
   "cell_type": "code",
   "execution_count": 18,
   "metadata": {},
   "outputs": [
    {
     "name": "stdout",
     "output_type": "stream",
     "text": [
      "(480, 640)\n"
     ]
    }
   ],
   "source": [
    "im = load(\"/Users/jjser/Desktop/Julia_FTLE_Karthik_Data/airfoil2D_f0.15_amp25deg_KM/plots_JJ/New/u/plots_JJ_u_0000200.png\")\n",
    "println(size(im))"
   ]
  },
  {
   "cell_type": "code",
   "execution_count": 31,
   "metadata": {},
   "outputs": [],
   "source": [
    "gif_arr = ones(RGB{N0f8}, (480, 640, num_tsteps)) \n",
    "save_path = \"plots_JJ\"\n",
    "for tstep in 1:num_tsteps-1\n",
    "    time = Int(tstep_start+(tstep-1)*tstep_delta)\n",
    "    varname = lpad(time,7,'0')\n",
    "    im = load(joinpath(overall_path, save_path, \"New\", \"v\", save_path * \"_v_\" * varname * \".png\"))\n",
    "    gif_arr[:,:,tstep] = im\n",
    "end # for \n",
    "\n",
    "save(joinpath(overall_path, save_path, \"New\", \"vgif.gif\"), gif_arr)\n",
    "#println(\"done\")"
   ]
  },
  {
   "cell_type": "code",
   "execution_count": null,
   "metadata": {},
   "outputs": [],
   "source": []
  }
 ],
 "metadata": {
  "kernelspec": {
   "display_name": "Julia 1.9.1",
   "language": "julia",
   "name": "julia-1.9"
  },
  "language_info": {
   "file_extension": ".jl",
   "mimetype": "application/julia",
   "name": "julia",
   "version": "1.9.1"
  }
 },
 "nbformat": 4,
 "nbformat_minor": 3
}
