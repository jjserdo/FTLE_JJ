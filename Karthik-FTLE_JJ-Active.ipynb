{
 "cells": [
  {
   "cell_type": "markdown",
   "id": "767113d7",
   "metadata": {},
   "source": [
    "# Finite Time Lyapunov Exponent (FTLE) analysis\n",
    "### Author: Justine John (JJ) A. Serdoncillo \n",
    "### Date Created: July 25, 2023\n",
    "---\n",
    "\n",
    "\n",
    "# <font color='289C4E'>Table of contents<font><a class='anchor' id='top'></a>\n",
    "1. [Karthik Functions](#1)\n",
    "2. [Read Data](#2)\n",
    "3. [Particle Tracking](#3)\n",
    "4. [FTLE Calculation](#4)\n",
    "5. [Visualization](#5)\n",
    "5. [Save Data](#6)"
   ]
  },
  {
   "cell_type": "markdown",
   "id": "526d6705",
   "metadata": {},
   "source": [
    "## Simulation data for two-dimensional flow around a pitching NACA0015 airfoil at $Re = 1000$\n",
    "\n",
    "### Airfoil kinematics: $\\theta = \\theta_0 + \\Delta \\theta sin(2\\pi f^*t)$, where $f^* = 0.15$, $\\Delta \\theta = 25^{\\circ}$, $\\theta_0 = 15^{\\circ}$.\n",
    "***\n",
    "***"
   ]
  },
  {
   "cell_type": "markdown",
   "id": "cb433757",
   "metadata": {},
   "source": [
    "## <font color='289C4E'>Karthik Functions<font><a id='1'></a>\n"
   ]
  },
  {
   "cell_type": "code",
   "execution_count": 1,
   "id": "fc0d98ea",
   "metadata": {},
   "outputs": [
    {
     "ename": "LoadError",
     "evalue": "ArgumentError: Package BenchMarkTools not found in current path.\n- Run `import Pkg; Pkg.add(\"BenchMarkTools\")` to install the BenchMarkTools package.",
     "output_type": "error",
     "traceback": [
      "ArgumentError: Package BenchMarkTools not found in current path.\n- Run `import Pkg; Pkg.add(\"BenchMarkTools\")` to install the BenchMarkTools package.",
      "",
      "Stacktrace:",
      " [1] macro expansion",
      "   @ .\\loading.jl:1630 [inlined]",
      " [2] macro expansion",
      "   @ .\\lock.jl:267 [inlined]",
      " [3] require(into::Module, mod::Symbol)",
      "   @ Base .\\loading.jl:1611"
     ]
    }
   ],
   "source": [
    "using FileIO, ImageMagick, Colors, FixedPointNumbers, DelimitedFiles, PyPlot, LinearAlgebra, HDF5, BenchMarkTools"
   ]
  },
  {
   "cell_type": "markdown",
   "id": "49c1c66f",
   "metadata": {},
   "source": [
    "<div class=\"alert alert-block alert-warning\">  \n",
    "<b> If error:</b> Run the code below \n",
    "</div>"
   ]
  },
  {
   "cell_type": "raw",
   "id": "b8f53e23",
   "metadata": {},
   "source": [
    "import Pkg\n",
    "Pkg.add(\"FileIO\")\n",
    "Pkg.add(\"ImageMagick\")\n",
    "Pkg.add(\"Colors\")\n",
    "Pkg.add(\"FixedPointNumbers\")\n",
    "Pkg.add(\"DelimitedFiles\")\n",
    "Pkg.add(\"PyPlot\")\n",
    "Pkg.add(\"LinearAlgebra\")"
   ]
  },
  {
   "cell_type": "markdown",
   "id": "9562736f",
   "metadata": {},
   "source": [
    "### Function: Read the coordinates of the Cartesian grid from the simulation data\n",
    "The grid used for the simulation is stored in `xgrid.dat` and `ygrid.dat` files for X and Y directions"
   ]
  },
  {
   "cell_type": "code",
   "execution_count": 2,
   "id": "8a7ba87f",
   "metadata": {},
   "outputs": [],
   "source": [
    "function set_grid()\n",
    "    global overall_path\n",
    "    # Read grid files\n",
    "    gridfile = overall_path * \"xgrid.dat\"\n",
    "    x_grid = readdlm(gridfile)[:,2]\n",
    "    gridfile = overall_path * \"ygrid.dat\"\n",
    "    y_grid = readdlm(gridfile)[:,2]\n",
    "    # Create arrays for cell-centered grid points\n",
    "    nxc = size(x_grid, 1) - 1\n",
    "    nyc = size(y_grid, 1) - 1\n",
    "    xc = zeros(nxc)\n",
    "    yc = zeros(nyc)\n",
    "    # Convert face-centered to cell-centered coordinates\n",
    "    for i in 1:nxc\n",
    "        xc[i] = 0.5 * (x_grid[i] + x_grid[i+1])\n",
    "    end\n",
    "    for j in 1:nyc\n",
    "        yc[j] = 0.5 * (y_grid[j] + y_grid[j+1])\n",
    "    end\n",
    "    return nxc, nyc, xc, yc\n",
    "end;"
   ]
  },
  {
   "cell_type": "markdown",
   "id": "4d1796ca",
   "metadata": {},
   "source": [
    "### Function: Read data within a rectangular subdomain inside the cartesian grid.\n",
    "\n",
    ">#### Function arguments:\n",
    "`data_path`: Location of simulation data files (`qout*.dat` data files)<br>\n",
    "`tstep`: Timestep to read<br>\n",
    "`varlist`: Indices of variables to read (depends on the format of the data file being read)<br>\n",
    "`nxc`, `nyc`: Number of grid points in the X and Y directions (cell-centered)<br>\n",
    "`xstart`, `xend`, `ystart`, `yend`: Start and end indices of the \"box\" to be read within the grid in the X and Y direction"
   ]
  },
  {
   "cell_type": "code",
   "execution_count": 3,
   "id": "4e045a93",
   "metadata": {},
   "outputs": [],
   "source": [
    "function read_subdomain_data(data_path,tstep,varlist,nxc,nyc,xstart,xend,ystart,yend)\n",
    "    filename = data_path * \"qout.\" * lpad(Int(tstep),7,'0') * \".dat\"\n",
    "    f = open(filename,\"r\")\n",
    "    # Vector to store all the variables read in a flattened representation\n",
    "    result = []\n",
    "    # Iterate through list of variables to read\n",
    "    for varnum in varlist\n",
    "        # Move to the start of each variable in the binary file\n",
    "        seek(f,8*nxc*nyc*(varnum-1))\n",
    "        # Read nxc*nyc entries corresponding to the current variable on the grid\n",
    "        fullfield = reinterpret(Float64, read(f, 8*nxc*nyc))\n",
    "        # Reshape the flattened array read above to a 2D matrix\n",
    "        fullfield_2d = reshape(fullfield,(nxc,nyc))\n",
    "        # Store the part of the grid contained within the box [xstart,xend],[ystart,yend]\n",
    "        field_subdomain = fullfield_2d[xstart:xend-1,ystart:yend-1]\n",
    "        # Flatten and store the variable within the \"box\"/subdomain of the grid\n",
    "        result = vcat(result,vec(field_subdomain))\n",
    "    end\n",
    "    close(f)\n",
    "    return result\n",
    "end;"
   ]
  },
  {
   "cell_type": "markdown",
   "id": "b52effbd",
   "metadata": {},
   "source": [
    "## <font color='289C4E'>Read Data<font><a id='2'></a>\n",
    "### Reading all the data at once "
   ]
  },
  {
   "cell_type": "markdown",
   "id": "432e0e51",
   "metadata": {},
   "source": [
    "#### Set up the Cartesian grid"
   ]
  },
  {
   "cell_type": "code",
   "execution_count": 4,
   "id": "69f28adc",
   "metadata": {},
   "outputs": [],
   "source": [
    "overall_path = \"/Users/jjser/Desktop/Julia_FTLE_Karthik_Data/airfoil2D_f0.15_amp25deg_KM/\"\n",
    "\n",
    "nxc,nyc,xc,yc = set_grid();"
   ]
  },
  {
   "cell_type": "markdown",
   "id": "46530e27",
   "metadata": {},
   "source": [
    "#### Specify the timesteps that need to be read, and the size of the subdomain to read"
   ]
  },
  {
   "cell_type": "code",
   "execution_count": 5,
   "id": "10176ce2",
   "metadata": {},
   "outputs": [],
   "source": [
    "# Timesteps to read from qout.*.dat files\n",
    "tstep_start =  200\n",
    "tstep_end = 150000\n",
    "og_tstep_delta = 200\n",
    "\n",
    "og_num_tsteps = Int64((tstep_end-tstep_start)/og_tstep_delta + 1)\n",
    "\n",
    "og_tstep_range = collect(range(tstep_start, tstep_end, length=og_num_tsteps))\n",
    "\n",
    "# Spatial extent of a rectangular \"box\"/subdomain within the Cartesian grid to read\n",
    "x_start_loc = 1.0\n",
    "x_end_loc = 16.0\n",
    "y_start_loc = 1.0\n",
    "y_end_loc = 18.0\n",
    "\n",
    "# Find indices in the grid corresponding to above X and Y coordinates\n",
    "x_start = argmin(abs.(xc.-x_start_loc))\n",
    "x_end = argmin(abs.(xc.-x_end_loc))+1\n",
    "y_start = argmin(abs.(yc.-y_start_loc))\n",
    "y_end = argmin(abs.(yc.-y_end_loc))+1\n",
    "\n",
    "# Number of grid points in the \"box\"/subdomain within the Cartesian grid to read\n",
    "nx_subdomain = x_end-x_start\n",
    "ny_subdomain = y_end-y_start\n",
    "subdomain_size = nx_subdomain*ny_subdomain;"
   ]
  },
  {
   "cell_type": "markdown",
   "id": "95001eb0",
   "metadata": {},
   "source": [
    "#### Read the variables needed"
   ]
  },
  {
   "cell_type": "code",
   "execution_count": 6,
   "id": "793b364f",
   "metadata": {},
   "outputs": [],
   "source": [
    "x_range = xc[x_start:x_end]\n",
    "y_range = yc[y_start:y_end]\n",
    "\n",
    "var_list = [1,2,4,5];\n",
    "var_names = [\"u\",\"v\",\"iblank\",\"vorticity\"];\n",
    "# Number of variables\n",
    "numvar = length(var_list)\n",
    "\n",
    "# Dictionary associating the order of variable names with indices\n",
    "var_idxs = Dict(zip(var_names,1:numvar))\n",
    "\n",
    "# Data object to store all variables at all timesteps\n",
    "# For each timestep, all variables are stored sequentially as flattened arrays\n",
    "data = zeros(nx_subdomain*ny_subdomain*numvar,og_num_tsteps)\n",
    "\n",
    "for (i,tstep) in enumerate(og_tstep_range)\n",
    "    data_subdomain = read_subdomain_data(overall_path,tstep,var_list,nxc,nyc,x_start,x_end,y_start,y_end)\n",
    "    data[:,i] = data_subdomain[:]\n",
    "end"
   ]
  },
  {
   "cell_type": "markdown",
   "id": "23f7162a",
   "metadata": {},
   "source": [
    "#### Choose number of intermediate snapshots and then store into arrays"
   ]
  },
  {
   "cell_type": "code",
   "execution_count": 7,
   "id": "48e7fdba",
   "metadata": {},
   "outputs": [],
   "source": [
    "inter = 4\n",
    "num_tsteps = (og_num_tsteps-1)*inter+1\n",
    "tstep_delta = og_tstep_delta/inter\n",
    "Vel_contour = zeros(Float64, 2, num_tsteps, ny_subdomain, nx_subdomain)\n",
    "Bvo_contour = zeros(Float64, 2, num_tsteps, ny_subdomain, nx_subdomain)\n",
    "\n",
    "for i in 1:og_num_tsteps-1\n",
    "    u1 = data[1:subdomain_size,i]\n",
    "    u2 = data[1:subdomain_size,i+1]\n",
    "    v1 = data[subdomain_size+1:2*subdomain_size,i]\n",
    "    v2 = data[subdomain_size+1:2*subdomain_size,i+1]\n",
    "    b1 = data[2*subdomain_size+1:3*subdomain_size,i]\n",
    "    b2 = data[2*subdomain_size+1:3*subdomain_size,i+1]\n",
    "    o1 = data[3*subdomain_size+1:4*subdomain_size,i]\n",
    "    o2 = data[3*subdomain_size+1:4*subdomain_size,i+1]\n",
    "    \n",
    "    for p in 0:inter-1\n",
    "        uu = u1*(inter-p)/inter + u2*(p)/inter\n",
    "        vv = v1*(inter-p)/inter + v2*(p)/inter\n",
    "        bb = b1*(inter-p)/inter + b2*(p)/inter\n",
    "        oo = o1*(inter-p)/inter + o2*(p)/inter\n",
    "        Vel_contour[1, inter*(i-1)+p+1, :, :] =  transpose(reshape(uu,(length(x_range)-1,length(y_range)-1)))\n",
    "        Vel_contour[2, inter*(i-1)+p+1, :, :] =  transpose(reshape(vv,(length(x_range)-1,length(y_range)-1)))\n",
    "        Bvo_contour[1, inter*(i-1)+p+1, :, :] = (transpose(reshape(bb,(length(x_range)-1,length(y_range)-1))) .> 0.5) .|> Int\n",
    "        Bvo_contour[2, inter*(i-1)+p+1, :, :] =  transpose(reshape(oo,(length(x_range)-1,length(y_range)-1)))\n",
    "    end\n",
    "    \n",
    "    if i == og_num_tsteps-1\n",
    "        Vel_contour[1, num_tsteps, :, :] =  transpose(reshape(u2,(length(x_range)-1,length(y_range)-1)))\n",
    "        Vel_contour[2, num_tsteps, :, :] =  transpose(reshape(v2,(length(x_range)-1,length(y_range)-1)))\n",
    "        Bvo_contour[1, num_tsteps, :, :] = (transpose(reshape(b2,(length(x_range)-1,length(y_range)-1))) .> 0.5) .|> Int\n",
    "        Bvo_contour[2, num_tsteps, :, :] =  transpose(reshape(o2,(length(x_range)-1,length(y_range)-1)))\n",
    "    end\n",
    "end"
   ]
  },
  {
   "cell_type": "markdown",
   "id": "205f2e55",
   "metadata": {},
   "source": [
    "## <font color='289C4E'>Particle Tracking and FTLE calculation<font><a id='3'></a>"
   ]
  },
  {
   "cell_type": "markdown",
   "id": "30842abc",
   "metadata": {},
   "source": [
    "### Function: Find index of position\n",
    "\n",
    ">#### Function arguments:\n",
    "`x`: X-position <br>\n",
    "`y`: Y-position"
   ]
  },
  {
   "cell_type": "code",
   "execution_count": 8,
   "id": "7c584e0c",
   "metadata": {},
   "outputs": [
    {
     "data": {
      "text/plain": [
       "find_me (generic function with 1 method)"
      ]
     },
     "execution_count": 8,
     "metadata": {},
     "output_type": "execute_result"
    }
   ],
   "source": [
    "function find_me(xval, yval)\n",
    "    x1 = argmin(abs.(x_range .- xval))\n",
    "    y1 = argmin(abs.(y_range .- yval))\n",
    "\n",
    "    if x1 >= size(x_range)[1]-1\n",
    "        x1 -= 3\n",
    "    end\n",
    "    \n",
    "    if y1 >= size(y_range)[1]-1\n",
    "        y1 -= 3\n",
    "    end\n",
    "\n",
    "    x2 = x1 + 1\n",
    "    y2 = y1 + 1\n",
    "    \n",
    "    return x1, x2, y1, y2\n",
    "end"
   ]
  },
  {
   "cell_type": "markdown",
   "id": "cf321e7a",
   "metadata": {},
   "source": [
    "### Function: Calculate particle trajectories and FTLE field\n",
    "\n",
    ">#### Function arguments:\n",
    "`nx`, `ny`: Number of particles in the X and Y directions  \n",
    "`x0`, `x1`, `y0`, `y1`: X and Y domain of the instantiated particles\n",
    "`t_0`, `t_1`: Start and end time of the flow"
   ]
  },
  {
   "cell_type": "code",
   "execution_count": 9,
   "id": "b5e07bbc",
   "metadata": {},
   "outputs": [
    {
     "data": {
      "text/plain": [
       "FTLE (generic function with 1 method)"
      ]
     },
     "execution_count": 9,
     "metadata": {},
     "output_type": "execute_result"
    }
   ],
   "source": [
    "function FTLE(nx,ny,x0,x1,y0,y1,t_0,t_1)\n",
    "    move = sign(t_1-t_0)\n",
    "    tstep_range = collect(range(tstep_start, tstep_end, length=num_tsteps))\n",
    "    t_0_ind = argmin(abs.(tstep_range .- t_0))\n",
    "    t_1_ind = argmin(abs.(tstep_range .- t_1))\n",
    "    tsteps = Int64(abs(t_1 - t_0)/tstep_delta + 1)\n",
    "    x = collect(range(x0, x1, length=nx))\n",
    "    y = collect(range(y0, y1, length=ny))\n",
    "    particles = zeros(3, tsteps+1, nx, ny)\n",
    "\n",
    "    for tt in 1:tsteps\n",
    "        for ii in 1:nx\n",
    "            for jj in 1:ny\n",
    "                # Initialize the particles into the flow field\n",
    "                particles[1,tt,ii,jj] = x[ii]\n",
    "                particles[2,tt,ii,jj] = y[jj]\n",
    "            end\n",
    "        end\n",
    "    end\n",
    "    \n",
    "    x = copy(x_range)\n",
    "    y = copy(y_range)\n",
    "    # Iterate through all timesteps \n",
    "    for tt in t_0_ind:move:t_1_ind\n",
    "        # Iterate through all the bros\n",
    "        for ii in 1:nx\n",
    "            for jj in 1:ny\n",
    "                # Let's use Runge Kutta cuz they are OP\n",
    "                kxy = zeros(4,2)\n",
    "                a = particles[1,move*(tt-t_0_ind)+1,ii,jj]\n",
    "                b = particles[2,move*(tt-t_0_ind)+1,ii,jj]\n",
    "                #=Runge Kutta 4th Order K1 =#\n",
    "                c = copy(a)\n",
    "                d = copy(b)\n",
    "                x1, x2, y1, y2 = find_me(c, d)\n",
    "                for UV in 1:2\n",
    "                    kxy[1,UV] = 1/((y[y2]-y[y1])*(x[x2]-x[x1])) * ( \n",
    "                                   (x[x2]-c)*(y[y2]-d)*Vel_contour[UV,tt,y1,x1] + \n",
    "                                   (c-x[x1])*(y[y2]-d)*Vel_contour[UV,tt,y2,x1] +\n",
    "                                   (x[x2]-c)*(d-y[y1])*Vel_contour[UV,tt,y1,x2] +\n",
    "                                   (c-x[x1])*(d-y[y1])*Vel_contour[UV,tt,y2,x2] )\n",
    "                end\n",
    "                #=Runge Kutta 4th Order K2 =#\n",
    "                c = a + 0.5*kxy[1,1]*tstep_delta/1000\n",
    "                d = b + 0.5*kxy[1,2]*tstep_delta/1000\n",
    "                x1, x2, y1, y2 = find_me(c, d)\n",
    "                for UV in 1:2\n",
    "                    kxy[2,UV] = 1/((y[y2]-y[y1])*(x[x2]-x[x1])) * ( \n",
    "                                   (x[x2]-c)*(y[y2]-d)*0.5*(Vel_contour[UV,tt,y1,x1]+Vel_contour[UV,tt+move,y1,x1]) + \n",
    "                                   (c-x[x1])*(y[y2]-d)*0.5*(Vel_contour[UV,tt,y2,x1]+Vel_contour[UV,tt+move,y2,x1]) +\n",
    "                                   (x[x2]-c)*(d-y[y1])*0.5*(Vel_contour[UV,tt,y1,x2]+Vel_contour[UV,tt+move,y1,x2]) +\n",
    "                                   (c-x[x1])*(d-y[y1])*0.5*(Vel_contour[UV,tt,y2,x2]+Vel_contour[UV,tt+move,y2,x2]) )\n",
    "                end\n",
    "                #=Runge Kutta 4th Order K3 =#\n",
    "                c = a + 0.5*kxy[2,1]*tstep_delta/1000\n",
    "                d = b + 0.5*kxy[2,2]*tstep_delta/1000\n",
    "                x1, x2, y1, y2 = find_me(c, d)\n",
    "                for UV in 1:2\n",
    "                    kxy[3,UV] = 1/((y[y2]-y[y1])*(x[x2]-x[x1])) * ( \n",
    "                                   (x[x2]-c)*(y[y2]-d)*0.5*(Vel_contour[UV,tt,y1,x1]+Vel_contour[UV,tt+move,y1,x1]) + \n",
    "                                   (c-x[x1])*(y[y2]-d)*0.5*(Vel_contour[UV,tt,y2,x1]+Vel_contour[UV,tt+move,y2,x1]) +\n",
    "                                   (x[x2]-c)*(d-y[y1])*0.5*(Vel_contour[UV,tt,y1,x2]+Vel_contour[UV,tt+move,y1,x2]) +\n",
    "                                   (c-x[x1])*(d-y[y1])*0.5*(Vel_contour[UV,tt,y2,x2]+Vel_contour[UV,tt+move,y2,x2]) )\n",
    "                end\n",
    "                #=Runge Kutta 4th Order K4 =#\n",
    "                c = a + kxy[3,1]*tstep_delta/1000\n",
    "                d = b + kxy[3,2]*tstep_delta/1000\n",
    "                x1, x2, y1, y2 = find_me(c, d)\n",
    "                for UV in 1:2\n",
    "                    kxy[4,UV] = 1/((y[y2]-y[y1])*(x[x2]-x[x1])) * ( \n",
    "                                   (x[x2]-c)*(y[y2]-d)*Vel_contour[UV,tt+move,y1,x1] + \n",
    "                                   (c-x[x1])*(y[y2]-d)*Vel_contour[UV,tt+move,y2,x1] +\n",
    "                                   (x[x2]-c)*(d-y[y1])*Vel_contour[UV,tt+move,y1,x2] +\n",
    "                                   (c-x[x1])*(d-y[y1])*Vel_contour[UV,tt+move,y2,x2] )\n",
    "                end\n",
    "                for UV in 1:2\n",
    "                    particles[UV,move*(tt-t_0_ind)+2,ii,jj] = particles[UV,move*(tt-t_0_ind)+1,ii,jj] + sign(move)*(kxy[1,UV]+2*kxy[2,UV]+2*kxy[3,UV]+kxy[4,UV])*tstep_delta/6000\n",
    "                end\n",
    "            end\n",
    "        end\n",
    "    end\n",
    "    \n",
    "    for tt in 1:tsteps\n",
    "        for ii in 2:nx-1\n",
    "            for jj in 2:ny-1\n",
    "                ul = (particles[1,tt,ii+1,jj]-particles[1,tt,ii-1,jj])/(particles[1,1,ii+1,jj]-particles[1,1,ii-1,jj])\n",
    "                ur = (particles[2,tt,ii+1,jj]-particles[2,tt,ii-1,jj])/(particles[2,1,ii,jj+1]-particles[2,1,ii,jj-1])\n",
    "                ll = (particles[1,tt,ii,jj+1]-particles[1,tt,ii,jj-1])/(particles[1,1,ii+1,jj]-particles[1,1,ii-1,jj])\n",
    "                lr = (particles[2,tt,ii,jj+1]-particles[2,tt,ii,jj-1])/(particles[2,1,ii,jj+1]-particles[2,1,ii,jj-1])\n",
    "                B = [ul ur; ll lr]\n",
    "                A = transpose(B) * B\n",
    "                G = eigvals(A)\n",
    "                H = ones(length(G))\n",
    "                for i in 1:length(H)\n",
    "                    H[i] = abs(G[i])\n",
    "                end\n",
    "                sigma = maximum(H)\n",
    "                particles[3,tt+1,ii,jj] = 0.5/tstep_delta*log(sigma)\n",
    "            end\n",
    "        end\n",
    "    end\n",
    "    \n",
    "    flow = particles[:,:,2:nx-1,2:ny-1]\n",
    "    println(\"done\")\n",
    "\n",
    "    return flow\n",
    "end"
   ]
  },
  {
   "cell_type": "markdown",
   "id": "93d10939",
   "metadata": {},
   "source": [
    "<div class=\"alert alert-block alert-success\">  \n",
    "<b> Example:</b> FTLE for forward and then backward along one cycle\n",
    "</div>"
   ]
  },
  {
   "cell_type": "code",
   "execution_count": 10,
   "id": "9e406656",
   "metadata": {},
   "outputs": [
    {
     "name": "stdout",
     "output_type": "stream",
     "text": [
      "done\n",
      "done\n"
     ]
    },
    {
     "data": {
      "text/plain": [
       "3×122×248×198 Array{Float64, 4}:\n",
       "[:, :, 1, 1] =\n",
       " 9.51004  9.46313  9.41641    …  3.69675     3.64695     3.59715\n",
       " 9.01005  9.01267  9.01531       9.00406     9.00389     9.00372\n",
       " 0.0      0.0      5.4665e-5     0.00223249  0.00222717  0.0022218\n",
       "\n",
       "[:, :, 2, 1] =\n",
       " 9.52008  9.47314  9.42637     …  3.70789     3.65809     3.6083\n",
       " 9.01005  9.01269  9.01536        9.00501     9.00484     9.00466\n",
       " 0.0      0.0      6.09212e-5     0.00232333  0.00232004  0.00231673\n",
       "\n",
       "[:, :, 3, 1] =\n",
       " 9.53012  9.48319  9.43643     …  3.71846     3.66867     3.61888\n",
       " 9.01005  9.01272  9.01542        9.00584     9.00566     9.00548\n",
       " 0.0      0.0      5.47689e-5     0.00144638  0.00144608  0.00144595\n",
       "\n",
       ";;; … \n",
       "\n",
       "[:, :, 246, 1] =\n",
       " 11.9699   11.9142  11.8584      …  5.95016     5.90067     5.85117\n",
       "  9.01005   9.0141   9.01815        9.27312     9.27267     9.27223\n",
       "  0.0       0.0      7.46496e-5     0.00556555  0.00556955  0.0055741\n",
       "\n",
       "[:, :, 247, 1] =\n",
       " 11.9799   11.9242   11.8683      …  5.95757     5.90807     5.85855\n",
       "  9.01005   9.01412   9.01811        9.2728      9.27235     9.27191\n",
       "  0.0       0.0       5.95165e-5     0.00569025  0.00569395  0.00569812\n",
       "\n",
       "[:, :, 248, 1] =\n",
       " 11.99     11.9341   11.8782     …  5.965       5.9155    5.86599\n",
       "  9.01005   9.01407   9.01809       9.27289     9.27244   9.272\n",
       "  0.0       0.0       7.5543e-5     0.00570491  0.005708  0.00571157\n",
       "\n",
       "[:, :, 1, 2] =\n",
       " 9.51004  9.46319  9.41654     …  3.69976   3.64987     3.59999\n",
       " 9.0201   9.02273  9.02538        9.01869   9.01857     9.01846\n",
       " 0.0      0.0      6.37634e-5     0.003099  0.00309854  0.00309808\n",
       "\n",
       "[:, :, 2, 2] =\n",
       " 9.52008  9.4732   9.42651     …  3.71143     3.66156     3.61169\n",
       " 9.0201   9.02276  9.02544        9.01953     9.01941     9.01929\n",
       " 0.0      0.0      6.96838e-5     0.00253879  0.00253712  0.00253542\n",
       "\n",
       "[:, :, 3, 2] =\n",
       " 9.53012  9.48324  9.43657     …  3.72179     3.67192     3.62205\n",
       " 9.0201   9.02279  9.0255         9.02015     9.02002     9.0199\n",
       " 0.0      0.0      6.29349e-5     0.00165714  0.00165156  0.00164588\n",
       "\n",
       ";;; … \n",
       "\n",
       "[:, :, 246, 2] =\n",
       " 11.9699  11.9143  11.8586      …  5.95111     5.90157     5.85229\n",
       "  9.0201   9.0242   9.02833        9.28607     9.28563     9.28511\n",
       "  0.0      0.0      0.00010979     0.00517434  0.00513632  0.00510379\n",
       "\n",
       "[:, :, 247, 2] =\n",
       " 11.9799  11.9243   11.8685      …  5.95878     5.90925    5.85986\n",
       "  9.0201   9.02423   9.02833        9.28621     9.28577    9.28528\n",
       "  0.0      0.0       9.36456e-5     0.00569565  0.0056916  0.00565043\n",
       "\n",
       "[:, :, 248, 2] =\n",
       " 11.99    11.9342  11.8784       …  5.96622     5.9167      5.86722\n",
       "  9.0201   9.0242   9.02833         9.28638     9.28594     9.28548\n",
       "  0.0      0.0      0.000116975     0.00608978  0.00608972  0.00608234\n",
       "\n",
       "[:, :, 1, 3] =\n",
       " 9.51004  9.46319  9.41655     …  3.6983      3.64847     3.59863\n",
       " 9.03015  9.03279  9.03545        9.02386     9.02371     9.02357\n",
       " 0.0      0.0      3.93416e-5     0.00199182  0.00202356  0.00205592\n",
       "\n",
       "[:, :, 2, 3] =\n",
       " 9.52008  9.47321  9.42652     …  3.70945     3.65962     3.6098\n",
       " 9.03015  9.03282  9.03551        9.02483     9.02468     9.02452\n",
       " 0.0      0.0      4.09812e-5     0.00206063  0.00208442  0.00210896\n",
       "\n",
       "[:, :, 3, 3] =\n",
       " 9.53012  9.48325  9.43657     …  3.72044     3.67062     3.6208\n",
       " 9.03015  9.03285  9.03558        9.02581     9.02565     9.02549\n",
       " 0.0      0.0      3.74514e-5     0.00228373  0.00230244  0.00232199\n",
       "\n",
       ";;; … \n",
       "\n",
       "[:, :, 246, 3] =\n",
       " 11.9699   11.9142   11.8585     …  5.95226     5.90299     5.85369\n",
       "  9.03015   9.03429   9.03843       9.29892     9.29838     9.29786\n",
       "  0.0       0.0       5.1866e-5     0.00535832  0.00533047  0.00530056\n",
       "\n",
       "[:, :, 247, 3] =\n",
       " 11.9799   11.9243   11.8684      …  5.95994     5.91068     5.8614\n",
       "  9.03015   9.03432   9.03841        9.29934     9.2988      9.29827\n",
       "  0.0       0.0       6.59675e-5     0.00567819  0.00564846  0.00562014\n",
       "\n",
       "[:, :, 248, 3] =\n",
       " 11.99     11.9342   11.8783      …  5.9675      5.91801    5.86871\n",
       "  9.03015   9.03429   9.03841        9.29996     9.2995     9.29897\n",
       "  0.0       0.0       5.69713e-5     0.00570599  0.0056665  0.00563253\n",
       "\n",
       ";;;; … \n",
       "\n",
       "[:, :, 1, 196] =\n",
       "  9.51004   9.45527   9.4008       9.34662      …   3.47811      3.42821\n",
       " 10.9698   10.962    10.9543      10.9467          10.7374      10.7371\n",
       "  0.0       0.0       0.00024177   0.000449835      0.00328141   0.00341372\n",
       "\n",
       "[:, :, 2, 196] =\n",
       "  9.52008   9.46521   9.41064       9.35637      …   3.48705     3.43714\n",
       " 10.9698   10.9621   10.9545       10.9469          10.7372     10.7369\n",
       "  0.0       0.0       0.000257434   0.000484813      0.0032649   0.00340577\n",
       "\n",
       "[:, :, 3, 196] =\n",
       "  9.53012   9.47512   9.42044      …   3.5462     3.49629      3.44638\n",
       " 10.9698   10.9619   10.9541          10.7367    10.7364      10.7361\n",
       "  0.0       0.0       0.000243291      0.003843   0.00375315   0.00367989\n",
       "\n",
       ";;; … \n",
       "\n",
       "[:, :, 246, 196] =\n",
       " 11.9699  11.9243  11.8787      11.8329       …   5.97252      5.92264\n",
       " 10.9698  10.9792  10.9885      10.9979          11.1673      11.1665\n",
       "  0.0      0.0      8.07914e-5   0.000342409      0.00681449   0.00681389\n",
       "\n",
       "[:, :, 247, 196] =\n",
       " 11.9799  11.9344  11.8889       11.8431       …   5.98652      5.93664\n",
       " 10.9698  10.9791  10.9884       10.9977          11.1673      11.1665\n",
       "  0.0      0.0      0.000218394   0.000435075      0.00635305   0.00635224\n",
       "\n",
       "[:, :, 248, 196] =\n",
       " 11.99    11.9446  11.8991       11.8533       …   6.00008      5.95019\n",
       " 10.9698  10.979   10.9883       10.9975          11.166       11.1652\n",
       "  0.0      0.0      0.000214838   0.000252695      0.00598401   0.0059829\n",
       "\n",
       "[:, :, 1, 197] =\n",
       "  9.51004   9.45525   9.40075       9.34654      …   3.47651     3.42658\n",
       " 10.9799   10.9722   10.9646       10.9571          10.7495     10.7493\n",
       "  0.0       0.0       0.000247054   0.000482201      0.0040795   0.00398344\n",
       "\n",
       "[:, :, 2, 197] =\n",
       "  9.52008   9.4652   9.41059      9.35629      …   3.48552      3.43559\n",
       " 10.9799   10.9723  10.9648      10.9573          10.7491      10.7489\n",
       "  0.0       0.0      0.00026294   0.000518099      0.00339259   0.00341266\n",
       "\n",
       "[:, :, 3, 197] =\n",
       "  9.53012   9.47511   9.42039       9.36599      …   3.49459      3.44472\n",
       " 10.9799   10.9722   10.9644       10.9568          10.7471      10.7467\n",
       "  0.0       0.0       0.000248611   0.000490012      0.00343593   0.00344393\n",
       "\n",
       ";;; … \n",
       "\n",
       "[:, :, 246, 197] =\n",
       " 11.9699  11.9243  11.8785      11.8328       …   5.97241      5.92253\n",
       " 10.9799  10.9892  10.9985      11.0078          11.1735      11.1727\n",
       "  0.0      0.0      9.03459e-5   0.000359442      0.00706135   0.00706033\n",
       "\n",
       "[:, :, 247, 197] =\n",
       " 11.9799  11.9344  11.8888       11.843        …   5.98579      5.93591\n",
       " 10.9799  10.9891  10.9983       11.0076          11.1735      11.1727\n",
       "  0.0      0.0      0.000224928   0.000448408      0.00648912   0.00648775\n",
       "\n",
       "[:, :, 248, 197] =\n",
       " 11.99    11.9446  11.8989       11.8531       …   5.99999      5.9501\n",
       " 10.9799  10.989   10.9982       11.0074          11.1726      11.1718\n",
       "  0.0      0.0      0.000223157   0.000268106      0.00646394   0.00646204\n",
       "\n",
       "[:, :, 1, 198] =\n",
       "  9.51004   9.45522   9.4007       9.34646      …   3.47508      3.4252\n",
       " 10.9899   10.9823   10.9749      10.9675          10.7611      10.7607\n",
       "  0.0       0.0       9.17046e-5   0.000327379      0.00385083   0.00384127\n",
       "\n",
       "[:, :, 2, 198] =\n",
       "  9.52008   9.46517   9.41055      9.35621      …   3.48385      3.43395\n",
       " 10.9899   10.9824   10.9751      10.9677          10.7597      10.7593\n",
       "  0.0       0.0       9.77321e-5   0.000355421      0.00339785   0.00332062\n",
       "\n",
       "[:, :, 3, 198] =\n",
       "  9.53012   9.47508   9.42035      9.36591      …   3.4933       3.4434\n",
       " 10.9899   10.9822   10.9747      10.9672          10.7591      10.7588\n",
       "  0.0       0.0       9.22501e-5   0.000335754      0.00352726   0.00364933\n",
       "\n",
       ";;; … \n",
       "\n",
       "[:, :, 246, 198] =\n",
       " 11.9699  11.9242  11.8783      11.8326       …   5.971        5.92111\n",
       " 10.9899  10.9992  11.0084      11.0177          11.1806      11.1797\n",
       "  0.0      0.0      9.83455e-5   0.000287706      0.00680292   0.00679876\n",
       "\n",
       "[:, :, 247, 198] =\n",
       " 11.9799  11.9342  11.8886       11.8428       …   5.98398      5.9341\n",
       " 10.9899  10.9991  11.0083       11.0175          11.1787      11.1778\n",
       "  0.0      0.0      0.000233346   0.000390711      0.00641093   0.00640778\n",
       "\n",
       "[:, :, 248, 198] =\n",
       " 11.99    11.9444  11.8987       11.853        …   5.99826      5.94838\n",
       " 10.9899  10.999   11.0081       11.0173          11.1787      11.1777\n",
       "  0.0      0.0      0.000230193   0.000190601      0.00686429   0.00686262"
      ]
     },
     "execution_count": 10,
     "metadata": {},
     "output_type": "execute_result"
    }
   ],
   "source": [
    "p63800 = FTLE(250,200,9.5,12.0,9.0,11.0,57800,63800)\n",
    "n63800 = FTLE(250,200,9.5,12.0,9.0,11.0,69800,63800)"
   ]
  },
  {
   "cell_type": "code",
   "execution_count": 12,
   "id": "7c6b309c",
   "metadata": {},
   "outputs": [
    {
     "name": "stdout",
     "output_type": "stream",
     "text": [
      "DONE"
     ]
    }
   ],
   "source": [
    "data =  \"C:/Users/jjser/Desktop/Julia_FTLE_Karthik_Data/airfoil2D_f0.15_amp25deg_KM/data_JJ\"\n",
    "name = \"p63800.h\"\n",
    "h5open(joinpath(data,name), \"w\") do file\n",
    "    write(file, \"A\", p63800)\n",
    "end\n",
    "name = \"n63800.h\"\n",
    "h5open(joinpath(data,name), \"w\") do file\n",
    "    write(file, \"A\", n63800)\n",
    "end\n",
    "print(\"DONE\")"
   ]
  },
  {
   "cell_type": "code",
   "execution_count": null,
   "id": "c2dd9dec",
   "metadata": {},
   "outputs": [
    {
     "name": "stdout",
     "output_type": "stream",
     "text": [
      "done\n",
      "done\n",
      "done\n",
      "done\n",
      "done\n",
      "done\n",
      "done\n",
      "done\n",
      "done\n",
      "done\n",
      "done\n",
      "done\n",
      "done\n",
      "done\n",
      "done\n",
      "done\n",
      "done\n",
      "done\n",
      "done\n",
      "done\n",
      "done\n",
      "done\n",
      "done\n",
      "done\n",
      "done\n",
      "done\n",
      "done\n",
      "done\n",
      "done\n",
      "done\n",
      "done\n",
      "done\n",
      "done\n",
      "done"
     ]
    }
   ],
   "source": [
    "data =  \"C:/Users/jjser/Desktop/Julia_FTLE_Karthik_Data/airfoil2D_f0.15_amp25deg_KM/data_JJ\"\n",
    "t = 69800\n",
    "d = 200\n",
    "r = 6000\n",
    "n = Int(0.5*r/d)\n",
    "for ii in -n:n \n",
    "    tar = t + ii * d\n",
    "    name = \"p\" * string(t) * \"_\" * string(tar) * \"finer.h\"\n",
    "    p = FTLE(500,400,9.5,12.0,9.0,11.0,tar-r,tar)\n",
    "    h5open(joinpath(data,name), \"w\") do file\n",
    "        write(file, \"A\", p)\n",
    "    end\n",
    "    name = \"n\" * string(t) * \"_\" * string(tar) * \"finer.h\"\n",
    "    n = FTLE(500,400,9.5,12.0,9.0,11.0,tar+r,tar)\n",
    "    h5open(joinpath(data,name), \"w\") do file\n",
    "        write(file, \"A\", n)\n",
    "    end\n",
    "end\n",
    "print(\"DONE\")"
   ]
  },
  {
   "cell_type": "markdown",
   "id": "82467194",
   "metadata": {},
   "source": [
    "# @time "
   ]
  },
  {
   "cell_type": "code",
   "execution_count": 13,
   "id": "7aafb923",
   "metadata": {},
   "outputs": [
    {
     "name": "stdout",
     "output_type": "stream",
     "text": [
      "15.0"
     ]
    }
   ],
   "source": [
    "t = 69800\n",
    "d = 200\n",
    "r = 6000\n",
    "n = 0.5*r/d\n",
    "print(n)"
   ]
  },
  {
   "cell_type": "code",
   "execution_count": null,
   "id": "101f3862",
   "metadata": {},
   "outputs": [],
   "source": [
    "n1000 = FTLE(1000,800,9.5,12.0,9.0,11.0,75800,69800)"
   ]
  },
  {
   "cell_type": "markdown",
   "id": "7a4c69d6",
   "metadata": {},
   "source": [
    "## <font color='289C4E'>FTLE Calculation<font><a id='4'></a>"
   ]
  },
  {
   "cell_type": "markdown",
   "id": "b0c0664b",
   "metadata": {},
   "source": [
    "### Function: Filter values over certain% of the maximum FTLE \n",
    "\n",
    ">#### Function arguments:\n",
    "`field`: particle flow field and FTLE values  \n",
    "`limFTLE`: Filter value for visualizing ridges"
   ]
  },
  {
   "cell_type": "code",
   "execution_count": null,
   "id": "3fd1476a",
   "metadata": {},
   "outputs": [],
   "source": [
    "function filterFTLE(field, limFTLE)\n",
    "    manifolds = (field[3,:,:,:] .> limFTLE * maximum(field[3,:,:,:])) .|> Int\n",
    "    return manifolds\n",
    "end"
   ]
  },
  {
   "cell_type": "markdown",
   "id": "147cc910",
   "metadata": {},
   "source": [
    "<div class=\"alert alert-block alert-success\">  \n",
    "<b> Example:</b> Calculate FTLE\n",
    "</div>"
   ]
  },
  {
   "cell_type": "raw",
   "id": "53f5c29e",
   "metadata": {},
   "source": [
    "limFTLE = 0.67\n",
    "pFTLE = filterFTLE(p50, 0.67)\n",
    "nFTLE = filterFTLE(n50, 0.67)\n",
    "print(\"DONE\")"
   ]
  },
  {
   "cell_type": "markdown",
   "id": "e1ff3ed3",
   "metadata": {},
   "source": [
    "## <font color='289C4E'>Visualization<font><a id='5'></a>"
   ]
  },
  {
   "cell_type": "markdown",
   "id": "3cf933f6",
   "metadata": {},
   "source": [
    "### Function: Plot flow map based on the original x position\n",
    "\n",
    ">#### Function arguments:\n",
    "`field`: particle flow field and FTLE values    \n",
    "`tstep`: time step wanted  \n",
    "`levels`: levels for the colorbar"
   ]
  },
  {
   "cell_type": "code",
   "execution_count": null,
   "id": "518c4795",
   "metadata": {},
   "outputs": [],
   "source": [
    "function xflowMap(field, tstep, levels)\n",
    "    x = field[1,1,:,:]\n",
    "    y = field[2,1,:,:]\n",
    "    z = field[1,tstep,:,:]\n",
    "    fig, ax = subplots(figsize=(9.25,5.25))\n",
    "    cm = ax.contourf(field[1,1,:,:],field[2,1,:,:],field[1,tstep,:,:],cmap=ColorMap(\"rainbow\"),levels=levels)\n",
    "    fig.colorbar(cm)\n",
    "    title(\"Flow Map at \"*string((tstep-1)*tstep_delta+tstep_start) *\"ms\")\n",
    "end"
   ]
  },
  {
   "cell_type": "markdown",
   "id": "335ee901",
   "metadata": {},
   "source": [
    "### Function: Plot unstable and stable manifolds based on FTLE\n",
    "\n",
    ">#### Function arguments:\n",
    "`pos`: positive FTLE field  \n",
    "`neg`: negative FTLE field  \n",
    "`tstep`: time step wanted  "
   ]
  },
  {
   "cell_type": "code",
   "execution_count": null,
   "id": "a96aa67d",
   "metadata": {},
   "outputs": [],
   "source": [
    "function ftle(pos, neg, tstep)\n",
    "    x = pos[1,1,:,:]\n",
    "    y = pos[2,1,:,:]\n",
    "    p = filterFTLE(pos, 0.67)\n",
    "    n = filterFTLE(neg, 0.67)\n",
    "    fig, ax = subplots(figsize=(9.25,5.25))\n",
    "    levels = range(0, 1,length=3) .+ 0.5\n",
    "    ax.contourf(x[:,:],y[:,:],p[tstep,:,:],cmap=ColorMap(\"Blues\"),levels=levels, alpha=0.5, zorder=1)\n",
    "    ax.contourf(x[:,:],y[:,:],n[tstep,:,:],cmap=ColorMap(\"Reds\") ,levels=levels, alpha=0.5, zorder=2)\n",
    "end"
   ]
  },
  {
   "cell_type": "markdown",
   "id": "120e273f",
   "metadata": {},
   "source": [
    "<div class=\"alert alert-block alert-success\">  \n",
    "<b> Example:</b> Flow map and FTLE fields\n",
    "</div>"
   ]
  },
  {
   "cell_type": "raw",
   "id": "0e7d358b",
   "metadata": {},
   "source": [
    "xflowMap(p50,61,range(9,13,length=50))\n",
    "xflowMap(n50,61,range(7,11,length=50))"
   ]
  },
  {
   "cell_type": "raw",
   "id": "3f4a1f94",
   "metadata": {},
   "source": [
    "ftle(p50, n50, 62)"
   ]
  },
  {
   "cell_type": "markdown",
   "id": "50555990",
   "metadata": {},
   "source": [
    "## <font color='289C4E'>Save Data<font><a id='6'></a>"
   ]
  },
  {
   "cell_type": "code",
   "execution_count": null,
   "id": "8b183c8d",
   "metadata": {},
   "outputs": [],
   "source": [
    "using HDF5\n",
    "data =  \"C:/Users/jjser/Desktop/Julia_FTLE_Karthik_Data/airfoil2D_f0.15_amp25deg_KM/data_JJ\"\n",
    "name = \"n1000.h\"\n",
    "h5open(joinpath(data,name), \"w\") do file\n",
    "    read(file, \"A\", n1000)\n",
    "end\n",
    "print(\"DONE\")"
   ]
  },
  {
   "cell_type": "code",
   "execution_count": null,
   "id": "03a96656",
   "metadata": {},
   "outputs": [],
   "source": []
  }
 ],
 "metadata": {
  "kernelspec": {
   "display_name": "Julia 1.9.1",
   "language": "julia",
   "name": "julia-1.9"
  },
  "language_info": {
   "file_extension": ".jl",
   "mimetype": "application/julia",
   "name": "julia",
   "version": "1.9.1"
  }
 },
 "nbformat": 4,
 "nbformat_minor": 5
}
