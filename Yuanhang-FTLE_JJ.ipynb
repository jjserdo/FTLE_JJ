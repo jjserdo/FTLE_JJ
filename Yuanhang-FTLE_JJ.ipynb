{
 "cells": [
  {
   "cell_type": "markdown",
   "id": "3cc2949e",
   "metadata": {},
   "source": [
    "# Finite Time Lyapunov Exponent (FTLE) analysis\n",
    "### Author: Justine John (JJ) A. Serdoncillo \n",
    "### Date Created: August 7, 2023\n",
    "---\n",
    "\n",
    "# <font color='289C4E'>Table of contents<font><a class='anchor' id='top'></a>\n",
    "1. [Yuanhang Functions](#1)\n",
    "2. [Read Data](#2)\n",
    "3. [Particle Tracking](#3)\n",
    "4. [FTLE Calculation](#4)\n",
    "5. [Visualization](#5)\n",
    "6. [Save Data](#6)"
   ]
  },
  {
   "cell_type": "markdown",
   "id": "453ec807",
   "metadata": {},
   "source": [
    "## PIV Experimental data for hydrofoil pitching at the leading edge at $Re = 10,000$ and $St = 0.25$\n",
    "\n",
    "### Airfoil kinematics: $\\theta = \\theta_0 + \\Delta \\theta sin(2\\pi f^*t)$, where \n",
    "***\n",
    "***"
   ]
  },
  {
   "cell_type": "markdown",
   "id": "abb9c462",
   "metadata": {},
   "source": [
    "## <font color='289C4E'>Yuanhang Functions<font><a id='1'></a>\n"
   ]
  },
  {
   "cell_type": "code",
   "execution_count": 1,
   "id": "8e55d976",
   "metadata": {},
   "outputs": [],
   "source": [
    "# Read the PIV velocity data of a 2D pitching foil\n",
    "# Calculate the vorticity and Q value\n",
    "# Plot the vorticity, Q, influence potential, and vorticity-induced force/moment density\n",
    "# Yuanhang Zhu\n",
    "# Aug 1, 2023\n",
    "\n",
    "using DelimitedFiles\n",
    "using Plots\n",
    "\n",
    "function calculate_vorticity_Q(x::Matrix{T}, y::Matrix{T}, u::Matrix{T}, v::Matrix{T}) where T\n",
    "    nx, ny = size(u,2), size(u,1)\n",
    "    vorticity = similar(u, T)\n",
    "    q_value = similar(u, T)\n",
    "    \n",
    "    for j in 2:(ny-1)\n",
    "        for i in 2:(nx-1)\n",
    "            dv_dx = (v[j, i+1] - v[j, i-1]) / (x[j, i+1] - x[j, i-1])\n",
    "            du_dy = (u[j+1, i] - u[j-1, i]) / (y[j+1, i] - y[j-1, i])\n",
    "            \n",
    "            # Calculate rate of strain tensor components\n",
    "            ds_dx = 0.5 * (du_dy + dv_dx)\n",
    "            du_dx = (u[j, i+1] - u[j, i-1]) / (x[j, i+1] - x[j, i-1])\n",
    "            dv_dy = (v[j+1, i] - v[j-1, i]) / (y[j+1, i] - y[j-1, i])\n",
    "            ds_dy = 0.5 * (du_dx + dv_dy)\n",
    "            \n",
    "            # Calculate vorticity\n",
    "            vorticity[j, i] = dv_dx - du_dy\n",
    "\n",
    "            # Calculate Q values\n",
    "            # q_value[j, i] = 0.5 * (vorticity[j, i]^2 + ds_dx^2 + ds_dy^2)\n",
    "            q_value[j, i] = -du_dy * dv_dx + du_dx * dv_dy\n",
    "        end\n",
    "    end\n",
    "    \n",
    "    return vorticity, q_value\n",
    "end\n",
    "\n",
    "num = 1; # phase number"
   ]
  },
  {
   "cell_type": "markdown",
   "id": "7daa091b",
   "metadata": {},
   "source": [
    "# num phase number goes from 1 to 50\n",
    "## 4 columns and 9639 rows for num 1 = 119*81\n"
   ]
  },
  {
   "cell_type": "code",
   "execution_count": null,
   "id": "9858dcd6",
   "metadata": {},
   "outputs": [],
   "source": []
  },
  {
   "cell_type": "markdown",
   "id": "84826f2f",
   "metadata": {},
   "source": [
    "### Load Airfoil Coordinates - changed directory"
   ]
  },
  {
   "cell_type": "code",
   "execution_count": 2,
   "id": "a2179093",
   "metadata": {},
   "outputs": [],
   "source": [
    "#cd(\"/Users/yuanhangzhu/Dropbox/Research/UVA/FMPM/2D PIV case/foil shape\") # load foil coordinates\n",
    "cd(\"E:/Research/2D_PIV_pitching_foil_YZ/foil shape\") # load foil coordinates\n",
    "\n",
    "shape = readdlm(\"foil_coordinate_$num.txt\", ',', '\\n')\n",
    "xfoil = shape[:,1];\n",
    "yfoil = shape[:,2];"
   ]
  },
  {
   "cell_type": "markdown",
   "id": "5a3ed3ca",
   "metadata": {},
   "source": [
    "### Load Velocity Field Data - changed directory"
   ]
  },
  {
   "cell_type": "code",
   "execution_count": 3,
   "id": "f37ebeec",
   "metadata": {},
   "outputs": [],
   "source": [
    "#cd(\"/Users/yuanhangzhu/Dropbox/Research/UVA/FMPM/2D PIV case/PIV data\") # load velocity field data\n",
    "cd(\"E:/Research/2D_PIV_pitching_foil_YZ/PIV data\") # load velocity field data\n",
    "\n",
    "velocity_data = readdlm(\"velocity_field_$num.txt\", ',', '\\n')\n",
    "\n",
    "xn = 119; # number of values in x-direction\n",
    "yn = 81; # number of values in y-direction\n",
    "\n",
    "x = velocity_data[:,1];\n",
    "y = velocity_data[:,2];\n",
    "u = velocity_data[:,3];\n",
    "v = velocity_data[:,4];\n",
    "\n",
    "xdata = reshape(x, (xn, yn));\n",
    "ydata = reshape(y, (xn, yn));\n",
    "udata = reshape(u, (xn, yn));\n",
    "vdata = reshape(v, (xn, yn));\n",
    "\n",
    "\n",
    "vorticity, q_value = calculate_vorticity_Q(ydata, xdata, -vdata, -udata);"
   ]
  },
  {
   "cell_type": "code",
   "execution_count": 49,
   "id": "ef347f4d",
   "metadata": {},
   "outputs": [
    {
     "name": "stdout",
     "output_type": "stream",
     "text": [
      "DONE"
     ]
    }
   ],
   "source": [
    "x_range = xdata[:,1]\n",
    "y_range = transpose(ydata[1,:])\n",
    "print(\"DONE\")"
   ]
  },
  {
   "cell_type": "markdown",
   "id": "03e761ec",
   "metadata": {},
   "source": [
    "## <font color='289C4E'>Read Data<font><a id='2'></a>\n",
    "### Reading all the data at once "
   ]
  },
  {
   "cell_type": "code",
   "execution_count": 11,
   "id": "b532bd74",
   "metadata": {},
   "outputs": [],
   "source": [
    "cd(\"E:/Research/2D_PIV_pitching_foil_YZ/PIV data\")\n",
    "velocity_data = readdlm(\"velocity_field_1.txt\", ',', '\\n')\n",
    "x = velocity_data[:,1];\n",
    "y = velocity_data[:,2];\n",
    "\n",
    "xn = 119; # number of values in x-direction\n",
    "yn = 81; # number of values in y-direction\n",
    "\n",
    "xdata = reshape(x, (xn, yn));\n",
    "ydata = reshape(y, (xn, yn));\n",
    "\n",
    "tstep_start = 1\n",
    "tstep_end = 50\n",
    "og_num_tsteps = 50\n",
    "og_tstep_delta = 1\n",
    "inter = 10\n",
    "num_tsteps = (og_num_tsteps-1)*inter+1\n",
    "tstep_delta = og_tstep_delta/inter\n",
    "Vel_contour = zeros(Float64, 2, num_tsteps, xn, yn)\n",
    "\n",
    "for i in 1:og_num_tsteps-1\n",
    "    velocity_data = readdlm(\"velocity_field_$num.txt\", ',', '\\n')\n",
    "    u1 = velocity_data[:,3];\n",
    "    v1 = velocity_data[:,4];\n",
    "    velocity_data = readdlm(\"velocity_field_$(num+1).txt\", ',', '\\n')\n",
    "    u2 = velocity_data[:,3];\n",
    "    v2 = velocity_data[:,4];\n",
    "    \n",
    "    xdata = reshape(x, (xn, yn));\n",
    "    ydata = reshape(y, (xn, yn));\n",
    "    udata = reshape(u, (xn, yn));\n",
    "    vdata = reshape(v, (xn, yn));\n",
    "    \n",
    "    for p in 0:inter-1\n",
    "        uu = u1*(inter-p)/inter + u2*(p)/inter\n",
    "        vv = v1*(inter-p)/inter + v2*(p)/inter\n",
    "        Vel_contour[1, inter*(i-1)+p+1, :, :] =  reshape(uu,(xn, yn))\n",
    "        Vel_contour[2, inter*(i-1)+p+1, :, :] =  reshape(vv,(xn, yn))\n",
    "    end\n",
    "    \n",
    "    if i == og_num_tsteps-1\n",
    "        Vel_contour[1, num_tsteps, :, :] =  reshape(u2,(xn, yn))\n",
    "        Vel_contour[2, num_tsteps, :, :] =  reshape(v2,(xn, yn))\n",
    "    end\n",
    "    \n",
    "end"
   ]
  },
  {
   "cell_type": "markdown",
   "id": "ea779cdf",
   "metadata": {},
   "source": [
    "### Plot Vorticity Field"
   ]
  },
  {
   "cell_type": "markdown",
   "id": "ff12ca0d",
   "metadata": {},
   "source": [
    "<div class=\"alert alert-block alert-danger\">  \n",
    "could not load library \"libGR.dll\" <br>\n",
    "The specified module could not be found. \n",
    "</div>\n",
    "tried to resolve by  <br>\n",
    "\n",
    "import Pkg <br>\n",
    "ENV[\"GRDIR\"]=\"\" <br>\n",
    "Pkg.build(\"GR\")<br>\n",
    "\n",
    "but did not end up working still, and received error    \n",
    "\n",
    "<div class=\"alert alert-block alert-warning\">  \n",
    "Error building `GR`: <br>\n",
    "[ Info: Downloading pre-compiled GR latest Windows binary <br>\n",
    "ERROR: LoadError: IOError: could not spawn `'C:\\Users\\GreenFluids_VR\\Desktop\\julia-1.9.2\\bin\\..\\libexec/7z' x downloads/gr- <br>latest-Windows-x86_64.tar.gz -y`: no such file or directory (ENOENT)\n",
    "</div>\n",
    "\n",
    "<div class=\"alert alert-block alert-success\">  \n",
    "Following issue above is resolved when run with hp\n",
    "</div>\n",
    "<div class=\"alert alert-block alert-danger\">  \n",
    "Issue still persists with vr \n",
    "</div>"
   ]
  },
  {
   "cell_type": "code",
   "execution_count": 4,
   "id": "3055f7fc-18d8-4e20-b28c-66db7a269ad7",
   "metadata": {},
   "outputs": [
    {
     "name": "stderr",
     "output_type": "stream",
     "text": [
      "\u001b[32m\u001b[1mPrecompiling\u001b[22m\u001b[39m project...\n",
      "\u001b[32m  ✓ \u001b[39m\u001b[90mLinearSolve → LinearSolveIterativeSolversExt\u001b[39m\n",
      "\u001b[32m  ✓ \u001b[39m\u001b[90mNonlinearSolve\u001b[39m\n",
      "\u001b[32m  ✓ \u001b[39m\u001b[90mOrdinaryDiffEq\u001b[39m\n",
      "\u001b[32m  ✓ \u001b[39m\u001b[90mConstrainedSystems\u001b[39m\n",
      "\u001b[32m  ✓ \u001b[39mImmersedLayers\n"
     ]
    },
    {
     "name": "stdout",
     "output_type": "stream",
     "text": [
      "DONE\n"
     ]
    },
    {
     "name": "stderr",
     "output_type": "stream",
     "text": [
      "  5 dependencies successfully precompiled in 299 seconds. 364 already precompiled. 1 skipped during auto due to previous errors.\n"
     ]
    }
   ],
   "source": [
    "import Pkg\n",
    "ENV[\"GRDIR\"]=\"\"\n",
    "Pkg.build(\"GR\")\n",
    "println(\"DONE\")"
   ]
  },
  {
   "cell_type": "code",
   "execution_count": null,
   "id": "3f5fa018-de88-4b05-82fe-520962ea7bdb",
   "metadata": {},
   "outputs": [],
   "source": [
    "plot(range(1,5),range(1,5))"
   ]
  },
  {
   "cell_type": "code",
   "execution_count": null,
   "id": "3c70fb37",
   "metadata": {},
   "outputs": [],
   "source": [
    "#p1 = \n",
    "#contourf(xdata[2:end-1,1], ydata[1,2:end-1], max.(min.(vorticity[2:end-1,2:end-1]', 30), -30), levels=100, lw=0, xlabel=\"x (m)\", ylabel=\"y (m)\", title=\"Vorticity\", color=:vik, aspect_ratio=:equal, clim=(-30,30), xlims=(-0.1, 0.2), ylims=(-0.1,0.1));\n",
    "#plot(xfoil,yfoil,fill=true,aspect_ratio=:equal,c=:black,legend = false)"
   ]
  },
  {
   "cell_type": "code",
   "execution_count": 6,
   "id": "00b6e6ac",
   "metadata": {},
   "outputs": [
    {
     "data": {
      "image/png": "",
      "image/svg+xml": [],
      "text/html": []
     },
     "execution_count": 6,
     "metadata": {},
     "output_type": "execute_result"
    },
    {
     "name": "stderr",
     "output_type": "stream",
     "text": [
      "GKS: svgplugin.dll: can't load library, error 126 (0x7e)\n",
      "GKS: cairoplugin.dll: can't load library, error 126 (0x7e)\n"
     ]
    }
   ],
   "source": [
    "p2 = contourf(xdata[2:end-1,1], ydata[1,2:end-1], max.(min.(q_value[2:end-1,2:end-1]', 100), -100), levels=100, lw=0, xlabel=\"x (m)\", ylabel=\"y (m)\", title=\"Q\", color=:vik, aspect_ratio=:equal, clim=(-100,100), xlims=(-0.1, 0.2), ylims=(-0.1,0.1));\n",
    "plot!(xfoil,yfoil,fill=true,aspect_ratio=:equal,c=:black,legend = false)"
   ]
  },
  {
   "cell_type": "markdown",
   "id": "1d29bd72",
   "metadata": {},
   "source": [
    "### Load Phi Field data - changed directory"
   ]
  },
  {
   "cell_type": "code",
   "execution_count": null,
   "id": "32e9531b",
   "metadata": {},
   "outputs": [],
   "source": [
    "#cd(\"/Users/yuanhangzhu/Dropbox/Research/UVA/FMPM/2D PIV case/Potential/drag_potential\")\n",
    "cd(\"E:/Research/2D_PIV_pitching_foil_YZ/Potential/drag_potential\")\n",
    "phi_drag = readdlm(\"phi_drag_$num.txt\", ',', '\\n')[:,3]; # load phi field data\n",
    "phi_drag_data = reshape(phi_drag, (yn, xn))\n",
    "\n",
    "p3 = contourf(xdata[2:end-1,1], ydata[1,2:end-1], phi_drag_data[2:end-1,2:end-1], levels=50, lw=0, xlabel=\"x (m)\", ylabel=\"y (m)\", title=\"Phi\", color=:vik, aspect_ratio=:equal, clim=(-0.01,0.01), xlims=(-0.1, 0.2), ylims=(-0.1,0.1));\n",
    "plot!(xfoil,yfoil,fill=true,aspect_ratio=:equal,c=:black,legend = false)"
   ]
  },
  {
   "cell_type": "code",
   "execution_count": null,
   "id": "0369d6ed",
   "metadata": {},
   "outputs": [],
   "source": [
    "drag_density = -2*.*(q_value',phi_drag_data) # calculate vorticity-induced force density\n",
    "p3 = contourf(xdata[2:end-1,1], ydata[1,2:end-1], max.(min.(drag_density[2:end-1,2:end-1], 0.2), -0.2), levels=50, lw=0, xlabel=\"x (m)\", ylabel=\"y (m)\", title=\"Drag density\", color=:vik, aspect_ratio=:equal, clim=(-0.2,0.2), xlims=(-0.1, 0.2), ylims=(-0.1,0.1));\n",
    "plot!(xfoil,yfoil,fill=true,aspect_ratio=:equal,c=:black,legend = false)"
   ]
  },
  {
   "cell_type": "markdown",
   "id": "7e693534",
   "metadata": {},
   "source": [
    "## <font color='289C4E'>Particle Tracking and FTLE calculation<font><a id='3'></a>"
   ]
  },
  {
   "cell_type": "code",
   "execution_count": 12,
   "id": "36836ec0",
   "metadata": {},
   "outputs": [
    {
     "data": {
      "text/plain": [
       "find_me (generic function with 1 method)"
      ]
     },
     "execution_count": 12,
     "metadata": {},
     "output_type": "execute_result"
    }
   ],
   "source": [
    "function find_me(xval, yval)\n",
    "    x1 = argmin(abs.(x_range .- xval))\n",
    "    y1 = argmin(abs.(y_range .- yval))\n",
    "\n",
    "    if x1 >= size(x_range)[1]-1\n",
    "        x1 -= 3\n",
    "    end\n",
    "    \n",
    "    if y1 >= size(y_range)[1]-1\n",
    "        y1 -= 3\n",
    "    end\n",
    "\n",
    "    x2 = x1 + 1\n",
    "    y2 = y1 + 1\n",
    "    \n",
    "    return x1, x2, y1, y2\n",
    "end"
   ]
  },
  {
   "cell_type": "code",
   "execution_count": 16,
   "id": "bd10c1f0",
   "metadata": {},
   "outputs": [
    {
     "data": {
      "text/plain": [
       "50"
      ]
     },
     "execution_count": 16,
     "metadata": {},
     "output_type": "execute_result"
    }
   ],
   "source": [
    "tstep_start = 1\n",
    "tstep_end = 50"
   ]
  },
  {
   "cell_type": "code",
   "execution_count": 27,
   "id": "4a7c735e",
   "metadata": {},
   "outputs": [
    {
     "data": {
      "text/plain": [
       "0.1"
      ]
     },
     "execution_count": 27,
     "metadata": {},
     "output_type": "execute_result"
    }
   ],
   "source": [
    "tstep_delta = 0.1"
   ]
  },
  {
   "cell_type": "code",
   "execution_count": 50,
   "id": "b8e5c358",
   "metadata": {},
   "outputs": [
    {
     "data": {
      "text/plain": [
       "FTLE (generic function with 1 method)"
      ]
     },
     "execution_count": 50,
     "metadata": {},
     "output_type": "execute_result"
    }
   ],
   "source": [
    "function FTLE(nx,ny,x0,x1,y0,y1,t_0,t_1)\n",
    "    move = sign(t_1-t_0)\n",
    "    tstep_range = collect(range(tstep_start, tstep_end, length=num_tsteps))\n",
    "    t_0_ind = argmin(abs.(tstep_range .- t_0))\n",
    "    t_1_ind = argmin(abs.(tstep_range .- t_1))\n",
    "    tsteps = Int64(abs(t_1 - t_0)/tstep_delta + 1)\n",
    "    x = collect(range(x0, x1, length=nx))\n",
    "    y = collect(range(y0, y1, length=ny))\n",
    "    particles = zeros(3, tsteps+1, nx, ny)\n",
    "\n",
    "    for ii in 1:nx, jj in 1:ny\n",
    "        particles[1,1,ii, :] .= x[ii]\n",
    "        particles[2,1, :,jj] .= y[jj]\n",
    "    end\n",
    "    \n",
    "    #=\n",
    "    for ii in 1:nx, jj in 1:ny\n",
    "        xind = argmin(abs.(y_range.-particles[2,1,ii,jj]))\n",
    "        yind = argmin(abs.(x_range.-particles[1,1,ii,jj]))\n",
    "        if Bvo_contour[1,1,xind,yind] == 1\n",
    "            particles[:,1,ii,jj] .= NaN\n",
    "        end\n",
    "    end\n",
    "    =#\n",
    "    \n",
    "    x = copy(x_range)\n",
    "    y = copy(y_range)\n",
    "    # Iterate through all timesteps \n",
    "    count = 1\n",
    "    for tt in t_0_ind:move:t_1_ind\n",
    "        for ii in 1:nx, jj in 1:ny\n",
    "            #if any(isnan,particles[1:2,count,ii,jj]) == false \n",
    "            # Let's use Runge Kutta 4th order\n",
    "            kxy = zeros(4,2)\n",
    "            a = particles[1,move*(tt-t_0_ind)+1,ii,jj]\n",
    "            b = particles[2,move*(tt-t_0_ind)+1,ii,jj]\n",
    "            #=Runge Kutta 4th Order K1 =#\n",
    "            c = copy(a)\n",
    "            d = copy(b)\n",
    "            x1, x2, y1, y2 = find_me(c, d)\n",
    "            for UV in 1:2\n",
    "                kxy[1,UV] = 1/((y[y2]-y[y1])*(x[x2]-x[x1])) * ( \n",
    "                               (x[x2]-c)*(y[y2]-d)*Vel_contour[UV,tt,y1,x1] + \n",
    "                               (c-x[x1])*(y[y2]-d)*Vel_contour[UV,tt,y2,x1] +\n",
    "                               (x[x2]-c)*(d-y[y1])*Vel_contour[UV,tt,y1,x2] +\n",
    "                               (c-x[x1])*(d-y[y1])*Vel_contour[UV,tt,y2,x2] )\n",
    "            end\n",
    "            #=Runge Kutta 4th Order K2 =#\n",
    "            c = a + 0.5*kxy[1,1]*tstep_delta/1000\n",
    "            d = b + 0.5*kxy[1,2]*tstep_delta/1000\n",
    "            x1, x2, y1, y2 = find_me(c, d)\n",
    "            for UV in 1:2\n",
    "                kxy[2,UV] = 1/((y[y2]-y[y1])*(x[x2]-x[x1])) * ( \n",
    "                               (x[x2]-c)*(y[y2]-d)*0.5*(Vel_contour[UV,tt,y1,x1]+Vel_contour[UV,tt+move,y1,x1]) + \n",
    "                               (c-x[x1])*(y[y2]-d)*0.5*(Vel_contour[UV,tt,y2,x1]+Vel_contour[UV,tt+move,y2,x1]) +\n",
    "                               (x[x2]-c)*(d-y[y1])*0.5*(Vel_contour[UV,tt,y1,x2]+Vel_contour[UV,tt+move,y1,x2]) +\n",
    "                               (c-x[x1])*(d-y[y1])*0.5*(Vel_contour[UV,tt,y2,x2]+Vel_contour[UV,tt+move,y2,x2]) )\n",
    "            end\n",
    "            #=Runge Kutta 4th Order K3 =#\n",
    "            c = a + 0.5*kxy[2,1]*tstep_delta/1000\n",
    "            d = b + 0.5*kxy[2,2]*tstep_delta/1000\n",
    "            x1, x2, y1, y2 = find_me(c, d)\n",
    "            for UV in 1:2\n",
    "                kxy[3,UV] = 1/((y[y2]-y[y1])*(x[x2]-x[x1])) * ( \n",
    "                               (x[x2]-c)*(y[y2]-d)*0.5*(Vel_contour[UV,tt,y1,x1]+Vel_contour[UV,tt+move,y1,x1]) + \n",
    "                               (c-x[x1])*(y[y2]-d)*0.5*(Vel_contour[UV,tt,y2,x1]+Vel_contour[UV,tt+move,y2,x1]) +\n",
    "                               (x[x2]-c)*(d-y[y1])*0.5*(Vel_contour[UV,tt,y1,x2]+Vel_contour[UV,tt+move,y1,x2]) +\n",
    "                               (c-x[x1])*(d-y[y1])*0.5*(Vel_contour[UV,tt,y2,x2]+Vel_contour[UV,tt+move,y2,x2]) )\n",
    "            end\n",
    "            #=Runge Kutta 4th Order K4 =#\n",
    "            c = a + kxy[3,1]*tstep_delta/1000\n",
    "            d = b + kxy[3,2]*tstep_delta/1000\n",
    "            x1, x2, y1, y2 = find_me(c, d)\n",
    "            for UV in 1:2\n",
    "                kxy[4,UV] = 1/((y[y2]-y[y1])*(x[x2]-x[x1])) * ( \n",
    "                               (x[x2]-c)*(y[y2]-d)*Vel_contour[UV,tt+move,y1,x1] + \n",
    "                               (c-x[x1])*(y[y2]-d)*Vel_contour[UV,tt+move,y2,x1] +\n",
    "                               (x[x2]-c)*(d-y[y1])*Vel_contour[UV,tt+move,y1,x2] +\n",
    "                               (c-x[x1])*(d-y[y1])*Vel_contour[UV,tt+move,y2,x2] )\n",
    "            end\n",
    "            for UV in 1:2\n",
    "                particles[UV,move*(tt-t_0_ind)+2,ii,jj] = particles[UV,move*(tt-t_0_ind)+1,ii,jj] + sign(move)*(kxy[1,UV]+2*kxy[2,UV]+2*kxy[3,UV]+kxy[4,UV])*tstep_delta/6000\n",
    "            end\n",
    "            #end\n",
    "        end\n",
    "        count += 1\n",
    "    end\n",
    "    \n",
    "    for tt in 1:tsteps\n",
    "        for ii in 2:nx-1\n",
    "            for jj in 2:ny-1\n",
    "                ul = (particles[1,tt,ii+1,jj]-particles[1,tt,ii-1,jj])/(particles[1,1,ii+1,jj]-particles[1,1,ii-1,jj])\n",
    "                ur = (particles[2,tt,ii+1,jj]-particles[2,tt,ii-1,jj])/(particles[2,1,ii,jj+1]-particles[2,1,ii,jj-1])\n",
    "                ll = (particles[1,tt,ii,jj+1]-particles[1,tt,ii,jj-1])/(particles[1,1,ii+1,jj]-particles[1,1,ii-1,jj])\n",
    "                lr = (particles[2,tt,ii,jj+1]-particles[2,tt,ii,jj-1])/(particles[2,1,ii,jj+1]-particles[2,1,ii,jj-1])\n",
    "                B = [ul ur; ll lr]\n",
    "                A = transpose(B) * B\n",
    "                G = eigvals(A)\n",
    "                H = ones(length(G))\n",
    "                for i in 1:length(H)\n",
    "                    H[i] = abs(G[i])\n",
    "                end\n",
    "                sigma = maximum(H)\n",
    "                particles[3,tt+1,ii,jj] = 0.5/tstep_delta*log(sigma)\n",
    "            end\n",
    "        end\n",
    "    end\n",
    "\n",
    "    \n",
    "    flow = particles[:,:,2:nx-1,2:ny-1]\n",
    "    println(\"done\")\n",
    "\n",
    "    return flow\n",
    "end"
   ]
  },
  {
   "cell_type": "code",
   "execution_count": 51,
   "id": "f051161a",
   "metadata": {},
   "outputs": [
    {
     "ename": "LoadError",
     "evalue": "MethodError: no method matching isless(::Int64, ::CartesianIndex{2})\n\n\u001b[0mClosest candidates are:\n\u001b[0m  isless(::Real, \u001b[91m::AbstractGray\u001b[39m)\n\u001b[0m\u001b[90m   @\u001b[39m \u001b[36mColorTypes\u001b[39m \u001b[90mC:\\Users\\jjser\\.julia\\packages\\ColorTypes\\1dGw6\\src\\\u001b[39m\u001b[90m\u001b[4moperations.jl:39\u001b[24m\u001b[39m\n\u001b[0m  isless(\u001b[91m::CartesianIndex{N}\u001b[39m, ::CartesianIndex{N}) where N\n\u001b[0m\u001b[90m   @\u001b[39m \u001b[90mBase\u001b[39m \u001b[90m\u001b[4mmultidimensional.jl:124\u001b[24m\u001b[39m\n\u001b[0m  isless(::Real, \u001b[91m::AbstractFloat\u001b[39m)\n\u001b[0m\u001b[90m   @\u001b[39m \u001b[90mBase\u001b[39m \u001b[90m\u001b[4moperators.jl:178\u001b[24m\u001b[39m\n\u001b[0m  ...\n",
     "output_type": "error",
     "traceback": [
      "MethodError: no method matching isless(::Int64, ::CartesianIndex{2})\n\n\u001b[0mClosest candidates are:\n\u001b[0m  isless(::Real, \u001b[91m::AbstractGray\u001b[39m)\n\u001b[0m\u001b[90m   @\u001b[39m \u001b[36mColorTypes\u001b[39m \u001b[90mC:\\Users\\jjser\\.julia\\packages\\ColorTypes\\1dGw6\\src\\\u001b[39m\u001b[90m\u001b[4moperations.jl:39\u001b[24m\u001b[39m\n\u001b[0m  isless(\u001b[91m::CartesianIndex{N}\u001b[39m, ::CartesianIndex{N}) where N\n\u001b[0m\u001b[90m   @\u001b[39m \u001b[90mBase\u001b[39m \u001b[90m\u001b[4mmultidimensional.jl:124\u001b[24m\u001b[39m\n\u001b[0m  isless(::Real, \u001b[91m::AbstractFloat\u001b[39m)\n\u001b[0m\u001b[90m   @\u001b[39m \u001b[90mBase\u001b[39m \u001b[90m\u001b[4moperators.jl:178\u001b[24m\u001b[39m\n\u001b[0m  ...\n",
      "",
      "Stacktrace:",
      " [1] <(x::Int64, y::CartesianIndex{2})",
      "   @ Base .\\operators.jl:343",
      " [2] <=(x::Int64, y::CartesianIndex{2})",
      "   @ Base .\\operators.jl:392",
      " [3] >=(x::CartesianIndex{2}, y::Int64)",
      "   @ Base .\\operators.jl:416",
      " [4] find_me(xval::Float64, yval::Float64)",
      "   @ Main .\\In[12]:9",
      " [5] FTLE(nx::Int64, ny::Int64, x0::Float64, x1::Float64, y0::Float64, y1::Float64, t_0::Int64, t_1::Int64)",
      "   @ Main .\\In[50]:40",
      " [6] top-level scope",
      "   @ In[51]:1"
     ]
    }
   ],
   "source": [
    "p300 = FTLE(10,10,-0.1,0.2,-0.1,0.1, 1,25)\n",
    "n300 = FTLE(10,10,-0.1,0.2,-0.1,0.1,49,25)\n",
    "print(\"DONE\")"
   ]
  },
  {
   "cell_type": "code",
   "execution_count": null,
   "id": "e99697fc",
   "metadata": {},
   "outputs": [],
   "source": []
  },
  {
   "cell_type": "code",
   "execution_count": null,
   "id": "0e3f21d8",
   "metadata": {},
   "outputs": [],
   "source": []
  },
  {
   "cell_type": "code",
   "execution_count": null,
   "id": "de917ba7",
   "metadata": {},
   "outputs": [],
   "source": []
  }
 ],
 "metadata": {
  "kernelspec": {
   "display_name": "Julia 1.9.2",
   "language": "julia",
   "name": "julia-1.9"
  },
  "language_info": {
   "file_extension": ".jl",
   "mimetype": "application/julia",
   "name": "julia",
   "version": "1.9.2"
  }
 },
 "nbformat": 4,
 "nbformat_minor": 5
}
