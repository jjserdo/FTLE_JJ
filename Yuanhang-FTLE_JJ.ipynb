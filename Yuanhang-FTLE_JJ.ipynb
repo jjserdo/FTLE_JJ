{
 "cells": [
  {
   "cell_type": "markdown",
   "id": "3cc2949e",
   "metadata": {},
   "source": [
    "# Finite Time Lyapunov Exponent (FTLE) analysis\n",
    "### Author: Justine John (JJ) A. Serdoncillo \n",
    "### Date Created: August 7, 2023\n",
    "---\n",
    "\n",
    "# <font color='289C4E'>Table of contents<font><a class='anchor' id='top'></a>\n",
    "1. [Yuanhang Functions](#1)\n",
    "2. [Read Data](#2)\n",
    "3. [Particle Tracking](#3)\n",
    "4. [FTLE Calculation](#4)\n",
    "5. [Visualization](#5)\n",
    "6. [Save Data](#6)"
   ]
  },
  {
   "cell_type": "markdown",
   "id": "453ec807",
   "metadata": {},
   "source": [
    "## PIV Experimental data for hydrofoil pitching at the leading edge at $Re = 10,000$ and $St = 0.2518$\n",
    "\n",
    "### Airfoil kinematics: $\\theta = \\theta_0 + \\Delta \\theta sin(2\\pi f^*t)$, where $f = 2.4 Hz $, $U = 0.125 m/s$, $\\Delta \\theta = 5^{\\circ}$, $\\theta_0 = 0^{\\circ}$, chord length = 8 cm, Pitching axis = 0.47625 cm behind leading edge\n",
    "***\n",
    "***"
   ]
  },
  {
   "cell_type": "code",
   "execution_count": 1,
   "id": "4fa5e355",
   "metadata": {},
   "outputs": [
    {
     "name": "stdout",
     "output_type": "stream",
     "text": [
      "DONE\n"
     ]
    }
   ],
   "source": [
    "using FileIO, ImageMagick, Colors, FixedPointNumbers, DelimitedFiles, PyPlot, LinearAlgebra, HDF5\n",
    "println(\"DONE\")"
   ]
  },
  {
   "cell_type": "markdown",
   "id": "abb9c462",
   "metadata": {},
   "source": [
    "## <font color='289C4E'>Yuanhang Functions<font><a id='1'></a>\n"
   ]
  },
  {
   "cell_type": "code",
   "execution_count": 2,
   "id": "8e55d976",
   "metadata": {},
   "outputs": [
    {
     "data": {
      "text/plain": [
       "calculate_vorticity_Q (generic function with 1 method)"
      ]
     },
     "execution_count": 2,
     "metadata": {},
     "output_type": "execute_result"
    }
   ],
   "source": [
    "# Read the PIV velocity data of a 2D pitching foil\n",
    "# Calculate the vorticity and Q value\n",
    "# Plot the vorticity, Q, influence potential, and vorticity-induced force/moment density\n",
    "# Yuanhang Zhu\n",
    "# Aug 1, 2023\n",
    "\n",
    "using DelimitedFiles\n",
    "\n",
    "function calculate_vorticity_Q(x::Matrix{T}, y::Matrix{T}, u::Matrix{T}, v::Matrix{T}) where T\n",
    "    nx, ny = size(u,2), size(u,1)\n",
    "    vorticity = similar(u, T)\n",
    "    q_value = similar(u, T)\n",
    "    \n",
    "    for j in 2:(ny-1)\n",
    "        for i in 2:(nx-1)\n",
    "            dv_dx = (v[j, i+1] - v[j, i-1]) / (x[j, i+1] - x[j, i-1])\n",
    "            du_dy = (u[j+1, i] - u[j-1, i]) / (y[j+1, i] - y[j-1, i])\n",
    "            \n",
    "            # Calculate rate of strain tensor components\n",
    "            ds_dx = 0.5 * (du_dy + dv_dx)\n",
    "            du_dx = (u[j, i+1] - u[j, i-1]) / (x[j, i+1] - x[j, i-1])\n",
    "            dv_dy = (v[j+1, i] - v[j-1, i]) / (y[j+1, i] - y[j-1, i])\n",
    "            ds_dy = 0.5 * (du_dx + dv_dy)\n",
    "            \n",
    "            # Calculate vorticity\n",
    "            vorticity[j, i] = dv_dx - du_dy\n",
    "\n",
    "            # Calculate Q values\n",
    "            # q_value[j, i] = 0.5 * (vorticity[j, i]^2 + ds_dx^2 + ds_dy^2)\n",
    "            q_value[j, i] = -du_dy * dv_dx + du_dx * dv_dy\n",
    "        end\n",
    "    end\n",
    "    \n",
    "    return vorticity, q_value\n",
    "end"
   ]
  },
  {
   "cell_type": "markdown",
   "id": "84826f2f",
   "metadata": {},
   "source": [
    "### Load Airfoil Coordinates - changed directory"
   ]
  },
  {
   "cell_type": "code",
   "execution_count": 4,
   "id": "a2179093",
   "metadata": {},
   "outputs": [],
   "source": [
    "cd(\"C:/Users/justi/OneDrive - Syracuse University/Documents/2D_PIV_pitching_foil_YZ/foil shape\") # load foil coordinates\n",
    "\n",
    "shape = readdlm(\"foil_coordinate_1.txt\", ',', '\\n')\n",
    "xfoil = shape[:,1];\n",
    "yfoil = shape[:,2];"
   ]
  },
  {
   "cell_type": "markdown",
   "id": "5a3ed3ca",
   "metadata": {},
   "source": [
    "### Load Velocity Field Data - changed directory"
   ]
  },
  {
   "cell_type": "code",
   "execution_count": 5,
   "id": "f37ebeec",
   "metadata": {},
   "outputs": [],
   "source": [
    "cd(\"C:/Users/justi/OneDrive - Syracuse University/Documents/2D_PIV_pitching_foil_YZ/PIV data\") # load velocity field data\n",
    "\n",
    "velocity_data = readdlm(\"velocity_field_1.txt\", ',', '\\n')\n",
    "\n",
    "xn = 119; # number of values in x-direction\n",
    "yn = 81; # number of values in y-direction\n",
    "\n",
    "x = velocity_data[:,1];\n",
    "y = velocity_data[:,2];\n",
    "u = velocity_data[:,3];\n",
    "v = velocity_data[:,4];\n",
    "\n",
    "xdata = reshape(x, (xn, yn));\n",
    "ydata = reshape(y, (xn, yn));\n",
    "udata = reshape(u, (xn, yn));\n",
    "vdata = reshape(v, (xn, yn));\n",
    "\n",
    "\n",
    "vorticity, q_value = calculate_vorticity_Q(ydata, xdata, -vdata, -udata);"
   ]
  },
  {
   "cell_type": "markdown",
   "id": "03e761ec",
   "metadata": {},
   "source": [
    "## <font color='289C4E'>Read Data<font><a id='2'></a>\n",
    "### Reading all the data at once "
   ]
  },
  {
   "cell_type": "code",
   "execution_count": 14,
   "id": "b532bd74",
   "metadata": {},
   "outputs": [],
   "source": [
    "cd(\"C:/Users/justi/OneDrive - Syracuse University/Documents/2D_PIV_pitching_foil_YZ/PIV data\")\n",
    "velocity_data = readdlm(\"velocity_field_1.txt\", ',', '\\n')\n",
    "x = velocity_data[:,1];\n",
    "y = velocity_data[:,2];\n",
    "\n",
    "xn = 119; # number of values in x-direction\n",
    "yn = 81; # number of values in y-direction\n",
    "\n",
    "xdata = reshape(x, (xn, yn));\n",
    "ydata = reshape(y, (xn, yn));\n",
    "x_range = xdata[:,1]\n",
    "y_range = ydata[1,:]\n",
    "\n",
    "tstep_start = 0\n",
    "periods = 4\n",
    "tstep_end = 50/2.4 * periods\n",
    "og_num_tsteps = 50 \n",
    "num_tsteps = og_num_tsteps * periods\n",
    "tstep_delta = 1/2.4\n",
    "inter = 1\n",
    "Vel_contour = zeros(Float64, 2, num_tsteps * periods, yn, xn)\n",
    "\n",
    "for p in 0:periods-1\n",
    "    for num in 1:og_num_tsteps\n",
    "        velocity_data = readdlm(\"velocity_field_$num.txt\", ',', '\\n')\n",
    "        u = velocity_data[:,3];\n",
    "        v = velocity_data[:,4];\n",
    "    \n",
    "        Vel_contour[1, p*og_num_tsteps+num, :, :] =  transpose(reshape(u,(xn, yn)))\n",
    "        Vel_contour[2, p*og_num_tsteps+num, :, :] =  transpose(reshape(v,(xn, yn)))\n",
    "    end\n",
    "end"
   ]
  },
  {
   "cell_type": "markdown",
   "id": "ea779cdf",
   "metadata": {},
   "source": [
    "### Plot Vorticity Field"
   ]
  },
  {
   "cell_type": "markdown",
   "id": "00b6e6ac",
   "metadata": {},
   "source": [
    "fig, ax = plt.subplots()\n",
    "ax.contourf(xdata[2:end-1,1], ydata[1,2:end-1], max.(min.(q_value[2:end-1,2:end-1]', 100), -100), levels=100, lw=0, xlabel=\"x (m)\", ylabel=\"y (m)\", title=\"Q\", color=:vik, aspect_ratio=:equal, clim=(-100,100), xlims=(-0.1, 0.2), ylims=(-0.1,0.1));\n",
    "ax.plot(xfoil,yfoil,fill=true,aspect_ratio=:equal,c=:black,legend = false)"
   ]
  },
  {
   "cell_type": "markdown",
   "id": "1d29bd72",
   "metadata": {},
   "source": [
    "### Load Phi Field data - changed directory"
   ]
  },
  {
   "cell_type": "markdown",
   "id": "32e9531b",
   "metadata": {},
   "source": [
    "#cd(\"/Users/yuanhangzhu/Dropbox/Research/UVA/FMPM/2D PIV case/Potential/drag_potential\")\n",
    "cd(\"E:/Research/2D_PIV_pitching_foil_YZ/Potential/drag_potential\")\n",
    "phi_drag = readdlm(\"phi_drag_$num.txt\", ',', '\\n')[:,3]; # load phi field data\n",
    "phi_drag_data = reshape(phi_drag, (yn, xn))\n",
    "\n",
    "p3 = contourf(xdata[2:end-1,1], ydata[1,2:end-1], phi_drag_data[2:end-1,2:end-1], levels=50, lw=0, xlabel=\"x (m)\", ylabel=\"y (m)\", title=\"Phi\", color=:vik, aspect_ratio=:equal, clim=(-0.01,0.01), xlims=(-0.1, 0.2), ylims=(-0.1,0.1));\n",
    "plot!(xfoil,yfoil,fill=true,aspect_ratio=:equal,c=:black,legend = false)"
   ]
  },
  {
   "cell_type": "markdown",
   "id": "0369d6ed",
   "metadata": {},
   "source": [
    "drag_density = -2*.*(q_value',phi_drag_data) # calculate vorticity-induced force density\n",
    "p3 = contourf(xdata[2:end-1,1], ydata[1,2:end-1], max.(min.(drag_density[2:end-1,2:end-1], 0.2), -0.2), levels=50, lw=0, xlabel=\"x (m)\", ylabel=\"y (m)\", title=\"Drag density\", color=:vik, aspect_ratio=:equal, clim=(-0.2,0.2), xlims=(-0.1, 0.2), ylims=(-0.1,0.1));\n",
    "plot!(xfoil,yfoil,fill=true,aspect_ratio=:equal,c=:black,legend = false)"
   ]
  },
  {
   "cell_type": "markdown",
   "id": "7e693534",
   "metadata": {},
   "source": [
    "## <font color='289C4E'>Particle Tracking and FTLE calculation<font><a id='3'></a>"
   ]
  },
  {
   "cell_type": "code",
   "execution_count": 8,
   "id": "36836ec0",
   "metadata": {},
   "outputs": [
    {
     "data": {
      "text/plain": [
       "find_me (generic function with 1 method)"
      ]
     },
     "execution_count": 8,
     "metadata": {},
     "output_type": "execute_result"
    }
   ],
   "source": [
    "function find_me(xval, yval)\n",
    "    x1 = argmin(abs.(x_range .- xval))\n",
    "    y1 = argmin(abs.(y_range .- yval))\n",
    "\n",
    "    if x1 >= size(x_range)[1]-1\n",
    "        x1 -= 3\n",
    "    end\n",
    "    \n",
    "    if y1 >= size(y_range)[1]-1\n",
    "        y1 -= 3\n",
    "    end\n",
    "\n",
    "    x2 = x1 + 1\n",
    "    y2 = y1 + 1\n",
    "    \n",
    "    return x1, x2, y1, y2\n",
    "end"
   ]
  },
  {
   "cell_type": "code",
   "execution_count": 17,
   "id": "62662577",
   "metadata": {},
   "outputs": [
    {
     "name": "stdout",
     "output_type": "stream",
     "text": [
      "DONE\n"
     ]
    }
   ],
   "source": [
    "tstep_range = collect(range(tstep_start, tstep_end, length=num_tsteps))\n",
    "println(\"DONE\")"
   ]
  },
  {
   "cell_type": "code",
   "execution_count": 32,
   "id": "f9bd6a3e",
   "metadata": {},
   "outputs": [
    {
     "data": {
      "text/plain": [
       "0.123258798624217"
      ]
     },
     "execution_count": 32,
     "metadata": {},
     "output_type": "execute_result"
    }
   ],
   "source": [
    "#tstep_delta\n",
    "Vel_contour[1,1,1,1]"
   ]
  },
  {
   "cell_type": "code",
   "execution_count": 22,
   "id": "b8e5c358",
   "metadata": {},
   "outputs": [
    {
     "data": {
      "text/plain": [
       "FTLE (generic function with 1 method)"
      ]
     },
     "execution_count": 22,
     "metadata": {},
     "output_type": "execute_result"
    }
   ],
   "source": [
    "function FTLE(nx,ny,x0,x1,y0,y1,t_0,t_1)\n",
    "    move = Int64(sign(t_1-t_0))\n",
    "    t_0_ind = Int64(argmin(abs.(tstep_range .- t_0)))\n",
    "    t_1_ind = Int64(argmin(abs.(tstep_range .- t_1)))\n",
    "    tsteps = Int64(round(abs(t_1 - t_0)/tstep_delta + 1))\n",
    "    x = collect(range(x0, x1, length=nx))\n",
    "    y = collect(range(y0, y1, length=ny))\n",
    "    particles = zeros(3, tsteps+1, nx, ny)\n",
    "\n",
    "    for ii in 1:nx, jj in 1:ny\n",
    "        particles[1,1,ii, :] .= x[ii]\n",
    "        particles[2,1, :,jj] .= y[jj]\n",
    "    end\n",
    "    \n",
    "    x = copy(x_range)\n",
    "    y = copy(y_range)\n",
    "    # Iterate through all timesteps \n",
    "    count = 1\n",
    "    for tt in t_0_ind:move:t_1_ind\n",
    "        for ii in 1:nx, jj in 1:ny\n",
    "            # Let's use Runge Kutta 4th order\n",
    "            kxy = zeros(4,2)\n",
    "            a = particles[1,Int64(move*(tt-t_0_ind)+1),ii,jj]\n",
    "            b = particles[2,Int64(move*(tt-t_0_ind)+1),ii,jj]\n",
    "            #=Runge Kutta 4th Order K1 =#\n",
    "            c = copy(a)\n",
    "            d = copy(b)\n",
    "            x1, x2, y1, y2 = find_me(c, d)\n",
    "            for UV in 1:2\n",
    "                kxy[1,UV] = 1/((y[y2]-y[y1])*(x[x2]-x[x1])) * ( \n",
    "                               (x[x2]-c)*(y[y2]-d)*Vel_contour[UV,tt,y1,x1] + \n",
    "                               (c-x[x1])*(y[y2]-d)*Vel_contour[UV,tt,y2,x1] +\n",
    "                               (x[x2]-c)*(d-y[y1])*Vel_contour[UV,tt,y1,x2] +\n",
    "                               (c-x[x1])*(d-y[y1])*Vel_contour[UV,tt,y2,x2] )\n",
    "            end\n",
    "            #=Runge Kutta 4th Order K2 =#\n",
    "            c = a + 0.5*kxy[1,1]*tstep_delta\n",
    "            d = b + 0.5*kxy[1,2]*tstep_delta\n",
    "            x1, x2, y1, y2 = find_me(c, d)\n",
    "            for UV in 1:2\n",
    "                kxy[2,UV] = 1/((y[y2]-y[y1])*(x[x2]-x[x1])) * ( \n",
    "                               (x[x2]-c)*(y[y2]-d)*0.5*(Vel_contour[UV,tt,y1,x1]+Vel_contour[UV,tt+move,y1,x1]) + \n",
    "                               (c-x[x1])*(y[y2]-d)*0.5*(Vel_contour[UV,tt,y2,x1]+Vel_contour[UV,tt+move,y2,x1]) +\n",
    "                               (x[x2]-c)*(d-y[y1])*0.5*(Vel_contour[UV,tt,y1,x2]+Vel_contour[UV,tt+move,y1,x2]) +\n",
    "                               (c-x[x1])*(d-y[y1])*0.5*(Vel_contour[UV,tt,y2,x2]+Vel_contour[UV,tt+move,y2,x2]) )\n",
    "            end\n",
    "            #=Runge Kutta 4th Order K3 =#\n",
    "            c = a + 0.5*kxy[2,1]*tstep_delta\n",
    "            d = b + 0.5*kxy[2,2]*tstep_delta\n",
    "            x1, x2, y1, y2 = find_me(c, d)\n",
    "            for UV in 1:2\n",
    "                kxy[3,UV] = 1/((y[y2]-y[y1])*(x[x2]-x[x1])) * ( \n",
    "                               (x[x2]-c)*(y[y2]-d)*0.5*(Vel_contour[UV,tt,y1,x1]+Vel_contour[UV,tt+move,y1,x1]) + \n",
    "                               (c-x[x1])*(y[y2]-d)*0.5*(Vel_contour[UV,tt,y2,x1]+Vel_contour[UV,tt+move,y2,x1]) +\n",
    "                               (x[x2]-c)*(d-y[y1])*0.5*(Vel_contour[UV,tt,y1,x2]+Vel_contour[UV,tt+move,y1,x2]) +\n",
    "                               (c-x[x1])*(d-y[y1])*0.5*(Vel_contour[UV,tt,y2,x2]+Vel_contour[UV,tt+move,y2,x2]) )\n",
    "            end\n",
    "            #=Runge Kutta 4th Order K4 =#\n",
    "            c = a + kxy[3,1]*tstep_delta\n",
    "            d = b + kxy[3,2]*tstep_delta\n",
    "            x1, x2, y1, y2 = find_me(c, d)\n",
    "            for UV in 1:2\n",
    "                kxy[4,UV] = 1/((y[y2]-y[y1])*(x[x2]-x[x1])) * ( \n",
    "                               (x[x2]-c)*(y[y2]-d)*Vel_contour[UV,tt+move,y1,x1] + \n",
    "                               (c-x[x1])*(y[y2]-d)*Vel_contour[UV,tt+move,y2,x1] +\n",
    "                               (x[x2]-c)*(d-y[y1])*Vel_contour[UV,tt+move,y1,x2] +\n",
    "                               (c-x[x1])*(d-y[y1])*Vel_contour[UV,tt+move,y2,x2] )\n",
    "            end\n",
    "            for UV in 1:2\n",
    "                particles[UV,Int64(move*(tt-t_0_ind)+2),ii,jj] = particles[UV,Int64(move*(tt-t_0_ind)+1),ii,jj] + sign(move)*(kxy[1,UV]+2*kxy[2,UV]+2*kxy[3,UV]+kxy[4,UV])*tstep_delta/6\n",
    "            end\n",
    "            #end\n",
    "        end\n",
    "        count += 1\n",
    "    end\n",
    "    \n",
    "    #=\n",
    "    for tt in 1:tsteps\n",
    "        for ii in 2:nx-1\n",
    "            for jj in 2:ny-1\n",
    "                ul = (particles[1,tt,ii+1,jj]-particles[1,tt,ii-1,jj])/(particles[1,1,ii+1,jj]-particles[1,1,ii-1,jj])\n",
    "                ur = (particles[2,tt,ii+1,jj]-particles[2,tt,ii-1,jj])/(particles[2,1,ii,jj+1]-particles[2,1,ii,jj-1])\n",
    "                ll = (particles[1,tt,ii,jj+1]-particles[1,tt,ii,jj-1])/(particles[1,1,ii+1,jj]-particles[1,1,ii-1,jj])\n",
    "                lr = (particles[2,tt,ii,jj+1]-particles[2,tt,ii,jj-1])/(particles[2,1,ii,jj+1]-particles[2,1,ii,jj-1])\n",
    "                B = [ul ur; ll lr]\n",
    "                A = transpose(B) * B\n",
    "                G = eigvals(A)\n",
    "                H = ones(length(G))\n",
    "                for i in 1:length(H)\n",
    "                    H[i] = abs(G[i])\n",
    "                end\n",
    "                sigma = maximum(H)\n",
    "                particles[3,tt+1,ii,jj] = 0.5/tstep_delta*log(sigma)\n",
    "            end\n",
    "        end\n",
    "    end\n",
    "    =#\n",
    "    \n",
    "    flow = particles[:,:,2:nx-1,2:ny-1]\n",
    "    println(\"done\")\n",
    "\n",
    "    return flow\n",
    "end"
   ]
  },
  {
   "cell_type": "markdown",
   "id": "a99ff50b",
   "metadata": {},
   "source": [
    "```{admonition}\n",
    "Example: FTLE for forward and then backward along one cycle\n",
    "```"
   ]
  },
  {
   "cell_type": "code",
   "execution_count": 23,
   "id": "f051161a",
   "metadata": {},
   "outputs": [
    {
     "name": "stdout",
     "output_type": "stream",
     "text": [
      "done\n",
      "DONE"
     ]
    }
   ],
   "source": [
    "p = FTLE(50,50,-0.05,0.1,-0.05,0.05,   25/2.4, 50/2.4)\n",
    "#n = FTLE(50,50,-0.05,0.1,-0.05,0.05,   75/2.4, 50/2.4)\n",
    "print(\"DONE\")"
   ]
  },
  {
   "cell_type": "code",
   "execution_count": 24,
   "id": "ebbc013c",
   "metadata": {},
   "outputs": [
    {
     "data": {
      "text/plain": [
       "(3, 27, 48, 48)"
      ]
     },
     "execution_count": 24,
     "metadata": {},
     "output_type": "execute_result"
    }
   ],
   "source": [
    "size(p)"
   ]
  },
  {
   "cell_type": "code",
   "execution_count": 30,
   "id": "e99697fc",
   "metadata": {},
   "outputs": [
    {
     "data": {
      "image/png": "[encoded data removed]",
      "text/plain": [
       "Figure(PyObject <Figure size 640x480 with 1 Axes>)"
      ]
     },
     "metadata": {},
     "output_type": "display_data"
    },
    {
     "data": {
      "text/plain": [
       "PyObject <matplotlib.collections.PathCollection object at 0x00000136D16BE410>"
      ]
     },
     "execution_count": 30,
     "metadata": {},
     "output_type": "execute_result"
    }
   ],
   "source": [
    "fig, ax = subplots()\n",
    "ts = 1\n",
    "ax.scatter(p[1,ts,:,:],p[2,ts,:,:],marker=\"s\",color=\"pink\",zorder=3)\n",
    "#ax.set_xlim([9.5,12])\n",
    "#ax.set_ylim([  9,11])"
   ]
  },
  {
   "cell_type": "code",
   "execution_count": null,
   "id": "0e3f21d8",
   "metadata": {},
   "outputs": [],
   "source": [
    "tstep = 61\n",
    "x = p300[1,1,:,:]\n",
    "y = p300[2,1,:,:]\n",
    "z = p300[3,tstep,:,:]\n",
    "fig, ax = subplots(figsize=(9.25,5.25))\n",
    "cm = ax.contourf(x,y,z,cmap=ColorMap(\"rainbow\"))\n",
    "#ax.set_xlim([9.5,12])\n",
    "#ax.set_ylim([  9,11])\n",
    "fig.colorbar(cm)"
   ]
  },
  {
   "cell_type": "code",
   "execution_count": null,
   "id": "de917ba7",
   "metadata": {},
   "outputs": [],
   "source": []
  },
  {
   "cell_type": "code",
   "execution_count": null,
   "id": "a1499e3f",
   "metadata": {},
   "outputs": [],
   "source": [
    "function xflowMap(field, tstep, levels)\n",
    "    x = field[1,1,:,:]\n",
    "    y = field[2,1,:,:]\n",
    "    z = field[1,tstep,:,:]\n",
    "    fig, ax = subplots(figsize=(9.25,5.25))\n",
    "    cm = ax.contourf(x,y,z,cmap=ColorMap(\"rainbow\"),levels=levels)\n",
    "    fig.colorbar(cm)\n",
    "    title(\"Flow Map at \"*string((tstep-1)*tstep_delta+tstep_start) *\"ms\")\n",
    "end"
   ]
  },
  {
   "cell_type": "code",
   "execution_count": null,
   "id": "a1ae8ff4",
   "metadata": {},
   "outputs": [],
   "source": []
  },
  {
   "cell_type": "code",
   "execution_count": null,
   "id": "7a65ed5a",
   "metadata": {},
   "outputs": [],
   "source": [
    "function filterFTLE(field, limFTLE)\n",
    "    manifolds = (field[3,:,:,:] .> limFTLE * maximum(field[3,:,:,:])) .|> Int\n",
    "    return manifolds\n",
    "end"
   ]
  },
  {
   "cell_type": "code",
   "execution_count": null,
   "id": "8e4834a8",
   "metadata": {},
   "outputs": [],
   "source": []
  },
  {
   "cell_type": "code",
   "execution_count": null,
   "id": "33e3f80f",
   "metadata": {},
   "outputs": [],
   "source": [
    "function ftle(pos, neg, tstep)\n",
    "    x = pos[1,1,:,:]\n",
    "    y = pos[2,1,:,:]\n",
    "    p = filterFTLE(pos, 0.5)\n",
    "    n = filterFTLE(neg, 0.67)\n",
    "    fig, ax = subplots(figsize=(9.25,5.25))\n",
    "    levels = range(0, 1,length=3) .+ 0.5\n",
    "    ax.contourf(x[:,:],y[:,:],p[tstep,:,:],cmap=ColorMap(\"Blues\"),levels=levels, alpha=0.5, zorder=1)\n",
    "    ax.contourf(x[:,:],y[:,:],n[tstep,:,:],cmap=ColorMap(\"Reds\") ,levels=levels, alpha=0.5, zorder=2)\n",
    "end"
   ]
  },
  {
   "cell_type": "code",
   "execution_count": null,
   "id": "37edbbe9",
   "metadata": {},
   "outputs": [],
   "source": [
    "function ftle(p, n, lim, ts, save, t, tar)\n",
    "    x = p[1,1,:,:]\n",
    "    y = p[2,1,:,:]\n",
    "    pos = (p[3,ts,:,:] .> lim * maximum(p[3,ts,:,:])) .|> Int\n",
    "    neg = (n[3,ts,:,:] .> lim * maximum(n[3,ts,:,:])) .|> Int\n",
    "    fig, ax = subplots(figsize=(18.5,10.5))\n",
    "    levels = range(0, 1,length=3) .+ 0.5\n",
    "    ax.contourf(x,y,pos,cmap=ColorMap(\"Blues\"),levels=levels, alpha=0.5, zorder=1)\n",
    "    ax.contourf(x,y,neg,cmap=ColorMap(\"Reds\") ,levels=levels, alpha=0.5, zorder=2)\n",
    "    if save == true\n",
    "        name = string(t) * \"_\" * string(tar) * \".png\"\n",
    "        savefig(joinpath(sdata, name), dpi=100)\n",
    "        close()\n",
    "    end\n",
    "end"
   ]
  },
  {
   "cell_type": "code",
   "execution_count": null,
   "id": "e5c685d1",
   "metadata": {},
   "outputs": [],
   "source": [
    "ftle(p300, n300, 100)"
   ]
  },
  {
   "cell_type": "code",
   "execution_count": null,
   "id": "cac481e9",
   "metadata": {},
   "outputs": [],
   "source": [
    "size(n3)"
   ]
  },
  {
   "cell_type": "code",
   "execution_count": null,
   "id": "791c752d",
   "metadata": {},
   "outputs": [],
   "source": [
    "function sc(o, t, save=false)\n",
    "    fig, ax = subplots(figsize=(18.5,10.5))\n",
    "    levels = range(0, 1,length=3) .+ 0.5\n",
    "    #cm = ax.scatter(o[1,1,:,:],o[2,1,:,:],o[1,t,:,:], cmap=ColorMap(\"rainbow\"), levels=levels)\n",
    "    #fig.colorbar(cm)\n",
    "    ax.scatter(o[1,t,:,:],o[2,t,:,:],marker=\"s\",color=\"pink\",zorder=3, alpha=0.1)\n",
    "    #title(\"Flow Map at \"*string(move*(t-1)*tstep_delta+t_0) *\"ms\")\n",
    "    if save == true\n",
    "        savefig(joinpath(data, name * string(t) * \".png\"), dpi=100)\n",
    "        close()\n",
    "    end\n",
    "end"
   ]
  },
  {
   "cell_type": "code",
   "execution_count": null,
   "id": "73b101be",
   "metadata": {},
   "outputs": [],
   "source": [
    "sc(p3, 27)"
   ]
  },
  {
   "cell_type": "code",
   "execution_count": null,
   "id": "9dbeac3a",
   "metadata": {},
   "outputs": [],
   "source": [
    "function fm(o, t, levels, save=false)\n",
    "    fig, ax = subplots(figsize=(18.5,10.5))\n",
    "    cm = ax.contourf(o[1,1,:,:],o[2,1,:,:],o[1,t,:,:], cmap=ColorMap(\"rainbow\"), levels=levels)\n",
    "    fig.colorbar(cm)\n",
    "    #title(\"Flow Map at \"*string(move*(t-1)*tstep_delta+t_0) *\"ms\")\n",
    "    if save == true\n",
    "        savefig(joinpath(data, name * string(t) * \".png\"), dpi=100)\n",
    "        close()\n",
    "    end\n",
    "end"
   ]
  },
  {
   "cell_type": "code",
   "execution_count": null,
   "id": "3828ef37",
   "metadata": {},
   "outputs": [],
   "source": [
    "size(n2)"
   ]
  },
  {
   "cell_type": "code",
   "execution_count": null,
   "id": "290821df",
   "metadata": {},
   "outputs": [],
   "source": [
    "ftle(p2, n2, 52)"
   ]
  },
  {
   "cell_type": "code",
   "execution_count": null,
   "id": "f2b3dcf2",
   "metadata": {},
   "outputs": [],
   "source": [
    "fm(p3,,range(-0.05,0.2,length=50))"
   ]
  },
  {
   "cell_type": "code",
   "execution_count": null,
   "id": "df681e1f",
   "metadata": {},
   "outputs": [],
   "source": [
    "data =  \"C:/Users/jjser/Desktop/Julia_FTLE_Karthik_Data/airfoil2D_f0.15_amp25deg_KM/data_JJ\"\n",
    "sdata =  \"C:/Users/jjser/Desktop/Julia_FTLE_Karthik_Data/airfoil2D_f0.15_amp25deg_KM/plots_JJ/69800_3000_250\"\n",
    "t = 69800\n",
    "d = 200\n",
    "r = 6000\n",
    "n = Int(0.5*r/d)\n",
    "for ii in -n:n \n",
    "    tar = t + ii * d\n",
    "    name = \"p\" * string(t) * \"_\" * string(tar) * \".h\"\n",
    "    p = h5open(joinpath(data,name), \"r\") do file\n",
    "        read(file, \"A\")\n",
    "    end\n",
    "    name = \"n\" * string(t) * \"_\" * string(tar) * \".h\"\n",
    "    n = h5open(joinpath(data,name), \"r\") do file\n",
    "        read(file, \"A\")\n",
    "    end\n",
    "    ftle(p, n, 0.8, 122, true, t, tar)\n",
    "end\n",
    "print(\"DONE\")"
   ]
  },
  {
   "cell_type": "code",
   "execution_count": null,
   "id": "e02e3795",
   "metadata": {},
   "outputs": [],
   "source": [
    "data =  \"C:/Users/jjser/Desktop/Julia_FTLE_Karthik_Data/Yuanhang/data_JJ\"\n",
    "name = \"xR.h\"\n",
    "h5open(joinpath(data,name), \"w\") do file\n",
    "    write(file, \"A\", x_range)\n",
    "end\n",
    "name = \"yR.h\"\n",
    "h5open(joinpath(data,name), \"w\") do file\n",
    "    write(file, \"A\", y_range)\n",
    "end\n",
    "name = \"VelData.h\"\n",
    "h5open(joinpath(data,name), \"w\") do file\n",
    "    write(file, \"A\", Vel_contour)\n",
    "end"
   ]
  },
  {
   "cell_type": "code",
   "execution_count": null,
   "id": "ef2e68d0",
   "metadata": {},
   "outputs": [],
   "source": [
    "name = \"VelData.h\"\n",
    "h5open(joinpath(data,name), \"w\") do file\n",
    "    write(file, \"A\", Vel_contour)\n",
    "end"
   ]
  },
  {
   "cell_type": "code",
   "execution_count": null,
   "id": "a6854ed3",
   "metadata": {},
   "outputs": [],
   "source": [
    "gif_arr = ones(RGB{N0f8}, (1050, 1850, 31)) \n",
    "sdata =  \"C:/Users/jjser/Desktop/Julia_FTLE_Karthik_Data/Yuanhang/plots_JJ\"\n",
    "\n",
    "for frame in 1:27\n",
    "    tar = copy(frame)\n",
    "    name = string(t) * \"_\" * string(tar) * \".png\"\n",
    "    im = load(joinpath(sdata, name))\n",
    "    gif_arr[:,:,frame] = im\n",
    "end\n",
    "\n",
    "name = \"69800_3000_250gif.gif\"\n",
    "save(joinpath(sdata, name), gif_arr)\n",
    "print(\"DONE\")"
   ]
  },
  {
   "cell_type": "code",
   "execution_count": null,
   "id": "13f83909",
   "metadata": {},
   "outputs": [],
   "source": []
  }
 ],
 "metadata": {
  "kernelspec": {
   "display_name": "Julia 1.9.2",
   "language": "julia",
   "name": "julia-1.9"
  },
  "language_info": {
   "file_extension": ".jl",
   "mimetype": "application/julia",
   "name": "julia",
   "version": "1.9.2"
  }
 },
 "nbformat": 4,
 "nbformat_minor": 5
}
