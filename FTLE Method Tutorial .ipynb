{
 "cells": [
  {
   "cell_type": "markdown",
   "id": "3cc2949e",
   "metadata": {},
   "source": [
    "# Finite Time Lyapunov Exponent (FTLE) method tutorial\n",
    "\n",
    "Rough Steps:\n",
    "1. Gather flow field data \n",
    "2. Initialize particles into flow field\n",
    "3. Calculate velocities of the particles at the initial time\n",
    "4. Integrate the velocities in time over interval T\n",
    "- use bilinear interpolation to calculate velocities\n",
    "- use runge-kutta 4th order method to propagate particles\n",
    "5. Evaluate deformation tensor \n",
    "6. Create Cauchy-Green strain tensor\n",
    "7. Calculate the expansion coefficient\n",
    "8. Calculate FTLE field \n",
    "9. Repeat previous steps but integrate backwards in time\n",
    "10. Post-process in order to get the saddle points\n",
    "\n",
    "## Step 1. Gather flow field data\n",
    "This notebook will use the flow field data from a pitching airfoil case. We will solve for the positive and negative FTLE (pFTLE, nFTLE) in addition to the saddle points. "
   ]
  },
  {
   "cell_type": "code",
   "execution_count": 1,
   "id": "4fa5e355",
   "metadata": {},
   "outputs": [],
   "source": [
    "using FileIO, ImageMagick, Colors, FixedPointNumbers, DelimitedFiles, PyPlot, LinearAlgebra, HDF5"
   ]
  },
  {
   "cell_type": "markdown",
   "id": "1fe4f5ee",
   "metadata": {},
   "source": [
    "<div class=\"alert alert-block alert-warning\">  \n",
    "<b> If error:</b> Run the code below \n",
    "</div>"
   ]
  },
  {
   "cell_type": "code",
   "execution_count": null,
   "id": "a64d3548",
   "metadata": {},
   "outputs": [],
   "source": [
    "import Pkg\n",
    "Pkg.add(\"FileIO\")\n",
    "Pkg.add(\"ImageMagick\")\n",
    "Pkg.add(\"Colors\")\n",
    "Pkg.add(\"FixedPointNumbers\")\n",
    "Pkg.add(\"DelimitedFiles\")\n",
    "Pkg.add(\"PyPlot\")\n",
    "Pkg.add(\"LinearAlgebra\")\n",
    "Pkg.add(\"HDF5\")"
   ]
  },
  {
   "cell_type": "markdown",
   "id": "522c535c",
   "metadata": {},
   "source": [
    "First we have to get the flow field data. For this tutorial, we will be using Dr. Karthik Menon's data about a pitching airfoil demonstrating unsteadiness and dynamic stall. \n",
    "In addition to the flow field data, the airfoil coordinates, and vorticity will also be used for visualization later."
   ]
  },
  {
   "cell_type": "code",
   "execution_count": 3,
   "id": "4fd10b2c",
   "metadata": {},
   "outputs": [
    {
     "name": "stdout",
     "output_type": "stream",
     "text": [
      "DONE"
     ]
    }
   ],
   "source": [
    "hp = \"/Users/justi/OneDrive - Syracuse University/Documents/airfoil2D_f0.15_amp25deg_KM/\"\n",
    "data =  joinpath(hp,\"data_JJ\")\n",
    "name =  \"xR2.h\"\n",
    "x_range = h5open(joinpath(data,name), \"r\") do file\n",
    "    read(file, \"A\")\n",
    "end\n",
    "name =  \"yR2.h\"\n",
    "y_range = h5open(joinpath(data,name), \"r\") do file\n",
    "    read(file, \"A\")\n",
    "end\n",
    "name = \"VelData2.h\"\n",
    "Vel_contour = h5open(joinpath(data,name), \"r\") do file\n",
    "    read(file, \"A\")\n",
    "end\n",
    "name =  \"BvoData2.h\"\n",
    "Bvo_contour = h5open(joinpath(data,name), \"r\") do file\n",
    "    read(file, \"A\")\n",
    "end\n",
    "num_tsteps = size(Vel_contour)[2]\n",
    "print(\"DONE\")"
   ]
  },
  {
   "cell_type": "code",
   "execution_count": 20,
   "id": "1f6c7ebc",
   "metadata": {},
   "outputs": [
    {
     "name": "stdout",
     "output_type": "stream",
     "text": [
      "DONE"
     ]
    }
   ],
   "source": [
    "og_num_tsteps = Int64((150000-200)/200 + 1)\n",
    "inter = 2\n",
    "tsteps = (og_num_tsteps-1)*inter+1\n",
    "tstep_range = collect(range(200/1000, 150000/1000, length=tsteps))\n",
    "print(\"DONE\")"
   ]
  },
  {
   "cell_type": "markdown",
   "id": "7f7ed5a9",
   "metadata": {},
   "source": [
    "Afterwards, intialize the flow field with a grid of particles. The amount of particles can be more than the resolution of the flow field, as the velocities of these particles can be interpolated. \n",
    "Additionally, flow fields can also be interpolated between two flow fields with the smallest timestep."
   ]
  },
  {
   "cell_type": "code",
   "execution_count": 21,
   "id": "334383d6",
   "metadata": {},
   "outputs": [
    {
     "name": "stdout",
     "output_type": "stream",
     "text": [
      "DONE"
     ]
    }
   ],
   "source": [
    "t_0 = 63800/1000\n",
    "t_1 = 69800/1000\n",
    "move = Int64(sign(t_1-t_0))\n",
    "t_0_ind = Int64(argmin(abs.(tstep_range .- t_0)))\n",
    "t_1_ind = Int64(argmin(abs.(tstep_range .- t_1)))\n",
    "tsteps = Int64(round(abs(t_1 - t_0)/(100/1000) + 1))\n",
    "\n",
    "nx = 100\n",
    "ny = 100\n",
    "x0, x1, y0, y1 = -0.05,0.1,-0.05,0.05\n",
    "x = collect(range(x0, x1, length=nx))\n",
    "y = collect(range(y0, y1, length=ny))\n",
    "particles = zeros(3, tsteps+1, nx, ny)\n",
    "for tt in 1:tsteps\n",
    "    for ii in 1:nx\n",
    "        for jj in 1:ny\n",
    "            # Initialize the particles into the flow field\n",
    "            particles[1,tt,ii,jj] = x_range[ii]\n",
    "            particles[2,tt,ii,jj] = y_range[jj]\n",
    "        end\n",
    "    end\n",
    "end\n",
    "print(\"DONE\")"
   ]
  },
  {
   "cell_type": "markdown",
   "id": "8ba14bbf",
   "metadata": {},
   "source": [
    "The particles are then advected/integrated with the flow from a prescribed initial and final time. The advection can go both in increasing and decreasing time. \n",
    "For demonstration, we will first propagate the particles forward in time with a total integration time of around 2 periods. \n",
    "The velocity of the points in the flowfield at each timestep will be interpolated using bilinear interpolation. \n",
    "A Runge-Kutta 4th order method will be used for time step integration."
   ]
  },
  {
   "cell_type": "code",
   "execution_count": 22,
   "id": "f19476ef",
   "metadata": {},
   "outputs": [
    {
     "data": {
      "text/plain": [
       "find_me (generic function with 1 method)"
      ]
     },
     "execution_count": 22,
     "metadata": {},
     "output_type": "execute_result"
    }
   ],
   "source": [
    "function find_me(xval, yval)\n",
    "    x1 = argmin(abs.(x_range .- xval))\n",
    "    y1 = argmin(abs.(y_range .- yval))\n",
    "\n",
    "    if x1 >= size(x_range)[1]-1\n",
    "        x1 -= 3\n",
    "    end\n",
    "    \n",
    "    if y1 >= size(y_range)[1]-1\n",
    "        y1 -= 3\n",
    "    end\n",
    "\n",
    "    x2 = x1 + 1\n",
    "    y2 = y1 + 1\n",
    "    \n",
    "    return x1, x2, y1, y2\n",
    "end"
   ]
  },
  {
   "cell_type": "code",
   "execution_count": 25,
   "id": "c6062d71",
   "metadata": {},
   "outputs": [
    {
     "ename": "LoadError",
     "evalue": "BoundsError: attempt to access 100-element Vector{Float64} at index [315]",
     "output_type": "error",
     "traceback": [
      "BoundsError: attempt to access 100-element Vector{Float64} at index [315]",
      "",
      "Stacktrace:",
      " [1] getindex(A::Vector{Float64}, i1::Int64)",
      "   @ Base .\\essentials.jl:13",
      " [2] top-level scope",
      "   @ .\\In[25]:48"
     ]
    }
   ],
   "source": [
    "tstep_delta = 100/1000\n",
    "# Integrate using Runge-Kutta 4th Order Method\n",
    "for tt in t_0_ind:move:t_1_ind\n",
    "    for ii in 1:nx\n",
    "        for jj in 1:ny\n",
    "            # Let's use Runge Kutta 4th order\n",
    "            kxy = zeros(4,2)\n",
    "            a = particles[1,Int64(move*(tt-t_0_ind)+1),ii,jj]\n",
    "            b = particles[2,Int64(move*(tt-t_0_ind)+1),ii,jj]\n",
    "            #=Runge Kutta 4th Order K1 =#\n",
    "            c = copy(a)\n",
    "            d = copy(b)\n",
    "            x1, x2, y1, y2 = find_me(c, d)\n",
    "            for UV in 1:2\n",
    "                kxy[1,UV] = 1/((y[y2]-y[y1])*(x[x2]-x[x1])) * ( \n",
    "                            (x[x2]-c)*(y[y2]-d)*Vel_contour[UV,tt,y1,x1] + \n",
    "                            (c-x[x1])*(y[y2]-d)*Vel_contour[UV,tt,y2,x1] +\n",
    "                            (x[x2]-c)*(d-y[y1])*Vel_contour[UV,tt,y1,x2] +\n",
    "                            (c-x[x1])*(d-y[y1])*Vel_contour[UV,tt,y2,x2] )\n",
    "            end\n",
    "            #=Runge Kutta 4th Order K2 =#\n",
    "            c = a + 0.5*kxy[1,1]*tstep_delta\n",
    "            d = b + 0.5*kxy[1,2]*tstep_delta\n",
    "            x1, x2, y1, y2 = find_me(c, d)\n",
    "            for UV in 1:2\n",
    "                kxy[2,UV] = 1/((y[y2]-y[y1])*(x[x2]-x[x1])) * ( \n",
    "                            (x[x2]-c)*(y[y2]-d)*0.5*(Vel_contour[UV,tt,y1,x1]+Vel_contour[UV,tt+move,y1,x1]) + \n",
    "                            (c-x[x1])*(y[y2]-d)*0.5*(Vel_contour[UV,tt,y2,x1]+Vel_contour[UV,tt+move,y2,x1]) +\n",
    "                            (x[x2]-c)*(d-y[y1])*0.5*(Vel_contour[UV,tt,y1,x2]+Vel_contour[UV,tt+move,y1,x2]) +\n",
    "                            (c-x[x1])*(d-y[y1])*0.5*(Vel_contour[UV,tt,y2,x2]+Vel_contour[UV,tt+move,y2,x2]) )\n",
    "            end\n",
    "            #=Runge Kutta 4th Order K3 =#\n",
    "            c = a + 0.5*kxy[2,1]*tstep_delta\n",
    "            d = b + 0.5*kxy[2,2]*tstep_delta\n",
    "            x1, x2, y1, y2 = find_me(c, d)\n",
    "            for UV in 1:2\n",
    "                kxy[3,UV] = 1/((y[y2]-y[y1])*(x[x2]-x[x1])) * ( \n",
    "                            (x[x2]-c)*(y[y2]-d)*0.5*(Vel_contour[UV,tt,y1,x1]+Vel_contour[UV,tt+move,y1,x1]) + \n",
    "                            (c-x[x1])*(y[y2]-d)*0.5*(Vel_contour[UV,tt,y2,x1]+Vel_contour[UV,tt+move,y2,x1]) +\n",
    "                            (x[x2]-c)*(d-y[y1])*0.5*(Vel_contour[UV,tt,y1,x2]+Vel_contour[UV,tt+move,y1,x2]) +\n",
    "                            (c-x[x1])*(d-y[y1])*0.5*(Vel_contour[UV,tt,y2,x2]+Vel_contour[UV,tt+move,y2,x2]) )\n",
    "            end\n",
    "            #=Runge Kutta 4th Order K4 =#\n",
    "            c = a + kxy[3,1]*tstep_delta\n",
    "            d = b + kxy[3,2]*tstep_delta\n",
    "            x1, x2, y1, y2 = find_me(c, d)\n",
    "            for UV in 1:2\n",
    "                kxy[4,UV] = 1/((y[y2]-y[y1])*(x[x2]-x[x1])) * ( \n",
    "                            (x[x2]-c)*(y[y2]-d)*Vel_contour[UV,tt+move,y1,x1] + \n",
    "                            (c-x[x1])*(y[y2]-d)*Vel_contour[UV,tt+move,y2,x1] +\n",
    "                            (x[x2]-c)*(d-y[y1])*Vel_contour[UV,tt+move,y1,x2] +\n",
    "                            (c-x[x1])*(d-y[y1])*Vel_contour[UV,tt+move,y2,x2] )\n",
    "            end\n",
    "            for UV in 1:2\n",
    "                particles[UV,Int64(move*(tt-t_0_ind)+2),ii,jj] = particles[UV,Int64(move*(tt-t_0_ind)+1),ii,jj] + sign(move)*(kxy[1,UV]+2*kxy[2,UV]+2*kxy[3,UV]+kxy[4,UV])*tstep_delta/6\n",
    "            end\n",
    "        end\n",
    "    end\n",
    "end\n",
    "print(\"DONE\")"
   ]
  },
  {
   "cell_type": "markdown",
   "id": "88f28455",
   "metadata": {},
   "source": [
    "Before we go to calculating FTLE values, let's plot some flowmaps first that maps what the new coordinates of the particles are now based on its initial value."
   ]
  },
  {
   "cell_type": "code",
   "execution_count": null,
   "id": "e7224180",
   "metadata": {},
   "outputs": [],
   "source": [
    "# This is an x flowmap\n",
    "fig, ax = subplots(figsize=(9.25,5.25))\n",
    "levels = range(llim[1], llim[2], length=10)\n",
    "cm = ax.contourf(particles[1,1,:,:],particles[2,1,:,:],particles[1,end,:,:],cmap=ColorMap(\"rainbow\"),levels=levels)\n",
    "fig.colorbar(cm)\n",
    "ax.set_title(\" xFlow Map \")\n",
    "ax.set_xlabel(\"x (m)\")\n",
    "ax.set_ylabel(\"y (m)\")\n",
    "\n",
    "# This is an y flowmap\n",
    "fig, ax = subplots(figsize=(9.25,5.25))\n",
    "levels = range(llim[1], llim[2], length=10)\n",
    "cm = ax.contourf(particles[1,1,:,:],particles[2,1,:,:],particles[1,end,:,:],cmap=ColorMap(\"rainbow\"),levels=levels)\n",
    "fig.colorbar(cm)\n",
    "ax.set_title(\" yFlow Map \")\n",
    "ax.set_xlabel(\"x (m)\")\n",
    "ax.set_ylabel(\"y (m)\")\n"
   ]
  },
  {
   "cell_type": "markdown",
   "id": "57a5a64b",
   "metadata": {},
   "source": [
    "Now let's calculate the FTLE value for each particle to get the FTLE field. For a forward moving time integration this would correspond to the largest stretching of the particle. \n",
    "On the other hand, a backward moving time integration would correspond to the largest compressing of the particle (in normal forward time)."
   ]
  },
  {
   "cell_type": "code",
   "execution_count": 43,
   "id": "b8e5c358",
   "metadata": {},
   "outputs": [
    {
     "data": {
      "text/plain": [
       "FTLE (generic function with 2 methods)"
      ]
     },
     "execution_count": 43,
     "metadata": {},
     "output_type": "execute_result"
    }
   ],
   "source": [
    "for ii in 2:nx-1\n",
    "    for jj in 2:ny-1\n",
    "        ul = (particles[1,end,ii+1,jj]-particles[1,end,ii-1,jj])/(particles[1,1,ii+1,jj]-particles[1,1,ii-1,jj])\n",
    "        ur = (particles[2,end,ii+1,jj]-particles[2,end,ii-1,jj])/(particles[2,1,ii,jj+1]-particles[2,1,ii,jj-1])\n",
    "        ll = (particles[1,end,ii,jj+1]-particles[1,end,ii,jj-1])/(particles[1,1,ii+1,jj]-particles[1,1,ii-1,jj])\n",
    "        lr = (particles[2,end,ii,jj+1]-particles[2,end,ii,jj-1])/(particles[2,1,ii,jj+1]-particles[2,1,ii,jj-1])\n",
    "        B = [ul ur; ll lr]\n",
    "        A = transpose(B) * B\n",
    "        G = eigvals(A)\n",
    "        H = ones(length(G))\n",
    "        for i in 1:length(H)\n",
    "            H[i] = abs(G[i])\n",
    "        end\n",
    "        sigma = maximum(H)\n",
    "        particles[3,tt+1,ii,jj] = 0.5/tstep_delta*log(sigma)\n",
    "    end\n",
    "end"
   ]
  },
  {
   "cell_type": "markdown",
   "id": "58d3e217",
   "metadata": {},
   "source": [
    "Now let's plot the FTLE field that we just calculated."
   ]
  },
  {
   "cell_type": "code",
   "execution_count": null,
   "id": "0f02fb5f",
   "metadata": {},
   "outputs": [],
   "source": [
    "fig, ax = subplots(figsize=(9.25,5.25))\n",
    "cm = ax.contourf(particles[1,1,:,:],particles[2,1,:,:],particles[3,end-1,:,:],cmap=ColorMap(\"rainbow\"))\n",
    "fig.colorbar(cm)\n",
    "ax.set_title(\" FTLE field \")\n",
    "ax.set_xlabel(\"x (m)\")\n",
    "ax.set_ylabel(\"y (m)\")"
   ]
  }
 ],
 "metadata": {
  "kernelspec": {
   "display_name": "Julia 1.9.2",
   "language": "julia",
   "name": "julia-1.9"
  },
  "language_info": {
   "file_extension": ".jl",
   "mimetype": "application/julia",
   "name": "julia",
   "version": "1.9.2"
  }
 },
 "nbformat": 4,
 "nbformat_minor": 5
}
