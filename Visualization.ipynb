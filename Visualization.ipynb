{
 "cells": [
  {
   "cell_type": "code",
   "execution_count": 1,
   "id": "ebd7e939",
   "metadata": {},
   "outputs": [],
   "source": [
    "using FileIO, ImageMagick, Colors, FixedPointNumbers, DelimitedFiles, PyPlot, LinearAlgebra, HDF5"
   ]
  },
  {
   "cell_type": "markdown",
   "id": "68467c63",
   "metadata": {},
   "source": [
    "### Upload velocity, airfoil position and vorticity contours"
   ]
  },
  {
   "cell_type": "code",
   "execution_count": 2,
   "id": "ce3fb7d7",
   "metadata": {},
   "outputs": [
    {
     "name": "stdout",
     "output_type": "stream",
     "text": [
      "DONE"
     ]
    }
   ],
   "source": [
    "data =  \"C:/Users/jjser/Desktop/Julia_FTLE_Karthik_Data/airfoil2D_f0.15_amp25deg_KM/data_JJ\"\n",
    "name = \"VelData.h\"\n",
    "vel = h5open(joinpath(data,name), \"r\") do file\n",
    "    read(file, \"A\")\n",
    "end\n",
    "print(\"DONE\")"
   ]
  },
  {
   "cell_type": "code",
   "execution_count": 3,
   "id": "4920ac72",
   "metadata": {},
   "outputs": [
    {
     "name": "stdout",
     "output_type": "stream",
     "text": [
      "DONE"
     ]
    }
   ],
   "source": [
    "name =  \"BvoData.h\"\n",
    "bvo = h5open(joinpath(data,name), \"r\") do file\n",
    "    read(file, \"A\")\n",
    "end\n",
    "print(\"DONE\")"
   ]
  },
  {
   "cell_type": "code",
   "execution_count": 4,
   "id": "3b310b45",
   "metadata": {},
   "outputs": [
    {
     "name": "stdout",
     "output_type": "stream",
     "text": [
      "DONE"
     ]
    }
   ],
   "source": [
    "name =  \"xR.h\"\n",
    "x_range = h5open(joinpath(data,name), \"r\") do file\n",
    "    read(file, \"A\")\n",
    "end\n",
    "name =  \"yR.h\"\n",
    "y_range = h5open(joinpath(data,name), \"r\") do file\n",
    "    read(file, \"A\")\n",
    "end\n",
    "print(\"DONE\")"
   ]
  },
  {
   "cell_type": "markdown",
   "id": "1d24aaef",
   "metadata": {},
   "source": [
    "### Upload particle position and FTLE data"
   ]
  },
  {
   "cell_type": "code",
   "execution_count": null,
   "id": "dfa74be8",
   "metadata": {},
   "outputs": [],
   "source": [
    "name = \"p500.h\" \n",
    "p500 = h5open(joinpath(data,name), \"r\") do file\n",
    "    read(file, \"A\")\n",
    "end\n",
    "name = \"n500.h\"\n",
    "n500 = h5open(joinpath(data,name), \"r\") do file\n",
    "    read(file, \"A\")\n",
    "end\n",
    "print(\"DONE\")"
   ]
  },
  {
   "cell_type": "markdown",
   "id": "c2b7f8ff",
   "metadata": {},
   "source": [
    "<div class=\"alert alert-block alert-success\">  \n",
    "These will have 122 timesteps\n",
    "</div>"
   ]
  },
  {
   "cell_type": "markdown",
   "id": "b26d6d87",
   "metadata": {},
   "source": [
    "## Plotting figures"
   ]
  },
  {
   "cell_type": "markdown",
   "id": "0b301132",
   "metadata": {},
   "source": [
    "### Plot flow map at a certain time step"
   ]
  },
  {
   "cell_type": "code",
   "execution_count": null,
   "id": "10894fee",
   "metadata": {},
   "outputs": [],
   "source": [
    "function fm(o, t, levels, save=false)\n",
    "    fig, ax = subplots(figsize=(18.5,10.5))\n",
    "    cm = ax.contourf(o[1,1,:,:],o[2,1,:,:],o[1,t,:,:], cmap=ColorMap(\"rainbow\"), levels=levels)\n",
    "    fig.colorbar(cm)\n",
    "    #title(\"Flow Map at \"*string(move*(t-1)*tstep_delta+t_0) *\"ms\")\n",
    "    if save == true\n",
    "        savefig(joinpath(data, name * string(t) * \".png\"), dpi=100)\n",
    "        close()\n",
    "    end\n",
    "end"
   ]
  },
  {
   "cell_type": "markdown",
   "id": "5964b8dd",
   "metadata": {},
   "source": [
    "### Plot FTLE field for both forward and backward time at a certain timestep"
   ]
  },
  {
   "cell_type": "code",
   "execution_count": null,
   "id": "150e1eba",
   "metadata": {},
   "outputs": [],
   "source": [
    "function ftle(p, n, lim, t, save=false)\n",
    "    x = p[1,1,:,:]\n",
    "    y = p[2,1,:,:]\n",
    "    pos = (p[3,t,:,:] .> lim * maximum(p[3,t,:,:])) .|> Int\n",
    "    neg = (n[3,t,:,:] .> lim * maximum(n[3,t,:,:])) .|> Int\n",
    "    fig, ax = subplots(figsize=(9.25,5.25))\n",
    "    levels = range(0, 1,length=3) .+ 0.5\n",
    "    ax.contourf(x,y,pos,cmap=ColorMap(\"Blues\"),levels=levels, alpha=0.5, zorder=1)\n",
    "    ax.contourf(x,y,neg,cmap=ColorMap(\"Reds\") ,levels=levels, alpha=0.5, zorder=2)\n",
    "end"
   ]
  },
  {
   "cell_type": "markdown",
   "id": "8dcf63b1",
   "metadata": {},
   "source": [
    "#### 500 by 400 resolution takes around 1 hour"
   ]
  },
  {
   "cell_type": "code",
   "execution_count": null,
   "id": "4c61df58",
   "metadata": {},
   "outputs": [],
   "source": [
    "fm(p500,61,range(9,13,length=50))\n",
    "fm(n500,61,range(7,11,length=50))"
   ]
  },
  {
   "cell_type": "code",
   "execution_count": null,
   "id": "8aaa1ca5",
   "metadata": {},
   "outputs": [],
   "source": [
    "ftle(p500, n500, 0.8, 122)"
   ]
  },
  {
   "cell_type": "markdown",
   "id": "1c101dbf",
   "metadata": {},
   "source": [
    "### Plot particle flow"
   ]
  },
  {
   "cell_type": "raw",
   "id": "e628dc6d",
   "metadata": {},
   "source": [
    "Can't do plotAll for now because Vel contour doesn't have the same specs as particles"
   ]
  },
  {
   "cell_type": "code",
   "execution_count": null,
   "id": "78844cd3",
   "metadata": {},
   "outputs": [],
   "source": [
    "function PlotAll(field, ts, save=false)\n",
    "    fig, ax = subplots(figsize=(18.5,10.5))\n",
    "    time = Int(tstep_start+(ts-1)*tstep_delta)\n",
    "    ax.quiver(x_range[1:end-1],y_range[1:end-1],Vel_contour[1,ts,:,:],Vel_contour[2,ts,:,:], zorder=2)\n",
    "    levels = range(0, 1,length=3) .+ 0.5\n",
    "    ax.contourf(x_contour[1:end-1],y_contour[1:end-1],misc_contour[1,ts,:,:], levels=levels,cmap=ColorMap(\"PuOr\"), zorder=1)\n",
    "    m = maximum(misc_contour[2,1,:,:])\n",
    "    step = m/30\n",
    "    levels = range(-1.0,1.0,length=30)\n",
    "    ax.contourf(x_contour[1:end-1],y_contour[1:end-1],misc_contour[2,ts,:,:],levels=levels,cmap=ColorMap(\"RdBu_r\"),extend=\"both\",zorder=0, alpha=0.5)\n",
    "    \n",
    "    ax.scatter(field[1,ts,:,:],field[2,ts,:,:],marker=\"s\",color=\"pink\", zorder=3)\n",
    "    ax.set_title(\"This is the original at time \" * string(time) * \"ms\")\n",
    "    varname = lpad(time,7,'0')\n",
    "    ax.set_xlim([x_start_loc,x_end_loc])\n",
    "    ax.set_ylim([y_start_loc,y_end_loc])\n",
    "    if save==true\n",
    "        savefig(joinpath(overall_path, save_path, folder, name * \"_\" * varname * \".png\"), dpi=100)\n",
    "    cat   close()\n",
    "    end\n",
    "end"
   ]
  },
  {
   "cell_type": "code",
   "execution_count": null,
   "id": "8b22b1c0",
   "metadata": {},
   "outputs": [],
   "source": []
  },
  {
   "cell_type": "code",
   "execution_count": null,
   "id": "066112cb",
   "metadata": {},
   "outputs": [],
   "source": []
  },
  {
   "cell_type": "code",
   "execution_count": null,
   "id": "c486f1f5",
   "metadata": {},
   "outputs": [],
   "source": []
  },
  {
   "cell_type": "code",
   "execution_count": null,
   "id": "58a1562c",
   "metadata": {},
   "outputs": [],
   "source": []
  },
  {
   "cell_type": "code",
   "execution_count": null,
   "id": "96db3a3b",
   "metadata": {},
   "outputs": [],
   "source": []
  }
 ],
 "metadata": {
  "kernelspec": {
   "display_name": "Julia 1.9.1",
   "language": "julia",
   "name": "julia-1.9"
  },
  "language_info": {
   "file_extension": ".jl",
   "mimetype": "application/julia",
   "name": "julia",
   "version": "1.9.1"
  }
 },
 "nbformat": 4,
 "nbformat_minor": 5
}
